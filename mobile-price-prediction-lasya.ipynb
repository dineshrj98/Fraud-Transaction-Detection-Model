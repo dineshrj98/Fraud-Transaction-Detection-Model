{
 "cells": [
  {
   "cell_type": "markdown",
   "metadata": {
    "papermill": {
     "duration": 0.014379,
     "end_time": "2020-08-30T10:31:58.388257",
     "exception": false,
     "start_time": "2020-08-30T10:31:58.373878",
     "status": "completed"
    },
    "tags": []
   },
   "source": [
    "# Step 1: Importing Libraries"
   ]
  },
  {
   "cell_type": "code",
   "execution_count": 39,
   "metadata": {
    "execution": {
     "iopub.execute_input": "2020-08-30T10:31:58.414878Z",
     "iopub.status.busy": "2020-08-30T10:31:58.414233Z",
     "iopub.status.idle": "2020-08-30T10:32:00.653979Z",
     "shell.execute_reply": "2020-08-30T10:32:00.652526Z"
    },
    "papermill": {
     "duration": 2.254146,
     "end_time": "2020-08-30T10:32:00.654143",
     "exception": false,
     "start_time": "2020-08-30T10:31:58.399997",
     "status": "completed"
    },
    "tags": []
   },
   "outputs": [],
   "source": [
    "# Data analysis tools\n",
    "import pandas as pd\n",
    "import numpy as np\n",
    "\n",
    "# Data Visualization Tools\n",
    "import seaborn as sns\n",
    "import matplotlib.pyplot as plt\n",
    "\n",
    "# Data Pre-Processing Libraries\n",
    "from sklearn.preprocessing import LabelEncoder,StandardScaler\n",
    "\n",
    "# For Train-Test Split\n",
    "from sklearn.model_selection import train_test_split\n",
    "\n",
    "# Libraries for various Algorithms\n",
    "from sklearn.linear_model import LogisticRegression\n",
    "from sklearn.naive_bayes import GaussianNB\n",
    "from sklearn.neighbors import KNeighborsClassifier\n",
    "from sklearn.svm import SVC\n",
    "from sklearn.ensemble import RandomForestClassifier, GradientBoostingClassifier, AdaBoostClassifier\n",
    "from xgboost.sklearn import XGBClassifier\n",
    "from sklearn.tree import DecisionTreeClassifier\n",
    "\n",
    "# Metrics Tools\n",
    "from sklearn.metrics import classification_report, confusion_matrix\n",
    "from sklearn.metrics import accuracy_score, f1_score\n",
    "\n",
    "#For Receiver Operating Characteristic (ROC)\n",
    "from sklearn.metrics import roc_curve ,roc_auc_score, auc"
   ]
  },
  {
   "cell_type": "markdown",
   "metadata": {
    "papermill": {
     "duration": 0.014014,
     "end_time": "2020-08-30T10:32:00.683038",
     "exception": false,
     "start_time": "2020-08-30T10:32:00.669024",
     "status": "completed"
    },
    "tags": []
   },
   "source": [
    "# Step 2: Loading the Dataset"
   ]
  },
  {
   "cell_type": "code",
   "execution_count": 40,
   "metadata": {
    "execution": {
     "iopub.execute_input": "2020-08-30T10:32:00.714979Z",
     "iopub.status.busy": "2020-08-30T10:32:00.714375Z",
     "iopub.status.idle": "2020-08-30T10:32:00.754969Z",
     "shell.execute_reply": "2020-08-30T10:32:00.754398Z"
    },
    "papermill": {
     "duration": 0.06075,
     "end_time": "2020-08-30T10:32:00.755083",
     "exception": false,
     "start_time": "2020-08-30T10:32:00.694333",
     "status": "completed"
    },
    "tags": []
   },
   "outputs": [
    {
     "data": {
      "text/html": [
       "<div>\n",
       "<style scoped>\n",
       "    .dataframe tbody tr th:only-of-type {\n",
       "        vertical-align: middle;\n",
       "    }\n",
       "\n",
       "    .dataframe tbody tr th {\n",
       "        vertical-align: top;\n",
       "    }\n",
       "\n",
       "    .dataframe thead th {\n",
       "        text-align: right;\n",
       "    }\n",
       "</style>\n",
       "<table border=\"1\" class=\"dataframe\">\n",
       "  <thead>\n",
       "    <tr style=\"text-align: right;\">\n",
       "      <th></th>\n",
       "      <th>battery_power</th>\n",
       "      <th>blue</th>\n",
       "      <th>clock_speed</th>\n",
       "      <th>dual_sim</th>\n",
       "      <th>fc</th>\n",
       "      <th>four_g</th>\n",
       "      <th>int_memory</th>\n",
       "      <th>m_dep</th>\n",
       "      <th>mobile_wt</th>\n",
       "      <th>n_cores</th>\n",
       "      <th>...</th>\n",
       "      <th>px_height</th>\n",
       "      <th>px_width</th>\n",
       "      <th>ram</th>\n",
       "      <th>sc_h</th>\n",
       "      <th>sc_w</th>\n",
       "      <th>talk_time</th>\n",
       "      <th>three_g</th>\n",
       "      <th>touch_screen</th>\n",
       "      <th>wifi</th>\n",
       "      <th>price_range</th>\n",
       "    </tr>\n",
       "  </thead>\n",
       "  <tbody>\n",
       "    <tr>\n",
       "      <th>0</th>\n",
       "      <td>842</td>\n",
       "      <td>0</td>\n",
       "      <td>2.2</td>\n",
       "      <td>0</td>\n",
       "      <td>1</td>\n",
       "      <td>0</td>\n",
       "      <td>7</td>\n",
       "      <td>0.6</td>\n",
       "      <td>188</td>\n",
       "      <td>2</td>\n",
       "      <td>...</td>\n",
       "      <td>20</td>\n",
       "      <td>756</td>\n",
       "      <td>2549</td>\n",
       "      <td>9</td>\n",
       "      <td>7</td>\n",
       "      <td>19</td>\n",
       "      <td>0</td>\n",
       "      <td>0</td>\n",
       "      <td>1</td>\n",
       "      <td>1</td>\n",
       "    </tr>\n",
       "    <tr>\n",
       "      <th>1</th>\n",
       "      <td>1021</td>\n",
       "      <td>1</td>\n",
       "      <td>0.5</td>\n",
       "      <td>1</td>\n",
       "      <td>0</td>\n",
       "      <td>1</td>\n",
       "      <td>53</td>\n",
       "      <td>0.7</td>\n",
       "      <td>136</td>\n",
       "      <td>3</td>\n",
       "      <td>...</td>\n",
       "      <td>905</td>\n",
       "      <td>1988</td>\n",
       "      <td>2631</td>\n",
       "      <td>17</td>\n",
       "      <td>3</td>\n",
       "      <td>7</td>\n",
       "      <td>1</td>\n",
       "      <td>1</td>\n",
       "      <td>0</td>\n",
       "      <td>2</td>\n",
       "    </tr>\n",
       "    <tr>\n",
       "      <th>2</th>\n",
       "      <td>563</td>\n",
       "      <td>1</td>\n",
       "      <td>0.5</td>\n",
       "      <td>1</td>\n",
       "      <td>2</td>\n",
       "      <td>1</td>\n",
       "      <td>41</td>\n",
       "      <td>0.9</td>\n",
       "      <td>145</td>\n",
       "      <td>5</td>\n",
       "      <td>...</td>\n",
       "      <td>1263</td>\n",
       "      <td>1716</td>\n",
       "      <td>2603</td>\n",
       "      <td>11</td>\n",
       "      <td>2</td>\n",
       "      <td>9</td>\n",
       "      <td>1</td>\n",
       "      <td>1</td>\n",
       "      <td>0</td>\n",
       "      <td>2</td>\n",
       "    </tr>\n",
       "    <tr>\n",
       "      <th>3</th>\n",
       "      <td>615</td>\n",
       "      <td>1</td>\n",
       "      <td>2.5</td>\n",
       "      <td>0</td>\n",
       "      <td>0</td>\n",
       "      <td>0</td>\n",
       "      <td>10</td>\n",
       "      <td>0.8</td>\n",
       "      <td>131</td>\n",
       "      <td>6</td>\n",
       "      <td>...</td>\n",
       "      <td>1216</td>\n",
       "      <td>1786</td>\n",
       "      <td>2769</td>\n",
       "      <td>16</td>\n",
       "      <td>8</td>\n",
       "      <td>11</td>\n",
       "      <td>1</td>\n",
       "      <td>0</td>\n",
       "      <td>0</td>\n",
       "      <td>2</td>\n",
       "    </tr>\n",
       "    <tr>\n",
       "      <th>4</th>\n",
       "      <td>1821</td>\n",
       "      <td>1</td>\n",
       "      <td>1.2</td>\n",
       "      <td>0</td>\n",
       "      <td>13</td>\n",
       "      <td>1</td>\n",
       "      <td>44</td>\n",
       "      <td>0.6</td>\n",
       "      <td>141</td>\n",
       "      <td>2</td>\n",
       "      <td>...</td>\n",
       "      <td>1208</td>\n",
       "      <td>1212</td>\n",
       "      <td>1411</td>\n",
       "      <td>8</td>\n",
       "      <td>2</td>\n",
       "      <td>15</td>\n",
       "      <td>1</td>\n",
       "      <td>1</td>\n",
       "      <td>0</td>\n",
       "      <td>1</td>\n",
       "    </tr>\n",
       "  </tbody>\n",
       "</table>\n",
       "<p>5 rows × 21 columns</p>\n",
       "</div>"
      ],
      "text/plain": [
       "   battery_power  blue  clock_speed  dual_sim  fc  four_g  int_memory  m_dep  \\\n",
       "0            842     0          2.2         0   1       0           7    0.6   \n",
       "1           1021     1          0.5         1   0       1          53    0.7   \n",
       "2            563     1          0.5         1   2       1          41    0.9   \n",
       "3            615     1          2.5         0   0       0          10    0.8   \n",
       "4           1821     1          1.2         0  13       1          44    0.6   \n",
       "\n",
       "   mobile_wt  n_cores  ...  px_height  px_width   ram  sc_h  sc_w  talk_time  \\\n",
       "0        188        2  ...         20       756  2549     9     7         19   \n",
       "1        136        3  ...        905      1988  2631    17     3          7   \n",
       "2        145        5  ...       1263      1716  2603    11     2          9   \n",
       "3        131        6  ...       1216      1786  2769    16     8         11   \n",
       "4        141        2  ...       1208      1212  1411     8     2         15   \n",
       "\n",
       "   three_g  touch_screen  wifi  price_range  \n",
       "0        0             0     1            1  \n",
       "1        1             1     0            2  \n",
       "2        1             1     0            2  \n",
       "3        1             0     0            2  \n",
       "4        1             1     0            1  \n",
       "\n",
       "[5 rows x 21 columns]"
      ]
     },
     "execution_count": 40,
     "metadata": {},
     "output_type": "execute_result"
    }
   ],
   "source": [
    "train = pd.read_csv('train.csv')\n",
    "train.head()"
   ]
  },
  {
   "cell_type": "markdown",
   "metadata": {
    "papermill": {
     "duration": 0.011141,
     "end_time": "2020-08-30T10:32:00.777836",
     "exception": false,
     "start_time": "2020-08-30T10:32:00.766695",
     "status": "completed"
    },
    "tags": []
   },
   "source": [
    "# Step 3: Understanding the Structure of the Dataset"
   ]
  },
  {
   "cell_type": "code",
   "execution_count": 41,
   "metadata": {
    "execution": {
     "iopub.execute_input": "2020-08-30T10:32:00.808497Z",
     "iopub.status.busy": "2020-08-30T10:32:00.807435Z",
     "iopub.status.idle": "2020-08-30T10:32:00.826653Z",
     "shell.execute_reply": "2020-08-30T10:32:00.826133Z"
    },
    "papermill": {
     "duration": 0.037666,
     "end_time": "2020-08-30T10:32:00.826791",
     "exception": false,
     "start_time": "2020-08-30T10:32:00.789125",
     "status": "completed"
    },
    "tags": []
   },
   "outputs": [
    {
     "name": "stdout",
     "output_type": "stream",
     "text": [
      "<class 'pandas.core.frame.DataFrame'>\n",
      "RangeIndex: 2000 entries, 0 to 1999\n",
      "Data columns (total 21 columns):\n",
      " #   Column         Non-Null Count  Dtype  \n",
      "---  ------         --------------  -----  \n",
      " 0   battery_power  2000 non-null   int64  \n",
      " 1   blue           2000 non-null   int64  \n",
      " 2   clock_speed    2000 non-null   float64\n",
      " 3   dual_sim       2000 non-null   int64  \n",
      " 4   fc             2000 non-null   int64  \n",
      " 5   four_g         2000 non-null   int64  \n",
      " 6   int_memory     2000 non-null   int64  \n",
      " 7   m_dep          2000 non-null   float64\n",
      " 8   mobile_wt      2000 non-null   int64  \n",
      " 9   n_cores        2000 non-null   int64  \n",
      " 10  pc             2000 non-null   int64  \n",
      " 11  px_height      2000 non-null   int64  \n",
      " 12  px_width       2000 non-null   int64  \n",
      " 13  ram            2000 non-null   int64  \n",
      " 14  sc_h           2000 non-null   int64  \n",
      " 15  sc_w           2000 non-null   int64  \n",
      " 16  talk_time      2000 non-null   int64  \n",
      " 17  three_g        2000 non-null   int64  \n",
      " 18  touch_screen   2000 non-null   int64  \n",
      " 19  wifi           2000 non-null   int64  \n",
      " 20  price_range    2000 non-null   int64  \n",
      "dtypes: float64(2), int64(19)\n",
      "memory usage: 328.2 KB\n"
     ]
    }
   ],
   "source": [
    "train.info()"
   ]
  },
  {
   "cell_type": "markdown",
   "metadata": {
    "papermill": {
     "duration": 0.011375,
     "end_time": "2020-08-30T10:32:00.850595",
     "exception": false,
     "start_time": "2020-08-30T10:32:00.839220",
     "status": "completed"
    },
    "tags": []
   },
   "source": [
    "# Step 4: Data Pre-Processing\n",
    "\n",
    "   # a) Treating Missing Values"
   ]
  },
  {
   "cell_type": "code",
   "execution_count": 42,
   "metadata": {
    "execution": {
     "iopub.execute_input": "2020-08-30T10:32:00.878052Z",
     "iopub.status.busy": "2020-08-30T10:32:00.877393Z",
     "iopub.status.idle": "2020-08-30T10:32:00.886398Z",
     "shell.execute_reply": "2020-08-30T10:32:00.885810Z"
    },
    "papermill": {
     "duration": 0.024139,
     "end_time": "2020-08-30T10:32:00.886503",
     "exception": false,
     "start_time": "2020-08-30T10:32:00.862364",
     "status": "completed"
    },
    "tags": []
   },
   "outputs": [
    {
     "data": {
      "text/plain": [
       "battery_power    0\n",
       "blue             0\n",
       "clock_speed      0\n",
       "dual_sim         0\n",
       "fc               0\n",
       "four_g           0\n",
       "int_memory       0\n",
       "m_dep            0\n",
       "mobile_wt        0\n",
       "n_cores          0\n",
       "pc               0\n",
       "px_height        0\n",
       "px_width         0\n",
       "ram              0\n",
       "sc_h             0\n",
       "sc_w             0\n",
       "talk_time        0\n",
       "three_g          0\n",
       "touch_screen     0\n",
       "wifi             0\n",
       "price_range      0\n",
       "dtype: int64"
      ]
     },
     "execution_count": 42,
     "metadata": {},
     "output_type": "execute_result"
    }
   ],
   "source": [
    "train.isnull().sum()"
   ]
  },
  {
   "cell_type": "markdown",
   "metadata": {
    "papermill": {
     "duration": 0.011757,
     "end_time": "2020-08-30T10:32:00.911035",
     "exception": false,
     "start_time": "2020-08-30T10:32:00.899278",
     "status": "completed"
    },
    "tags": []
   },
   "source": [
    "<b> No Missing Values in the dataset. Hence no treatment for missing values required</b>"
   ]
  },
  {
   "cell_type": "code",
   "execution_count": 43,
   "metadata": {
    "execution": {
     "iopub.execute_input": "2020-08-30T10:32:00.941338Z",
     "iopub.status.busy": "2020-08-30T10:32:00.940554Z",
     "iopub.status.idle": "2020-08-30T10:32:00.944372Z",
     "shell.execute_reply": "2020-08-30T10:32:00.944738Z"
    },
    "papermill": {
     "duration": 0.021835,
     "end_time": "2020-08-30T10:32:00.944892",
     "exception": false,
     "start_time": "2020-08-30T10:32:00.923057",
     "status": "completed"
    },
    "tags": []
   },
   "outputs": [
    {
     "data": {
      "text/plain": [
       "Index(['battery_power', 'blue', 'clock_speed', 'dual_sim', 'fc', 'four_g',\n",
       "       'int_memory', 'm_dep', 'mobile_wt', 'n_cores', 'pc', 'px_height',\n",
       "       'px_width', 'ram', 'sc_h', 'sc_w', 'talk_time', 'three_g',\n",
       "       'touch_screen', 'wifi', 'price_range'],\n",
       "      dtype='object')"
      ]
     },
     "execution_count": 43,
     "metadata": {},
     "output_type": "execute_result"
    }
   ],
   "source": [
    "train.columns"
   ]
  },
  {
   "cell_type": "markdown",
   "metadata": {
    "papermill": {
     "duration": 0.012513,
     "end_time": "2020-08-30T10:32:00.969519",
     "exception": false,
     "start_time": "2020-08-30T10:32:00.957006",
     "status": "completed"
    },
    "tags": []
   },
   "source": [
    "# b) Checking Imbalance"
   ]
  },
  {
   "cell_type": "code",
   "execution_count": 44,
   "metadata": {
    "execution": {
     "iopub.execute_input": "2020-08-30T10:32:00.997468Z",
     "iopub.status.busy": "2020-08-30T10:32:00.996876Z",
     "iopub.status.idle": "2020-08-30T10:32:01.162963Z",
     "shell.execute_reply": "2020-08-30T10:32:01.163412Z"
    },
    "papermill": {
     "duration": 0.181761,
     "end_time": "2020-08-30T10:32:01.163588",
     "exception": false,
     "start_time": "2020-08-30T10:32:00.981827",
     "status": "completed"
    },
    "tags": []
   },
   "outputs": [
    {
     "name": "stderr",
     "output_type": "stream",
     "text": [
      "C:\\Users\\dines\\anaconda3\\lib\\site-packages\\seaborn\\_decorators.py:36: FutureWarning: Pass the following variable as a keyword arg: x. From version 0.12, the only valid positional argument will be `data`, and passing other arguments without an explicit keyword will result in an error or misinterpretation.\n",
      "  warnings.warn(\n"
     ]
    },
    {
     "data": {
      "text/plain": [
       "Text(0.5, 1.0, 'Checking imbalance')"
      ]
     },
     "execution_count": 44,
     "metadata": {},
     "output_type": "execute_result"
    },
    {
     "data": {
      "image/png": "[encoded data removed]",
      "text/plain": [
       "<Figure size 432x288 with 1 Axes>"
      ]
     },
     "metadata": {
      "needs_background": "light"
     },
     "output_type": "display_data"
    }
   ],
   "source": [
    "sns.countplot(train[\"price_range\"])\n",
    "plt.xlabel(\"Class\")\n",
    "plt.ylabel(\"frequency\")\n",
    "plt.title(\"Checking imbalance\")"
   ]
  },
  {
   "cell_type": "code",
   "execution_count": 45,
   "metadata": {
    "execution": {
     "iopub.execute_input": "2020-08-30T10:32:01.192888Z",
     "iopub.status.busy": "2020-08-30T10:32:01.192242Z",
     "iopub.status.idle": "2020-08-30T10:32:01.315498Z",
     "shell.execute_reply": "2020-08-30T10:32:01.316140Z"
    },
    "papermill": {
     "duration": 0.139651,
     "end_time": "2020-08-30T10:32:01.316338",
     "exception": false,
     "start_time": "2020-08-30T10:32:01.176687",
     "status": "completed"
    },
    "tags": []
   },
   "outputs": [
    {
     "name": "stderr",
     "output_type": "stream",
     "text": [
      "C:\\Users\\dines\\anaconda3\\lib\\site-packages\\seaborn\\distributions.py:2557: FutureWarning: `distplot` is a deprecated function and will be removed in a future version. Please adapt your code to use either `displot` (a figure-level function with similar flexibility) or `kdeplot` (an axes-level function for kernel density plots).\n",
      "  warnings.warn(msg, FutureWarning)\n"
     ]
    },
    {
     "data": {
      "image/png": "[encoded data removed]",
      "text/plain": [
       "<Figure size 432x288 with 1 Axes>"
      ]
     },
     "metadata": {
      "needs_background": "light"
     },
     "output_type": "display_data"
    }
   ],
   "source": [
    "sns.distplot(train.skew(),hist=False)\n",
    "plt.show()"
   ]
  },
  {
   "cell_type": "code",
   "execution_count": 46,
   "metadata": {
    "execution": {
     "iopub.execute_input": "2020-08-30T10:32:01.346268Z",
     "iopub.status.busy": "2020-08-30T10:32:01.345677Z",
     "iopub.status.idle": "2020-08-30T10:32:01.358276Z",
     "shell.execute_reply": "2020-08-30T10:32:01.357758Z"
    },
    "papermill": {
     "duration": 0.028265,
     "end_time": "2020-08-30T10:32:01.358392",
     "exception": false,
     "start_time": "2020-08-30T10:32:01.330127",
     "status": "completed"
    },
    "tags": []
   },
   "outputs": [
    {
     "name": "stdout",
     "output_type": "stream",
     "text": [
      "battery_power     763.50\n",
      "blue                1.00\n",
      "clock_speed         1.50\n",
      "dual_sim            1.00\n",
      "fc                  6.00\n",
      "four_g              1.00\n",
      "int_memory         32.00\n",
      "m_dep               0.60\n",
      "mobile_wt          61.00\n",
      "n_cores             4.00\n",
      "pc                 10.00\n",
      "px_height         664.50\n",
      "px_width          758.25\n",
      "ram              1857.00\n",
      "sc_h                7.00\n",
      "sc_w                7.00\n",
      "talk_time          10.00\n",
      "three_g             0.00\n",
      "touch_screen        1.00\n",
      "wifi                1.00\n",
      "price_range         1.50\n",
      "dtype: float64\n"
     ]
    }
   ],
   "source": [
    "# Printing interquartile range (IQR) for each column\n",
    "Q1 = train.quantile(0.25)\n",
    "Q3 = train.quantile(0.75)\n",
    "IQR = Q3 - Q1\n",
    "print(IQR)"
   ]
  },
  {
   "cell_type": "code",
   "execution_count": 47,
   "metadata": {
    "execution": {
     "iopub.execute_input": "2020-08-30T10:32:01.396856Z",
     "iopub.status.busy": "2020-08-30T10:32:01.396210Z",
     "iopub.status.idle": "2020-08-30T10:32:01.793430Z",
     "shell.execute_reply": "2020-08-30T10:32:01.792723Z"
    },
    "papermill": {
     "duration": 0.421699,
     "end_time": "2020-08-30T10:32:01.793558",
     "exception": false,
     "start_time": "2020-08-30T10:32:01.371859",
     "status": "completed"
    },
    "tags": []
   },
   "outputs": [
    {
     "data": {
      "image/png": "[encoded data removed]",
      "text/plain": [
       "<Figure size 432x288 with 1 Axes>"
      ]
     },
     "metadata": {
      "needs_background": "light"
     },
     "output_type": "display_data"
    },
    {
     "data": {
      "image/png": "[encoded data removed]",
      "text/plain": [
       "<Figure size 432x288 with 1 Axes>"
      ]
     },
     "metadata": {
      "needs_background": "light"
     },
     "output_type": "display_data"
    },
    {
     "data": {
      "image/png": "[encoded data removed]",
      "text/plain": [
       "<Figure size 432x288 with 1 Axes>"
      ]
     },
     "metadata": {
      "needs_background": "light"
     },
     "output_type": "display_data"
    },
    {
     "data": {
      "image/png": "[encoded data removed]",
      "text/plain": [
       "<Figure size 432x288 with 1 Axes>"
      ]
     },
     "metadata": {
      "needs_background": "light"
     },
     "output_type": "display_data"
    }
   ],
   "source": [
    "# Boxplot visualization for columns with high IQR\n",
    "\n",
    "plt.boxplot([train[\"battery_power\"]])\n",
    "plt.xticks([1],[\"battery_power\"])\n",
    "plt.show()\n",
    "plt.boxplot([train[\"px_height\"]])\n",
    "plt.xticks([1],[\"px_height\"])\n",
    "plt.show()\n",
    "plt.boxplot([train[\"px_width\"]])\n",
    "plt.xticks([1],[\"px_width\"])\n",
    "plt.show()\n",
    "plt.boxplot([train[\"ram\"]])\n",
    "plt.xticks([1],[\"ram\"])\n",
    "plt.show()"
   ]
  },
  {
   "cell_type": "markdown",
   "metadata": {
    "papermill": {
     "duration": 0.014352,
     "end_time": "2020-08-30T10:32:01.821930",
     "exception": false,
     "start_time": "2020-08-30T10:32:01.807578",
     "status": "completed"
    },
    "tags": []
   },
   "source": [
    "The outliers are very low. Hence, we dont need to treat any outliers."
   ]
  },
  {
   "cell_type": "markdown",
   "metadata": {
    "papermill": {
     "duration": 0.013283,
     "end_time": "2020-08-30T10:32:01.849661",
     "exception": false,
     "start_time": "2020-08-30T10:32:01.836378",
     "status": "completed"
    },
    "tags": []
   },
   "source": [
    "# Step 5: Data Visualization"
   ]
  },
  {
   "cell_type": "code",
   "execution_count": 48,
   "metadata": {
    "execution": {
     "iopub.execute_input": "2020-08-30T10:32:01.882954Z",
     "iopub.status.busy": "2020-08-30T10:32:01.882317Z",
     "iopub.status.idle": "2020-08-30T10:32:01.917046Z",
     "shell.execute_reply": "2020-08-30T10:32:01.917469Z"
    },
    "papermill": {
     "duration": 0.054144,
     "end_time": "2020-08-30T10:32:01.917636",
     "exception": false,
     "start_time": "2020-08-30T10:32:01.863492",
     "status": "completed"
    },
    "tags": []
   },
   "outputs": [
    {
     "data": {
      "text/html": [
       "<div>\n",
       "<style scoped>\n",
       "    .dataframe tbody tr th:only-of-type {\n",
       "        vertical-align: middle;\n",
       "    }\n",
       "\n",
       "    .dataframe tbody tr th {\n",
       "        vertical-align: top;\n",
       "    }\n",
       "\n",
       "    .dataframe thead th {\n",
       "        text-align: right;\n",
       "    }\n",
       "</style>\n",
       "<table border=\"1\" class=\"dataframe\">\n",
       "  <thead>\n",
       "    <tr style=\"text-align: right;\">\n",
       "      <th></th>\n",
       "      <th>battery_power</th>\n",
       "      <th>blue</th>\n",
       "      <th>clock_speed</th>\n",
       "      <th>dual_sim</th>\n",
       "      <th>fc</th>\n",
       "      <th>four_g</th>\n",
       "      <th>int_memory</th>\n",
       "      <th>m_dep</th>\n",
       "      <th>mobile_wt</th>\n",
       "      <th>n_cores</th>\n",
       "      <th>...</th>\n",
       "      <th>px_height</th>\n",
       "      <th>px_width</th>\n",
       "      <th>ram</th>\n",
       "      <th>sc_h</th>\n",
       "      <th>sc_w</th>\n",
       "      <th>talk_time</th>\n",
       "      <th>three_g</th>\n",
       "      <th>touch_screen</th>\n",
       "      <th>wifi</th>\n",
       "      <th>price_range</th>\n",
       "    </tr>\n",
       "  </thead>\n",
       "  <tbody>\n",
       "    <tr>\n",
       "      <th>battery_power</th>\n",
       "      <td>1.000000</td>\n",
       "      <td>0.011252</td>\n",
       "      <td>0.011482</td>\n",
       "      <td>-0.041847</td>\n",
       "      <td>0.033334</td>\n",
       "      <td>0.015665</td>\n",
       "      <td>-0.004004</td>\n",
       "      <td>0.034085</td>\n",
       "      <td>0.001844</td>\n",
       "      <td>-0.029727</td>\n",
       "      <td>...</td>\n",
       "      <td>0.014901</td>\n",
       "      <td>-0.008402</td>\n",
       "      <td>-0.000653</td>\n",
       "      <td>-0.029959</td>\n",
       "      <td>-0.021421</td>\n",
       "      <td>0.052510</td>\n",
       "      <td>0.011522</td>\n",
       "      <td>-0.010516</td>\n",
       "      <td>-0.008343</td>\n",
       "      <td>0.200723</td>\n",
       "    </tr>\n",
       "    <tr>\n",
       "      <th>blue</th>\n",
       "      <td>0.011252</td>\n",
       "      <td>1.000000</td>\n",
       "      <td>0.021419</td>\n",
       "      <td>0.035198</td>\n",
       "      <td>0.003593</td>\n",
       "      <td>0.013443</td>\n",
       "      <td>0.041177</td>\n",
       "      <td>0.004049</td>\n",
       "      <td>-0.008605</td>\n",
       "      <td>0.036161</td>\n",
       "      <td>...</td>\n",
       "      <td>-0.006872</td>\n",
       "      <td>-0.041533</td>\n",
       "      <td>0.026351</td>\n",
       "      <td>-0.002952</td>\n",
       "      <td>0.000613</td>\n",
       "      <td>0.013934</td>\n",
       "      <td>-0.030236</td>\n",
       "      <td>0.010061</td>\n",
       "      <td>-0.021863</td>\n",
       "      <td>0.020573</td>\n",
       "    </tr>\n",
       "    <tr>\n",
       "      <th>clock_speed</th>\n",
       "      <td>0.011482</td>\n",
       "      <td>0.021419</td>\n",
       "      <td>1.000000</td>\n",
       "      <td>-0.001315</td>\n",
       "      <td>-0.000434</td>\n",
       "      <td>-0.043073</td>\n",
       "      <td>0.006545</td>\n",
       "      <td>-0.014364</td>\n",
       "      <td>0.012350</td>\n",
       "      <td>-0.005724</td>\n",
       "      <td>...</td>\n",
       "      <td>-0.014523</td>\n",
       "      <td>-0.009476</td>\n",
       "      <td>0.003443</td>\n",
       "      <td>-0.029078</td>\n",
       "      <td>-0.007378</td>\n",
       "      <td>-0.011432</td>\n",
       "      <td>-0.046433</td>\n",
       "      <td>0.019756</td>\n",
       "      <td>-0.024471</td>\n",
       "      <td>-0.006606</td>\n",
       "    </tr>\n",
       "    <tr>\n",
       "      <th>dual_sim</th>\n",
       "      <td>-0.041847</td>\n",
       "      <td>0.035198</td>\n",
       "      <td>-0.001315</td>\n",
       "      <td>1.000000</td>\n",
       "      <td>-0.029123</td>\n",
       "      <td>0.003187</td>\n",
       "      <td>-0.015679</td>\n",
       "      <td>-0.022142</td>\n",
       "      <td>-0.008979</td>\n",
       "      <td>-0.024658</td>\n",
       "      <td>...</td>\n",
       "      <td>-0.020875</td>\n",
       "      <td>0.014291</td>\n",
       "      <td>0.041072</td>\n",
       "      <td>-0.011949</td>\n",
       "      <td>-0.016666</td>\n",
       "      <td>-0.039404</td>\n",
       "      <td>-0.014008</td>\n",
       "      <td>-0.017117</td>\n",
       "      <td>0.022740</td>\n",
       "      <td>0.017444</td>\n",
       "    </tr>\n",
       "    <tr>\n",
       "      <th>fc</th>\n",
       "      <td>0.033334</td>\n",
       "      <td>0.003593</td>\n",
       "      <td>-0.000434</td>\n",
       "      <td>-0.029123</td>\n",
       "      <td>1.000000</td>\n",
       "      <td>-0.016560</td>\n",
       "      <td>-0.029133</td>\n",
       "      <td>-0.001791</td>\n",
       "      <td>0.023618</td>\n",
       "      <td>-0.013356</td>\n",
       "      <td>...</td>\n",
       "      <td>-0.009990</td>\n",
       "      <td>-0.005176</td>\n",
       "      <td>0.015099</td>\n",
       "      <td>-0.011014</td>\n",
       "      <td>-0.012373</td>\n",
       "      <td>-0.006829</td>\n",
       "      <td>0.001793</td>\n",
       "      <td>-0.014828</td>\n",
       "      <td>0.020085</td>\n",
       "      <td>0.021998</td>\n",
       "    </tr>\n",
       "    <tr>\n",
       "      <th>four_g</th>\n",
       "      <td>0.015665</td>\n",
       "      <td>0.013443</td>\n",
       "      <td>-0.043073</td>\n",
       "      <td>0.003187</td>\n",
       "      <td>-0.016560</td>\n",
       "      <td>1.000000</td>\n",
       "      <td>0.008690</td>\n",
       "      <td>-0.001823</td>\n",
       "      <td>-0.016537</td>\n",
       "      <td>-0.029706</td>\n",
       "      <td>...</td>\n",
       "      <td>-0.019236</td>\n",
       "      <td>0.007448</td>\n",
       "      <td>0.007313</td>\n",
       "      <td>0.027166</td>\n",
       "      <td>0.037005</td>\n",
       "      <td>-0.046628</td>\n",
       "      <td>0.584246</td>\n",
       "      <td>0.016758</td>\n",
       "      <td>-0.017620</td>\n",
       "      <td>0.014772</td>\n",
       "    </tr>\n",
       "    <tr>\n",
       "      <th>int_memory</th>\n",
       "      <td>-0.004004</td>\n",
       "      <td>0.041177</td>\n",
       "      <td>0.006545</td>\n",
       "      <td>-0.015679</td>\n",
       "      <td>-0.029133</td>\n",
       "      <td>0.008690</td>\n",
       "      <td>1.000000</td>\n",
       "      <td>0.006886</td>\n",
       "      <td>-0.034214</td>\n",
       "      <td>-0.028310</td>\n",
       "      <td>...</td>\n",
       "      <td>0.010441</td>\n",
       "      <td>-0.008335</td>\n",
       "      <td>0.032813</td>\n",
       "      <td>0.037771</td>\n",
       "      <td>0.011731</td>\n",
       "      <td>-0.002790</td>\n",
       "      <td>-0.009366</td>\n",
       "      <td>-0.026999</td>\n",
       "      <td>0.006993</td>\n",
       "      <td>0.044435</td>\n",
       "    </tr>\n",
       "    <tr>\n",
       "      <th>m_dep</th>\n",
       "      <td>0.034085</td>\n",
       "      <td>0.004049</td>\n",
       "      <td>-0.014364</td>\n",
       "      <td>-0.022142</td>\n",
       "      <td>-0.001791</td>\n",
       "      <td>-0.001823</td>\n",
       "      <td>0.006886</td>\n",
       "      <td>1.000000</td>\n",
       "      <td>0.021756</td>\n",
       "      <td>-0.003504</td>\n",
       "      <td>...</td>\n",
       "      <td>0.025263</td>\n",
       "      <td>0.023566</td>\n",
       "      <td>-0.009434</td>\n",
       "      <td>-0.025348</td>\n",
       "      <td>-0.018388</td>\n",
       "      <td>0.017003</td>\n",
       "      <td>-0.012065</td>\n",
       "      <td>-0.002638</td>\n",
       "      <td>-0.028353</td>\n",
       "      <td>0.000853</td>\n",
       "    </tr>\n",
       "    <tr>\n",
       "      <th>mobile_wt</th>\n",
       "      <td>0.001844</td>\n",
       "      <td>-0.008605</td>\n",
       "      <td>0.012350</td>\n",
       "      <td>-0.008979</td>\n",
       "      <td>0.023618</td>\n",
       "      <td>-0.016537</td>\n",
       "      <td>-0.034214</td>\n",
       "      <td>0.021756</td>\n",
       "      <td>1.000000</td>\n",
       "      <td>-0.018989</td>\n",
       "      <td>...</td>\n",
       "      <td>0.000939</td>\n",
       "      <td>0.000090</td>\n",
       "      <td>-0.002581</td>\n",
       "      <td>-0.033855</td>\n",
       "      <td>-0.020761</td>\n",
       "      <td>0.006209</td>\n",
       "      <td>0.001551</td>\n",
       "      <td>-0.014368</td>\n",
       "      <td>-0.000409</td>\n",
       "      <td>-0.030302</td>\n",
       "    </tr>\n",
       "    <tr>\n",
       "      <th>n_cores</th>\n",
       "      <td>-0.029727</td>\n",
       "      <td>0.036161</td>\n",
       "      <td>-0.005724</td>\n",
       "      <td>-0.024658</td>\n",
       "      <td>-0.013356</td>\n",
       "      <td>-0.029706</td>\n",
       "      <td>-0.028310</td>\n",
       "      <td>-0.003504</td>\n",
       "      <td>-0.018989</td>\n",
       "      <td>1.000000</td>\n",
       "      <td>...</td>\n",
       "      <td>-0.006872</td>\n",
       "      <td>0.024480</td>\n",
       "      <td>0.004868</td>\n",
       "      <td>-0.000315</td>\n",
       "      <td>0.025826</td>\n",
       "      <td>0.013148</td>\n",
       "      <td>-0.014733</td>\n",
       "      <td>0.023774</td>\n",
       "      <td>-0.009964</td>\n",
       "      <td>0.004399</td>\n",
       "    </tr>\n",
       "    <tr>\n",
       "      <th>pc</th>\n",
       "      <td>0.031441</td>\n",
       "      <td>-0.009952</td>\n",
       "      <td>-0.005245</td>\n",
       "      <td>-0.017143</td>\n",
       "      <td>0.644595</td>\n",
       "      <td>-0.005598</td>\n",
       "      <td>-0.033273</td>\n",
       "      <td>0.026282</td>\n",
       "      <td>0.018844</td>\n",
       "      <td>-0.001193</td>\n",
       "      <td>...</td>\n",
       "      <td>-0.018465</td>\n",
       "      <td>0.004196</td>\n",
       "      <td>0.028984</td>\n",
       "      <td>0.004938</td>\n",
       "      <td>-0.023819</td>\n",
       "      <td>0.014657</td>\n",
       "      <td>-0.001322</td>\n",
       "      <td>-0.008742</td>\n",
       "      <td>0.005389</td>\n",
       "      <td>0.033599</td>\n",
       "    </tr>\n",
       "    <tr>\n",
       "      <th>px_height</th>\n",
       "      <td>0.014901</td>\n",
       "      <td>-0.006872</td>\n",
       "      <td>-0.014523</td>\n",
       "      <td>-0.020875</td>\n",
       "      <td>-0.009990</td>\n",
       "      <td>-0.019236</td>\n",
       "      <td>0.010441</td>\n",
       "      <td>0.025263</td>\n",
       "      <td>0.000939</td>\n",
       "      <td>-0.006872</td>\n",
       "      <td>...</td>\n",
       "      <td>1.000000</td>\n",
       "      <td>0.510664</td>\n",
       "      <td>-0.020352</td>\n",
       "      <td>0.059615</td>\n",
       "      <td>0.043038</td>\n",
       "      <td>-0.010645</td>\n",
       "      <td>-0.031174</td>\n",
       "      <td>0.021891</td>\n",
       "      <td>0.051824</td>\n",
       "      <td>0.148858</td>\n",
       "    </tr>\n",
       "    <tr>\n",
       "      <th>px_width</th>\n",
       "      <td>-0.008402</td>\n",
       "      <td>-0.041533</td>\n",
       "      <td>-0.009476</td>\n",
       "      <td>0.014291</td>\n",
       "      <td>-0.005176</td>\n",
       "      <td>0.007448</td>\n",
       "      <td>-0.008335</td>\n",
       "      <td>0.023566</td>\n",
       "      <td>0.000090</td>\n",
       "      <td>0.024480</td>\n",
       "      <td>...</td>\n",
       "      <td>0.510664</td>\n",
       "      <td>1.000000</td>\n",
       "      <td>0.004105</td>\n",
       "      <td>0.021599</td>\n",
       "      <td>0.034699</td>\n",
       "      <td>0.006720</td>\n",
       "      <td>0.000350</td>\n",
       "      <td>-0.001628</td>\n",
       "      <td>0.030319</td>\n",
       "      <td>0.165818</td>\n",
       "    </tr>\n",
       "    <tr>\n",
       "      <th>ram</th>\n",
       "      <td>-0.000653</td>\n",
       "      <td>0.026351</td>\n",
       "      <td>0.003443</td>\n",
       "      <td>0.041072</td>\n",
       "      <td>0.015099</td>\n",
       "      <td>0.007313</td>\n",
       "      <td>0.032813</td>\n",
       "      <td>-0.009434</td>\n",
       "      <td>-0.002581</td>\n",
       "      <td>0.004868</td>\n",
       "      <td>...</td>\n",
       "      <td>-0.020352</td>\n",
       "      <td>0.004105</td>\n",
       "      <td>1.000000</td>\n",
       "      <td>0.015996</td>\n",
       "      <td>0.035576</td>\n",
       "      <td>0.010820</td>\n",
       "      <td>0.015795</td>\n",
       "      <td>-0.030455</td>\n",
       "      <td>0.022669</td>\n",
       "      <td>0.917046</td>\n",
       "    </tr>\n",
       "    <tr>\n",
       "      <th>sc_h</th>\n",
       "      <td>-0.029959</td>\n",
       "      <td>-0.002952</td>\n",
       "      <td>-0.029078</td>\n",
       "      <td>-0.011949</td>\n",
       "      <td>-0.011014</td>\n",
       "      <td>0.027166</td>\n",
       "      <td>0.037771</td>\n",
       "      <td>-0.025348</td>\n",
       "      <td>-0.033855</td>\n",
       "      <td>-0.000315</td>\n",
       "      <td>...</td>\n",
       "      <td>0.059615</td>\n",
       "      <td>0.021599</td>\n",
       "      <td>0.015996</td>\n",
       "      <td>1.000000</td>\n",
       "      <td>0.506144</td>\n",
       "      <td>-0.017335</td>\n",
       "      <td>0.012033</td>\n",
       "      <td>-0.020023</td>\n",
       "      <td>0.025929</td>\n",
       "      <td>0.022986</td>\n",
       "    </tr>\n",
       "    <tr>\n",
       "      <th>sc_w</th>\n",
       "      <td>-0.021421</td>\n",
       "      <td>0.000613</td>\n",
       "      <td>-0.007378</td>\n",
       "      <td>-0.016666</td>\n",
       "      <td>-0.012373</td>\n",
       "      <td>0.037005</td>\n",
       "      <td>0.011731</td>\n",
       "      <td>-0.018388</td>\n",
       "      <td>-0.020761</td>\n",
       "      <td>0.025826</td>\n",
       "      <td>...</td>\n",
       "      <td>0.043038</td>\n",
       "      <td>0.034699</td>\n",
       "      <td>0.035576</td>\n",
       "      <td>0.506144</td>\n",
       "      <td>1.000000</td>\n",
       "      <td>-0.022821</td>\n",
       "      <td>0.030941</td>\n",
       "      <td>0.012720</td>\n",
       "      <td>0.035423</td>\n",
       "      <td>0.038711</td>\n",
       "    </tr>\n",
       "    <tr>\n",
       "      <th>talk_time</th>\n",
       "      <td>0.052510</td>\n",
       "      <td>0.013934</td>\n",
       "      <td>-0.011432</td>\n",
       "      <td>-0.039404</td>\n",
       "      <td>-0.006829</td>\n",
       "      <td>-0.046628</td>\n",
       "      <td>-0.002790</td>\n",
       "      <td>0.017003</td>\n",
       "      <td>0.006209</td>\n",
       "      <td>0.013148</td>\n",
       "      <td>...</td>\n",
       "      <td>-0.010645</td>\n",
       "      <td>0.006720</td>\n",
       "      <td>0.010820</td>\n",
       "      <td>-0.017335</td>\n",
       "      <td>-0.022821</td>\n",
       "      <td>1.000000</td>\n",
       "      <td>-0.042688</td>\n",
       "      <td>0.017196</td>\n",
       "      <td>-0.029504</td>\n",
       "      <td>0.021859</td>\n",
       "    </tr>\n",
       "    <tr>\n",
       "      <th>three_g</th>\n",
       "      <td>0.011522</td>\n",
       "      <td>-0.030236</td>\n",
       "      <td>-0.046433</td>\n",
       "      <td>-0.014008</td>\n",
       "      <td>0.001793</td>\n",
       "      <td>0.584246</td>\n",
       "      <td>-0.009366</td>\n",
       "      <td>-0.012065</td>\n",
       "      <td>0.001551</td>\n",
       "      <td>-0.014733</td>\n",
       "      <td>...</td>\n",
       "      <td>-0.031174</td>\n",
       "      <td>0.000350</td>\n",
       "      <td>0.015795</td>\n",
       "      <td>0.012033</td>\n",
       "      <td>0.030941</td>\n",
       "      <td>-0.042688</td>\n",
       "      <td>1.000000</td>\n",
       "      <td>0.013917</td>\n",
       "      <td>0.004316</td>\n",
       "      <td>0.023611</td>\n",
       "    </tr>\n",
       "    <tr>\n",
       "      <th>touch_screen</th>\n",
       "      <td>-0.010516</td>\n",
       "      <td>0.010061</td>\n",
       "      <td>0.019756</td>\n",
       "      <td>-0.017117</td>\n",
       "      <td>-0.014828</td>\n",
       "      <td>0.016758</td>\n",
       "      <td>-0.026999</td>\n",
       "      <td>-0.002638</td>\n",
       "      <td>-0.014368</td>\n",
       "      <td>0.023774</td>\n",
       "      <td>...</td>\n",
       "      <td>0.021891</td>\n",
       "      <td>-0.001628</td>\n",
       "      <td>-0.030455</td>\n",
       "      <td>-0.020023</td>\n",
       "      <td>0.012720</td>\n",
       "      <td>0.017196</td>\n",
       "      <td>0.013917</td>\n",
       "      <td>1.000000</td>\n",
       "      <td>0.011917</td>\n",
       "      <td>-0.030411</td>\n",
       "    </tr>\n",
       "    <tr>\n",
       "      <th>wifi</th>\n",
       "      <td>-0.008343</td>\n",
       "      <td>-0.021863</td>\n",
       "      <td>-0.024471</td>\n",
       "      <td>0.022740</td>\n",
       "      <td>0.020085</td>\n",
       "      <td>-0.017620</td>\n",
       "      <td>0.006993</td>\n",
       "      <td>-0.028353</td>\n",
       "      <td>-0.000409</td>\n",
       "      <td>-0.009964</td>\n",
       "      <td>...</td>\n",
       "      <td>0.051824</td>\n",
       "      <td>0.030319</td>\n",
       "      <td>0.022669</td>\n",
       "      <td>0.025929</td>\n",
       "      <td>0.035423</td>\n",
       "      <td>-0.029504</td>\n",
       "      <td>0.004316</td>\n",
       "      <td>0.011917</td>\n",
       "      <td>1.000000</td>\n",
       "      <td>0.018785</td>\n",
       "    </tr>\n",
       "    <tr>\n",
       "      <th>price_range</th>\n",
       "      <td>0.200723</td>\n",
       "      <td>0.020573</td>\n",
       "      <td>-0.006606</td>\n",
       "      <td>0.017444</td>\n",
       "      <td>0.021998</td>\n",
       "      <td>0.014772</td>\n",
       "      <td>0.044435</td>\n",
       "      <td>0.000853</td>\n",
       "      <td>-0.030302</td>\n",
       "      <td>0.004399</td>\n",
       "      <td>...</td>\n",
       "      <td>0.148858</td>\n",
       "      <td>0.165818</td>\n",
       "      <td>0.917046</td>\n",
       "      <td>0.022986</td>\n",
       "      <td>0.038711</td>\n",
       "      <td>0.021859</td>\n",
       "      <td>0.023611</td>\n",
       "      <td>-0.030411</td>\n",
       "      <td>0.018785</td>\n",
       "      <td>1.000000</td>\n",
       "    </tr>\n",
       "  </tbody>\n",
       "</table>\n",
       "<p>21 rows × 21 columns</p>\n",
       "</div>"
      ],
      "text/plain": [
       "               battery_power      blue  clock_speed  dual_sim        fc  \\\n",
       "battery_power       1.000000  0.011252     0.011482 -0.041847  0.033334   \n",
       "blue                0.011252  1.000000     0.021419  0.035198  0.003593   \n",
       "clock_speed         0.011482  0.021419     1.000000 -0.001315 -0.000434   \n",
       "dual_sim           -0.041847  0.035198    -0.001315  1.000000 -0.029123   \n",
       "fc                  0.033334  0.003593    -0.000434 -0.029123  1.000000   \n",
       "four_g              0.015665  0.013443    -0.043073  0.003187 -0.016560   \n",
       "int_memory         -0.004004  0.041177     0.006545 -0.015679 -0.029133   \n",
       "m_dep               0.034085  0.004049    -0.014364 -0.022142 -0.001791   \n",
       "mobile_wt           0.001844 -0.008605     0.012350 -0.008979  0.023618   \n",
       "n_cores            -0.029727  0.036161    -0.005724 -0.024658 -0.013356   \n",
       "pc                  0.031441 -0.009952    -0.005245 -0.017143  0.644595   \n",
       "px_height           0.014901 -0.006872    -0.014523 -0.020875 -0.009990   \n",
       "px_width           -0.008402 -0.041533    -0.009476  0.014291 -0.005176   \n",
       "ram                -0.000653  0.026351     0.003443  0.041072  0.015099   \n",
       "sc_h               -0.029959 -0.002952    -0.029078 -0.011949 -0.011014   \n",
       "sc_w               -0.021421  0.000613    -0.007378 -0.016666 -0.012373   \n",
       "talk_time           0.052510  0.013934    -0.011432 -0.039404 -0.006829   \n",
       "three_g             0.011522 -0.030236    -0.046433 -0.014008  0.001793   \n",
       "touch_screen       -0.010516  0.010061     0.019756 -0.017117 -0.014828   \n",
       "wifi               -0.008343 -0.021863    -0.024471  0.022740  0.020085   \n",
       "price_range         0.200723  0.020573    -0.006606  0.017444  0.021998   \n",
       "\n",
       "                 four_g  int_memory     m_dep  mobile_wt   n_cores  ...  \\\n",
       "battery_power  0.015665   -0.004004  0.034085   0.001844 -0.029727  ...   \n",
       "blue           0.013443    0.041177  0.004049  -0.008605  0.036161  ...   \n",
       "clock_speed   -0.043073    0.006545 -0.014364   0.012350 -0.005724  ...   \n",
       "dual_sim       0.003187   -0.015679 -0.022142  -0.008979 -0.024658  ...   \n",
       "fc            -0.016560   -0.029133 -0.001791   0.023618 -0.013356  ...   \n",
       "four_g         1.000000    0.008690 -0.001823  -0.016537 -0.029706  ...   \n",
       "int_memory     0.008690    1.000000  0.006886  -0.034214 -0.028310  ...   \n",
       "m_dep         -0.001823    0.006886  1.000000   0.021756 -0.003504  ...   \n",
       "mobile_wt     -0.016537   -0.034214  0.021756   1.000000 -0.018989  ...   \n",
       "n_cores       -0.029706   -0.028310 -0.003504  -0.018989  1.000000  ...   \n",
       "pc            -0.005598   -0.033273  0.026282   0.018844 -0.001193  ...   \n",
       "px_height     -0.019236    0.010441  0.025263   0.000939 -0.006872  ...   \n",
       "px_width       0.007448   -0.008335  0.023566   0.000090  0.024480  ...   \n",
       "ram            0.007313    0.032813 -0.009434  -0.002581  0.004868  ...   \n",
       "sc_h           0.027166    0.037771 -0.025348  -0.033855 -0.000315  ...   \n",
       "sc_w           0.037005    0.011731 -0.018388  -0.020761  0.025826  ...   \n",
       "talk_time     -0.046628   -0.002790  0.017003   0.006209  0.013148  ...   \n",
       "three_g        0.584246   -0.009366 -0.012065   0.001551 -0.014733  ...   \n",
       "touch_screen   0.016758   -0.026999 -0.002638  -0.014368  0.023774  ...   \n",
       "wifi          -0.017620    0.006993 -0.028353  -0.000409 -0.009964  ...   \n",
       "price_range    0.014772    0.044435  0.000853  -0.030302  0.004399  ...   \n",
       "\n",
       "               px_height  px_width       ram      sc_h      sc_w  talk_time  \\\n",
       "battery_power   0.014901 -0.008402 -0.000653 -0.029959 -0.021421   0.052510   \n",
       "blue           -0.006872 -0.041533  0.026351 -0.002952  0.000613   0.013934   \n",
       "clock_speed    -0.014523 -0.009476  0.003443 -0.029078 -0.007378  -0.011432   \n",
       "dual_sim       -0.020875  0.014291  0.041072 -0.011949 -0.016666  -0.039404   \n",
       "fc             -0.009990 -0.005176  0.015099 -0.011014 -0.012373  -0.006829   \n",
       "four_g         -0.019236  0.007448  0.007313  0.027166  0.037005  -0.046628   \n",
       "int_memory      0.010441 -0.008335  0.032813  0.037771  0.011731  -0.002790   \n",
       "m_dep           0.025263  0.023566 -0.009434 -0.025348 -0.018388   0.017003   \n",
       "mobile_wt       0.000939  0.000090 -0.002581 -0.033855 -0.020761   0.006209   \n",
       "n_cores        -0.006872  0.024480  0.004868 -0.000315  0.025826   0.013148   \n",
       "pc             -0.018465  0.004196  0.028984  0.004938 -0.023819   0.014657   \n",
       "px_height       1.000000  0.510664 -0.020352  0.059615  0.043038  -0.010645   \n",
       "px_width        0.510664  1.000000  0.004105  0.021599  0.034699   0.006720   \n",
       "ram            -0.020352  0.004105  1.000000  0.015996  0.035576   0.010820   \n",
       "sc_h            0.059615  0.021599  0.015996  1.000000  0.506144  -0.017335   \n",
       "sc_w            0.043038  0.034699  0.035576  0.506144  1.000000  -0.022821   \n",
       "talk_time      -0.010645  0.006720  0.010820 -0.017335 -0.022821   1.000000   \n",
       "three_g        -0.031174  0.000350  0.015795  0.012033  0.030941  -0.042688   \n",
       "touch_screen    0.021891 -0.001628 -0.030455 -0.020023  0.012720   0.017196   \n",
       "wifi            0.051824  0.030319  0.022669  0.025929  0.035423  -0.029504   \n",
       "price_range     0.148858  0.165818  0.917046  0.022986  0.038711   0.021859   \n",
       "\n",
       "                three_g  touch_screen      wifi  price_range  \n",
       "battery_power  0.011522     -0.010516 -0.008343     0.200723  \n",
       "blue          -0.030236      0.010061 -0.021863     0.020573  \n",
       "clock_speed   -0.046433      0.019756 -0.024471    -0.006606  \n",
       "dual_sim      -0.014008     -0.017117  0.022740     0.017444  \n",
       "fc             0.001793     -0.014828  0.020085     0.021998  \n",
       "four_g         0.584246      0.016758 -0.017620     0.014772  \n",
       "int_memory    -0.009366     -0.026999  0.006993     0.044435  \n",
       "m_dep         -0.012065     -0.002638 -0.028353     0.000853  \n",
       "mobile_wt      0.001551     -0.014368 -0.000409    -0.030302  \n",
       "n_cores       -0.014733      0.023774 -0.009964     0.004399  \n",
       "pc            -0.001322     -0.008742  0.005389     0.033599  \n",
       "px_height     -0.031174      0.021891  0.051824     0.148858  \n",
       "px_width       0.000350     -0.001628  0.030319     0.165818  \n",
       "ram            0.015795     -0.030455  0.022669     0.917046  \n",
       "sc_h           0.012033     -0.020023  0.025929     0.022986  \n",
       "sc_w           0.030941      0.012720  0.035423     0.038711  \n",
       "talk_time     -0.042688      0.017196 -0.029504     0.021859  \n",
       "three_g        1.000000      0.013917  0.004316     0.023611  \n",
       "touch_screen   0.013917      1.000000  0.011917    -0.030411  \n",
       "wifi           0.004316      0.011917  1.000000     0.018785  \n",
       "price_range    0.023611     -0.030411  0.018785     1.000000  \n",
       "\n",
       "[21 rows x 21 columns]"
      ]
     },
     "execution_count": 48,
     "metadata": {},
     "output_type": "execute_result"
    }
   ],
   "source": [
    "train.corr()"
   ]
  },
  {
   "cell_type": "code",
   "execution_count": 49,
   "metadata": {
    "execution": {
     "iopub.execute_input": "2020-08-30T10:32:01.954610Z",
     "iopub.status.busy": "2020-08-30T10:32:01.953768Z",
     "iopub.status.idle": "2020-08-30T10:32:03.571274Z",
     "shell.execute_reply": "2020-08-30T10:32:03.571711Z"
    },
    "papermill": {
     "duration": 1.639679,
     "end_time": "2020-08-30T10:32:03.571883",
     "exception": false,
     "start_time": "2020-08-30T10:32:01.932204",
     "status": "completed"
    },
    "tags": []
   },
   "outputs": [
    {
     "data": {
      "text/plain": [
       "<AxesSubplot:>"
      ]
     },
     "execution_count": 49,
     "metadata": {},
     "output_type": "execute_result"
    },
    {
     "data": {
      "image/png": "[encoded data removed]",
      "text/plain": [
       "<Figure size 1080x864 with 2 Axes>"
      ]
     },
     "metadata": {
      "needs_background": "light"
     },
     "output_type": "display_data"
    }
   ],
   "source": [
    "fig = plt.figure(figsize=(15,12))\n",
    "sns.heatmap(train.corr(),cmap = \"RdYlGn\", annot = True)"
   ]
  },
  {
   "cell_type": "code",
   "execution_count": 50,
   "metadata": {
    "execution": {
     "iopub.execute_input": "2020-08-30T10:32:03.609222Z",
     "iopub.status.busy": "2020-08-30T10:32:03.608506Z",
     "iopub.status.idle": "2020-08-30T10:32:03.611756Z",
     "shell.execute_reply": "2020-08-30T10:32:03.612231Z"
    },
    "papermill": {
     "duration": 0.024745,
     "end_time": "2020-08-30T10:32:03.612361",
     "exception": false,
     "start_time": "2020-08-30T10:32:03.587616",
     "status": "completed"
    },
    "tags": []
   },
   "outputs": [
    {
     "data": {
      "text/plain": [
       "array([1, 2, 3, 0], dtype=int64)"
      ]
     },
     "execution_count": 50,
     "metadata": {},
     "output_type": "execute_result"
    }
   ],
   "source": [
    "train['price_range'].unique()"
   ]
  },
  {
   "cell_type": "code",
   "execution_count": 110,
   "metadata": {
    "execution": {
     "iopub.execute_input": "2020-08-30T10:32:03.647195Z",
     "iopub.status.busy": "2020-08-30T10:32:03.646579Z",
     "iopub.status.idle": "2020-08-30T10:32:06.274571Z",
     "shell.execute_reply": "2020-08-30T10:32:06.274130Z"
    },
    "papermill": {
     "duration": 2.646721,
     "end_time": "2020-08-30T10:32:06.274680",
     "exception": false,
     "start_time": "2020-08-30T10:32:03.627959",
     "status": "completed"
    },
    "tags": []
   },
   "outputs": [
    {
     "data": {
      "text/plain": [
       "<seaborn.axisgrid.PairGrid at 0x17727f37250>"
      ]
     },
     "execution_count": 110,
     "metadata": {},
     "output_type": "execute_result"
    },
    {
     "data": {
      "image/png": "[encoded data removed]",
      "text/plain": [
       "<Figure size 3600x180 with 20 Axes>"
      ]
     },
     "metadata": {
      "needs_background": "light"
     },
     "output_type": "display_data"
    }
   ],
   "source": [
    "import seaborn as sns\n",
    "sns.pairplot(data=train,y_vars=['price_range'],x_vars=['battery_power', 'blue', 'clock_speed', 'dual_sim', 'fc', 'four_g',\n",
    "       'int_memory', 'm_dep', 'mobile_wt', 'n_cores', 'pc', 'px_height',\n",
    "       'px_width', 'ram', 'sc_h', 'sc_w', 'talk_time', 'three_g',\n",
    "       'touch_screen', 'wifi'])"
   ]
  },
  {
   "cell_type": "code",
   "execution_count": 52,
   "metadata": {
    "execution": {
     "iopub.execute_input": "2020-08-30T10:32:06.313222Z",
     "iopub.status.busy": "2020-08-30T10:32:06.312415Z",
     "iopub.status.idle": "2020-08-30T10:32:06.322889Z",
     "shell.execute_reply": "2020-08-30T10:32:06.322118Z"
    },
    "papermill": {
     "duration": 0.031487,
     "end_time": "2020-08-30T10:32:06.323007",
     "exception": false,
     "start_time": "2020-08-30T10:32:06.291520",
     "status": "completed"
    },
    "tags": []
   },
   "outputs": [
    {
     "data": {
      "text/plain": [
       "battery_power    0.200723\n",
       "blue             0.020573\n",
       "clock_speed     -0.006606\n",
       "dual_sim         0.017444\n",
       "fc               0.021998\n",
       "four_g           0.014772\n",
       "int_memory       0.044435\n",
       "m_dep            0.000853\n",
       "mobile_wt       -0.030302\n",
       "n_cores          0.004399\n",
       "pc               0.033599\n",
       "px_height        0.148858\n",
       "px_width         0.165818\n",
       "ram              0.917046\n",
       "sc_h             0.022986\n",
       "sc_w             0.038711\n",
       "talk_time        0.021859\n",
       "three_g          0.023611\n",
       "touch_screen    -0.030411\n",
       "wifi             0.018785\n",
       "price_range      1.000000\n",
       "Name: price_range, dtype: float64"
      ]
     },
     "execution_count": 52,
     "metadata": {},
     "output_type": "execute_result"
    }
   ],
   "source": [
    "corr_matrix=train.corr()\n",
    "corr_matrix['price_range']"
   ]
  },
  {
   "cell_type": "code",
   "execution_count": 53,
   "metadata": {
    "execution": {
     "iopub.execute_input": "2020-08-30T10:32:06.364859Z",
     "iopub.status.busy": "2020-08-30T10:32:06.364250Z",
     "iopub.status.idle": "2020-08-30T10:32:06.457837Z",
     "shell.execute_reply": "2020-08-30T10:32:06.458262Z"
    },
    "papermill": {
     "duration": 0.118483,
     "end_time": "2020-08-30T10:32:06.458426",
     "exception": false,
     "start_time": "2020-08-30T10:32:06.339943",
     "status": "completed"
    },
    "tags": []
   },
   "outputs": [
    {
     "name": "stderr",
     "output_type": "stream",
     "text": [
      "C:\\Users\\dines\\anaconda3\\lib\\site-packages\\seaborn\\_decorators.py:36: FutureWarning: Pass the following variable as a keyword arg: x. From version 0.12, the only valid positional argument will be `data`, and passing other arguments without an explicit keyword will result in an error or misinterpretation.\n",
      "  warnings.warn(\n"
     ]
    },
    {
     "data": {
      "image/png": "[encoded data removed]",
      "text/plain": [
       "<Figure size 432x288 with 1 Axes>"
      ]
     },
     "metadata": {
      "needs_background": "light"
     },
     "output_type": "display_data"
    }
   ],
   "source": [
    "sns.countplot(train['price_range'])\n",
    "plt.show()"
   ]
  },
  {
   "cell_type": "code",
   "execution_count": 54,
   "metadata": {
    "execution": {
     "iopub.execute_input": "2020-08-30T10:32:06.497925Z",
     "iopub.status.busy": "2020-08-30T10:32:06.497061Z",
     "iopub.status.idle": "2020-08-30T10:32:06.744730Z",
     "shell.execute_reply": "2020-08-30T10:32:06.744222Z"
    },
    "papermill": {
     "duration": 0.268196,
     "end_time": "2020-08-30T10:32:06.744871",
     "exception": false,
     "start_time": "2020-08-30T10:32:06.476675",
     "status": "completed"
    },
    "tags": []
   },
   "outputs": [
    {
     "name": "stderr",
     "output_type": "stream",
     "text": [
      "C:\\Users\\dines\\anaconda3\\lib\\site-packages\\seaborn\\_decorators.py:36: FutureWarning: Pass the following variables as keyword args: x, y. From version 0.12, the only valid positional argument will be `data`, and passing other arguments without an explicit keyword will result in an error or misinterpretation.\n",
      "  warnings.warn(\n"
     ]
    },
    {
     "data": {
      "text/plain": [
       "<AxesSubplot:xlabel='price_range', ylabel='talk_time'>"
      ]
     },
     "execution_count": 54,
     "metadata": {},
     "output_type": "execute_result"
    },
    {
     "data": {
      "image/png": "[encoded data removed]",
      "text/plain": [
       "<Figure size 432x288 with 1 Axes>"
      ]
     },
     "metadata": {
      "needs_background": "light"
     },
     "output_type": "display_data"
    }
   ],
   "source": [
    "sns.boxplot(train['price_range'],train['talk_time'])"
   ]
  },
  {
   "cell_type": "markdown",
   "metadata": {
    "papermill": {
     "duration": 0.018765,
     "end_time": "2020-08-30T10:32:06.782860",
     "exception": false,
     "start_time": "2020-08-30T10:32:06.764095",
     "status": "completed"
    },
    "tags": []
   },
   "source": [
    "<b>How does ram is affected by price</b>"
   ]
  },
  {
   "cell_type": "code",
   "execution_count": 55,
   "metadata": {
    "execution": {
     "iopub.execute_input": "2020-08-30T10:32:06.825678Z",
     "iopub.status.busy": "2020-08-30T10:32:06.825087Z",
     "iopub.status.idle": "2020-08-30T10:32:33.811441Z",
     "shell.execute_reply": "2020-08-30T10:32:33.810994Z"
    },
    "papermill": {
     "duration": 27.010152,
     "end_time": "2020-08-30T10:32:33.811555",
     "exception": false,
     "start_time": "2020-08-30T10:32:06.801403",
     "status": "completed"
    },
    "tags": []
   },
   "outputs": [
    {
     "data": {
      "text/plain": [
       "<AxesSubplot:xlabel='ram', ylabel='price_range'>"
      ]
     },
     "execution_count": 55,
     "metadata": {},
     "output_type": "execute_result"
    },
    {
     "data": {
      "image/png": "[encoded data removed]",
      "text/plain": [
       "<Figure size 432x288 with 1 Axes>"
      ]
     },
     "metadata": {
      "needs_background": "light"
     },
     "output_type": "display_data"
    }
   ],
   "source": [
    "sns.boxplot(x='ram',y='price_range',data=train,color='red')"
   ]
  },
  {
   "cell_type": "markdown",
   "metadata": {
    "papermill": {
     "duration": 0.017483,
     "end_time": "2020-08-30T10:32:33.847077",
     "exception": false,
     "start_time": "2020-08-30T10:32:33.829594",
     "status": "completed"
    },
    "tags": []
   },
   "source": [
    "Internal Memory vs Price Range"
   ]
  },
  {
   "cell_type": "code",
   "execution_count": 56,
   "metadata": {
    "execution": {
     "iopub.execute_input": "2020-08-30T10:32:33.886025Z",
     "iopub.status.busy": "2020-08-30T10:32:33.885400Z",
     "iopub.status.idle": "2020-08-30T10:32:34.104044Z",
     "shell.execute_reply": "2020-08-30T10:32:34.104462Z"
    },
    "papermill": {
     "duration": 0.239917,
     "end_time": "2020-08-30T10:32:34.104602",
     "exception": false,
     "start_time": "2020-08-30T10:32:33.864685",
     "status": "completed"
    },
    "tags": []
   },
   "outputs": [
    {
     "data": {
      "text/plain": [
       "<AxesSubplot:xlabel='price_range', ylabel='int_memory'>"
      ]
     },
     "execution_count": 56,
     "metadata": {},
     "output_type": "execute_result"
    },
    {
     "data": {
      "image/png": "[encoded data removed]",
      "text/plain": [
       "<Figure size 432x288 with 1 Axes>"
      ]
     },
     "metadata": {
      "needs_background": "light"
     },
     "output_type": "display_data"
    }
   ],
   "source": [
    "sns.pointplot(y=\"int_memory\", x=\"price_range\", data=train)"
   ]
  },
  {
   "cell_type": "markdown",
   "metadata": {
    "papermill": {
     "duration": 0.018005,
     "end_time": "2020-08-30T10:32:34.140560",
     "exception": false,
     "start_time": "2020-08-30T10:32:34.122555",
     "status": "completed"
    },
    "tags": []
   },
   "source": [
    "<b>3G supporting Phones vs Non supporting Phones</b>"
   ]
  },
  {
   "cell_type": "code",
   "execution_count": 57,
   "metadata": {
    "execution": {
     "iopub.execute_input": "2020-08-30T10:32:34.179204Z",
     "iopub.status.busy": "2020-08-30T10:32:34.178647Z",
     "iopub.status.idle": "2020-08-30T10:32:34.226232Z",
     "shell.execute_reply": "2020-08-30T10:32:34.226731Z"
    },
    "papermill": {
     "duration": 0.06851,
     "end_time": "2020-08-30T10:32:34.226887",
     "exception": false,
     "start_time": "2020-08-30T10:32:34.158377",
     "status": "completed"
    },
    "tags": []
   },
   "outputs": [
    {
     "data": {
      "image/png": "[encoded data removed]",
      "text/plain": [
       "<Figure size 432x288 with 1 Axes>"
      ]
     },
     "metadata": {},
     "output_type": "display_data"
    }
   ],
   "source": [
    "labels = [\"3G-supported\",'Not supported']\n",
    "values=train['three_g'].value_counts().values\n",
    "colors = ['green', 'red']\n",
    "_, ax = plt.subplots()\n",
    "ax.pie(values, labels=labels,colors=colors, autopct='%1.1f%%',shadow=True,startangle=90)\n",
    "plt.show()"
   ]
  },
  {
   "cell_type": "markdown",
   "metadata": {
    "papermill": {
     "duration": 0.01762,
     "end_time": "2020-08-30T10:32:34.262520",
     "exception": false,
     "start_time": "2020-08-30T10:32:34.244900",
     "status": "completed"
    },
    "tags": []
   },
   "source": [
    "<b>4G supporting Phones vs Non supporting Phones</b>"
   ]
  },
  {
   "cell_type": "code",
   "execution_count": 58,
   "metadata": {
    "execution": {
     "iopub.execute_input": "2020-08-30T10:32:34.304367Z",
     "iopub.status.busy": "2020-08-30T10:32:34.303787Z",
     "iopub.status.idle": "2020-08-30T10:32:34.350675Z",
     "shell.execute_reply": "2020-08-30T10:32:34.351194Z"
    },
    "papermill": {
     "duration": 0.069718,
     "end_time": "2020-08-30T10:32:34.351371",
     "exception": false,
     "start_time": "2020-08-30T10:32:34.281653",
     "status": "completed"
    },
    "tags": []
   },
   "outputs": [
    {
     "data": {
      "image/png": "[encoded data removed]",
      "text/plain": [
       "<Figure size 432x288 with 1 Axes>"
      ]
     },
     "metadata": {},
     "output_type": "display_data"
    }
   ],
   "source": [
    "labels = [\"4G-supported\",'Not supported']\n",
    "values=train['four_g'].value_counts().values\n",
    "colors = ['green', 'red']\n",
    "_, ax = plt.subplots()\n",
    "ax.pie(values, labels=labels,colors=colors, autopct='%1.1f%%',shadow=True,startangle=90)\n",
    "plt.show()"
   ]
  },
  {
   "cell_type": "markdown",
   "metadata": {
    "papermill": {
     "duration": 0.01892,
     "end_time": "2020-08-30T10:32:34.389849",
     "exception": false,
     "start_time": "2020-08-30T10:32:34.370929",
     "status": "completed"
    },
    "tags": []
   },
   "source": [
    "<b> No of Phones vs Camera megapixels of front and primary camera</b>"
   ]
  },
  {
   "cell_type": "code",
   "execution_count": 59,
   "metadata": {
    "execution": {
     "iopub.execute_input": "2020-08-30T10:32:34.432568Z",
     "iopub.status.busy": "2020-08-30T10:32:34.432000Z",
     "iopub.status.idle": "2020-08-30T10:32:34.671203Z",
     "shell.execute_reply": "2020-08-30T10:32:34.671614Z"
    },
    "papermill": {
     "duration": 0.262415,
     "end_time": "2020-08-30T10:32:34.671798",
     "exception": false,
     "start_time": "2020-08-30T10:32:34.409383",
     "status": "completed"
    },
    "tags": []
   },
   "outputs": [
    {
     "data": {
      "text/plain": [
       "Text(0.5, 0, 'MegaPixels')"
      ]
     },
     "execution_count": 59,
     "metadata": {},
     "output_type": "execute_result"
    },
    {
     "data": {
      "image/png": "[encoded data removed]",
      "text/plain": [
       "<Figure size 720x432 with 1 Axes>"
      ]
     },
     "metadata": {
      "needs_background": "light"
     },
     "output_type": "display_data"
    }
   ],
   "source": [
    "plt.figure(figsize=(10,6))\n",
    "train['fc'].hist(alpha=0.5,color='yellow',label='Front camera')\n",
    "train['pc'].hist(alpha=0.5,color='red',label='Primary camera')\n",
    "plt.legend()\n",
    "plt.xlabel('MegaPixels')"
   ]
  },
  {
   "cell_type": "markdown",
   "metadata": {
    "papermill": {
     "duration": 0.018717,
     "end_time": "2020-08-30T10:32:34.712043",
     "exception": false,
     "start_time": "2020-08-30T10:32:34.693326",
     "status": "completed"
    },
    "tags": []
   },
   "source": [
    "<b> Talk time vs Price range</b>"
   ]
  },
  {
   "cell_type": "code",
   "execution_count": 60,
   "metadata": {
    "execution": {
     "iopub.execute_input": "2020-08-30T10:32:34.805965Z",
     "iopub.status.busy": "2020-08-30T10:32:34.805376Z",
     "iopub.status.idle": "2020-08-30T10:32:35.031554Z",
     "shell.execute_reply": "2020-08-30T10:32:35.031063Z"
    },
    "papermill": {
     "duration": 0.30131,
     "end_time": "2020-08-30T10:32:35.031659",
     "exception": false,
     "start_time": "2020-08-30T10:32:34.730349",
     "status": "completed"
    },
    "tags": []
   },
   "outputs": [
    {
     "data": {
      "text/plain": [
       "<AxesSubplot:xlabel='price_range', ylabel='talk_time'>"
      ]
     },
     "execution_count": 60,
     "metadata": {},
     "output_type": "execute_result"
    },
    {
     "data": {
      "image/png": "[encoded data removed]",
      "text/plain": [
       "<Figure size 432x288 with 1 Axes>"
      ]
     },
     "metadata": {
      "needs_background": "light"
     },
     "output_type": "display_data"
    }
   ],
   "source": [
    "sns.pointplot(y=\"talk_time\", x=\"price_range\", data=train)"
   ]
  },
  {
   "cell_type": "markdown",
   "metadata": {
    "papermill": {
     "duration": 0.018466,
     "end_time": "2020-08-30T10:32:35.068588",
     "exception": false,
     "start_time": "2020-08-30T10:32:35.050122",
     "status": "completed"
    },
    "tags": []
   },
   "source": [
    "# Step 6: Defining the Tatget and Predictor Variables and Standard Scaling"
   ]
  },
  {
   "cell_type": "code",
   "execution_count": 61,
   "metadata": {
    "execution": {
     "iopub.execute_input": "2020-08-30T10:32:35.111480Z",
     "iopub.status.busy": "2020-08-30T10:32:35.110346Z",
     "iopub.status.idle": "2020-08-30T10:32:35.113908Z",
     "shell.execute_reply": "2020-08-30T10:32:35.113355Z"
    },
    "papermill": {
     "duration": 0.02675,
     "end_time": "2020-08-30T10:32:35.114030",
     "exception": false,
     "start_time": "2020-08-30T10:32:35.087280",
     "status": "completed"
    },
    "tags": []
   },
   "outputs": [],
   "source": [
    "scaler = StandardScaler()"
   ]
  },
  {
   "cell_type": "markdown",
   "metadata": {
    "papermill": {
     "duration": 0.019017,
     "end_time": "2020-08-30T10:32:35.153561",
     "exception": false,
     "start_time": "2020-08-30T10:32:35.134544",
     "status": "completed"
    },
    "tags": []
   },
   "source": [
    "<b> Selecting the Dependent and Independent variables and Scaling all the values </b>"
   ]
  },
  {
   "cell_type": "code",
   "execution_count": 62,
   "metadata": {
    "execution": {
     "iopub.execute_input": "2020-08-30T10:32:35.200649Z",
     "iopub.status.busy": "2020-08-30T10:32:35.199707Z",
     "iopub.status.idle": "2020-08-30T10:32:35.208648Z",
     "shell.execute_reply": "2020-08-30T10:32:35.209097Z"
    },
    "papermill": {
     "duration": 0.036018,
     "end_time": "2020-08-30T10:32:35.209285",
     "exception": false,
     "start_time": "2020-08-30T10:32:35.173267",
     "status": "completed"
    },
    "tags": []
   },
   "outputs": [],
   "source": [
    "X=train.drop('price_range',axis=1)\n",
    "y=train['price_range']\n",
    "\n",
    "scaler.fit(X)\n",
    "x = scaler.transform(X)\n",
    "\n",
    "x_train, x_test, y_train, y_test = train_test_split(x,y, test_size=0.30, random_state=0)"
   ]
  },
  {
   "cell_type": "markdown",
   "metadata": {
    "papermill": {
     "duration": 0.019347,
     "end_time": "2020-08-30T10:32:35.248696",
     "exception": false,
     "start_time": "2020-08-30T10:32:35.229349",
     "status": "completed"
    },
    "tags": []
   },
   "source": [
    "# Step 7: Fitting the dataset to various models\n",
    "\n",
    "<b>We will fit the dataset to various models and find out the best fit model among these.\n",
    "\n",
    "Various models used in this notebook are:\n",
    "\n",
    "1)  KNN                \n",
    "\n",
    "2)  Naive-Bayes       \n",
    "\n",
    "3)  SVM                   \n",
    "\n",
    "4)  Decision Tree         \n",
    "\n",
    "5)  Gradient Boosting     \n",
    "\n",
    "6)  Random Forest         \n",
    "\n",
    "7)  AdaBoost             \n",
    "\n",
    "8)  XGBoost    \n",
    "\n",
    "</b>           "
   ]
  },
  {
   "cell_type": "markdown",
   "metadata": {
    "papermill": {
     "duration": 0.01946,
     "end_time": "2020-08-30T10:32:35.287850",
     "exception": false,
     "start_time": "2020-08-30T10:32:35.268390",
     "status": "completed"
    },
    "tags": []
   },
   "source": [
    "# 1) KNN"
   ]
  },
  {
   "cell_type": "code",
   "execution_count": 63,
   "metadata": {
    "execution": {
     "iopub.execute_input": "2020-08-30T10:32:35.331360Z",
     "iopub.status.busy": "2020-08-30T10:32:35.330386Z",
     "iopub.status.idle": "2020-08-30T10:32:35.345952Z",
     "shell.execute_reply": "2020-08-30T10:32:35.345320Z"
    },
    "papermill": {
     "duration": 0.037788,
     "end_time": "2020-08-30T10:32:35.346097",
     "exception": false,
     "start_time": "2020-08-30T10:32:35.308309",
     "status": "completed"
    },
    "tags": []
   },
   "outputs": [
    {
     "data": {
      "text/plain": [
       "KNeighborsClassifier(n_neighbors=35)"
      ]
     },
     "execution_count": 63,
     "metadata": {},
     "output_type": "execute_result"
    }
   ],
   "source": [
    "#Fitting the model\n",
    "\n",
    "knn = KNeighborsClassifier(n_neighbors=35)\n",
    "knn.fit(x_train,y_train)"
   ]
  },
  {
   "cell_type": "code",
   "execution_count": 64,
   "metadata": {
    "execution": {
     "iopub.execute_input": "2020-08-30T10:32:35.388244Z",
     "iopub.status.busy": "2020-08-30T10:32:35.387405Z",
     "iopub.status.idle": "2020-08-30T10:32:35.444046Z",
     "shell.execute_reply": "2020-08-30T10:32:35.444649Z"
    },
    "papermill": {
     "duration": 0.079353,
     "end_time": "2020-08-30T10:32:35.444882",
     "exception": false,
     "start_time": "2020-08-30T10:32:35.365529",
     "status": "completed"
    },
    "tags": []
   },
   "outputs": [],
   "source": [
    "# Applying the model to the x_test\n",
    "\n",
    "pred_knn = knn.predict(x_test)"
   ]
  },
  {
   "cell_type": "code",
   "execution_count": 65,
   "metadata": {
    "execution": {
     "iopub.execute_input": "2020-08-30T10:32:35.487940Z",
     "iopub.status.busy": "2020-08-30T10:32:35.487047Z",
     "iopub.status.idle": "2020-08-30T10:32:35.491365Z",
     "shell.execute_reply": "2020-08-30T10:32:35.490809Z"
    },
    "papermill": {
     "duration": 0.027938,
     "end_time": "2020-08-30T10:32:35.491468",
     "exception": false,
     "start_time": "2020-08-30T10:32:35.463530",
     "status": "completed"
    },
    "tags": []
   },
   "outputs": [],
   "source": [
    "# Finding Accuracy\n",
    "\n",
    "KNN = accuracy_score(y_test,pred_knn)*100"
   ]
  },
  {
   "cell_type": "code",
   "execution_count": 66,
   "metadata": {
    "execution": {
     "iopub.execute_input": "2020-08-30T10:32:35.534996Z",
     "iopub.status.busy": "2020-08-30T10:32:35.534181Z",
     "iopub.status.idle": "2020-08-30T10:32:35.541230Z",
     "shell.execute_reply": "2020-08-30T10:32:35.540729Z"
    },
    "papermill": {
     "duration": 0.031118,
     "end_time": "2020-08-30T10:32:35.541332",
     "exception": false,
     "start_time": "2020-08-30T10:32:35.510214",
     "status": "completed"
    },
    "tags": []
   },
   "outputs": [
    {
     "name": "stdout",
     "output_type": "stream",
     "text": [
      "[[113  36   2   0]\n",
      " [ 39  69  27   0]\n",
      " [  2  54  78  17]\n",
      " [  0   6  50 107]]\n"
     ]
    }
   ],
   "source": [
    "# Confusion Matrix\n",
    "\n",
    "cm_knn=confusion_matrix(y_test,pred_knn)\n",
    "print(cm_knn)"
   ]
  },
  {
   "cell_type": "code",
   "execution_count": 67,
   "metadata": {
    "execution": {
     "iopub.execute_input": "2020-08-30T10:32:35.582656Z",
     "iopub.status.busy": "2020-08-30T10:32:35.582140Z",
     "iopub.status.idle": "2020-08-30T10:32:35.593306Z",
     "shell.execute_reply": "2020-08-30T10:32:35.592477Z"
    },
    "papermill": {
     "duration": 0.033116,
     "end_time": "2020-08-30T10:32:35.593480",
     "exception": false,
     "start_time": "2020-08-30T10:32:35.560364",
     "status": "completed"
    },
    "tags": []
   },
   "outputs": [
    {
     "name": "stdout",
     "output_type": "stream",
     "text": [
      "              precision    recall  f1-score   support\n",
      "\n",
      "           0       0.75      0.73      0.74       154\n",
      "           1       0.51      0.42      0.46       165\n",
      "           2       0.52      0.50      0.51       157\n",
      "           3       0.66      0.86      0.75       124\n",
      "\n",
      "    accuracy                           0.61       600\n",
      "   macro avg       0.61      0.63      0.61       600\n",
      "weighted avg       0.60      0.61      0.60       600\n",
      "\n"
     ]
    }
   ],
   "source": [
    "# Classification Report that computes various\n",
    "# metrics like Precision, Recall and F1 Score\n",
    "\n",
    "print(classification_report(pred_knn,y_test))"
   ]
  },
  {
   "cell_type": "markdown",
   "metadata": {
    "papermill": {
     "duration": 0.018789,
     "end_time": "2020-08-30T10:32:35.631070",
     "exception": false,
     "start_time": "2020-08-30T10:32:35.612281",
     "status": "completed"
    },
    "tags": []
   },
   "source": [
    "# 2) Naive-Bayes"
   ]
  },
  {
   "cell_type": "code",
   "execution_count": 68,
   "metadata": {
    "execution": {
     "iopub.execute_input": "2020-08-30T10:32:35.672119Z",
     "iopub.status.busy": "2020-08-30T10:32:35.671583Z",
     "iopub.status.idle": "2020-08-30T10:32:35.678584Z",
     "shell.execute_reply": "2020-08-30T10:32:35.679099Z"
    },
    "papermill": {
     "duration": 0.029451,
     "end_time": "2020-08-30T10:32:35.679237",
     "exception": false,
     "start_time": "2020-08-30T10:32:35.649786",
     "status": "completed"
    },
    "tags": []
   },
   "outputs": [
    {
     "data": {
      "text/plain": [
       "GaussianNB()"
      ]
     },
     "execution_count": 68,
     "metadata": {},
     "output_type": "execute_result"
    }
   ],
   "source": [
    "#Fitting the model\n",
    "\n",
    "gnb=GaussianNB()\n",
    "gnb.fit(x_train,y_train)"
   ]
  },
  {
   "cell_type": "code",
   "execution_count": 69,
   "metadata": {
    "execution": {
     "iopub.execute_input": "2020-08-30T10:32:35.720680Z",
     "iopub.status.busy": "2020-08-30T10:32:35.720160Z",
     "iopub.status.idle": "2020-08-30T10:32:35.726028Z",
     "shell.execute_reply": "2020-08-30T10:32:35.725563Z"
    },
    "papermill": {
     "duration": 0.028346,
     "end_time": "2020-08-30T10:32:35.726129",
     "exception": false,
     "start_time": "2020-08-30T10:32:35.697783",
     "status": "completed"
    },
    "tags": []
   },
   "outputs": [],
   "source": [
    "# Applying the model to the x_test\n",
    "\n",
    "pred_gnb = gnb.predict(x_test)"
   ]
  },
  {
   "cell_type": "code",
   "execution_count": 70,
   "metadata": {
    "execution": {
     "iopub.execute_input": "2020-08-30T10:32:35.769980Z",
     "iopub.status.busy": "2020-08-30T10:32:35.769437Z",
     "iopub.status.idle": "2020-08-30T10:32:35.772494Z",
     "shell.execute_reply": "2020-08-30T10:32:35.773008Z"
    },
    "papermill": {
     "duration": 0.027709,
     "end_time": "2020-08-30T10:32:35.773135",
     "exception": false,
     "start_time": "2020-08-30T10:32:35.745426",
     "status": "completed"
    },
    "tags": []
   },
   "outputs": [],
   "source": [
    "# Finding Accuracy\n",
    "\n",
    "GNB = accuracy_score(y_test,pred_gnb)*100"
   ]
  },
  {
   "cell_type": "code",
   "execution_count": 71,
   "metadata": {
    "execution": {
     "iopub.execute_input": "2020-08-30T10:32:35.816096Z",
     "iopub.status.busy": "2020-08-30T10:32:35.815258Z",
     "iopub.status.idle": "2020-08-30T10:32:35.822913Z",
     "shell.execute_reply": "2020-08-30T10:32:35.822130Z"
    },
    "papermill": {
     "duration": 0.03121,
     "end_time": "2020-08-30T10:32:35.823080",
     "exception": false,
     "start_time": "2020-08-30T10:32:35.791870",
     "status": "completed"
    },
    "tags": []
   },
   "outputs": [
    {
     "name": "stdout",
     "output_type": "stream",
     "text": [
      "[[139  12   0   0]\n",
      " [  9 100  26   0]\n",
      " [  0  26 108  17]\n",
      " [  0   0  14 149]]\n"
     ]
    }
   ],
   "source": [
    "# Confusion Matrix\n",
    "\n",
    "cm_gnb=confusion_matrix(y_test,pred_gnb)\n",
    "print(cm_gnb)"
   ]
  },
  {
   "cell_type": "code",
   "execution_count": 72,
   "metadata": {
    "execution": {
     "iopub.execute_input": "2020-08-30T10:32:35.870517Z",
     "iopub.status.busy": "2020-08-30T10:32:35.869913Z",
     "iopub.status.idle": "2020-08-30T10:32:35.877520Z",
     "shell.execute_reply": "2020-08-30T10:32:35.878251Z"
    },
    "papermill": {
     "duration": 0.03451,
     "end_time": "2020-08-30T10:32:35.878478",
     "exception": false,
     "start_time": "2020-08-30T10:32:35.843968",
     "status": "completed"
    },
    "tags": []
   },
   "outputs": [
    {
     "name": "stdout",
     "output_type": "stream",
     "text": [
      "              precision    recall  f1-score   support\n",
      "\n",
      "           0       0.94      0.92      0.93       151\n",
      "           1       0.72      0.74      0.73       135\n",
      "           2       0.73      0.72      0.72       151\n",
      "           3       0.90      0.91      0.91       163\n",
      "\n",
      "    accuracy                           0.83       600\n",
      "   macro avg       0.82      0.82      0.82       600\n",
      "weighted avg       0.83      0.83      0.83       600\n",
      "\n"
     ]
    }
   ],
   "source": [
    "# Classification Report that computes various \n",
    "# metrics like Precision, Recall and F1 Score\n",
    "\n",
    "print(classification_report(y_test,pred_gnb))"
   ]
  },
  {
   "cell_type": "markdown",
   "metadata": {
    "papermill": {
     "duration": 0.018865,
     "end_time": "2020-08-30T10:32:35.917896",
     "exception": false,
     "start_time": "2020-08-30T10:32:35.899031",
     "status": "completed"
    },
    "tags": []
   },
   "source": [
    "# 3) SVM"
   ]
  },
  {
   "cell_type": "code",
   "execution_count": 73,
   "metadata": {
    "execution": {
     "iopub.execute_input": "2020-08-30T10:32:35.958964Z",
     "iopub.status.busy": "2020-08-30T10:32:35.958423Z",
     "iopub.status.idle": "2020-08-30T10:32:36.599119Z",
     "shell.execute_reply": "2020-08-30T10:32:36.598634Z"
    },
    "papermill": {
     "duration": 0.662337,
     "end_time": "2020-08-30T10:32:36.599230",
     "exception": false,
     "start_time": "2020-08-30T10:32:35.936893",
     "status": "completed"
    },
    "tags": []
   },
   "outputs": [],
   "source": [
    "#Fitting the model\n",
    "\n",
    "svc = SVC(probability=True)\n",
    "svc.fit(x_train,y_train)\n",
    "\n",
    "# Applying the model to the x_test\n",
    "pred_svc = svc.predict(x_test)"
   ]
  },
  {
   "cell_type": "code",
   "execution_count": 74,
   "metadata": {
    "execution": {
     "iopub.execute_input": "2020-08-30T10:32:36.643553Z",
     "iopub.status.busy": "2020-08-30T10:32:36.642986Z",
     "iopub.status.idle": "2020-08-30T10:32:36.647346Z",
     "shell.execute_reply": "2020-08-30T10:32:36.646842Z"
    },
    "papermill": {
     "duration": 0.028985,
     "end_time": "2020-08-30T10:32:36.647448",
     "exception": false,
     "start_time": "2020-08-30T10:32:36.618463",
     "status": "completed"
    },
    "tags": []
   },
   "outputs": [],
   "source": [
    "# Finding Accuracy\n",
    "\n",
    "SVC = accuracy_score(y_test,pred_svc)*100"
   ]
  },
  {
   "cell_type": "code",
   "execution_count": 75,
   "metadata": {
    "execution": {
     "iopub.execute_input": "2020-08-30T10:32:36.691194Z",
     "iopub.status.busy": "2020-08-30T10:32:36.690579Z",
     "iopub.status.idle": "2020-08-30T10:32:36.697075Z",
     "shell.execute_reply": "2020-08-30T10:32:36.697601Z"
    },
    "papermill": {
     "duration": 0.03003,
     "end_time": "2020-08-30T10:32:36.697751",
     "exception": false,
     "start_time": "2020-08-30T10:32:36.667721",
     "status": "completed"
    },
    "tags": []
   },
   "outputs": [
    {
     "name": "stdout",
     "output_type": "stream",
     "text": [
      "[[143   8   0   0]\n",
      " [ 10 116   9   0]\n",
      " [  0  18 129   4]\n",
      " [  0   0  18 145]]\n"
     ]
    }
   ],
   "source": [
    "# Confusion Matrix\n",
    "\n",
    "cm_svc=confusion_matrix(y_test,pred_svc)\n",
    "print(cm_svc)"
   ]
  },
  {
   "cell_type": "code",
   "execution_count": 76,
   "metadata": {
    "execution": {
     "iopub.execute_input": "2020-08-30T10:32:36.740543Z",
     "iopub.status.busy": "2020-08-30T10:32:36.739937Z",
     "iopub.status.idle": "2020-08-30T10:32:36.751395Z",
     "shell.execute_reply": "2020-08-30T10:32:36.750443Z"
    },
    "papermill": {
     "duration": 0.03411,
     "end_time": "2020-08-30T10:32:36.751552",
     "exception": false,
     "start_time": "2020-08-30T10:32:36.717442",
     "status": "completed"
    },
    "tags": []
   },
   "outputs": [
    {
     "name": "stdout",
     "output_type": "stream",
     "text": [
      "              precision    recall  f1-score   support\n",
      "\n",
      "           0       0.93      0.95      0.94       151\n",
      "           1       0.82      0.86      0.84       135\n",
      "           2       0.83      0.85      0.84       151\n",
      "           3       0.97      0.89      0.93       163\n",
      "\n",
      "    accuracy                           0.89       600\n",
      "   macro avg       0.89      0.89      0.89       600\n",
      "weighted avg       0.89      0.89      0.89       600\n",
      "\n"
     ]
    }
   ],
   "source": [
    "# Classification Report that computes various \n",
    "#metrics like Precision, Recall and F1 Score\n",
    "\n",
    "print(classification_report(y_test,pred_svc))"
   ]
  },
  {
   "cell_type": "markdown",
   "metadata": {
    "papermill": {
     "duration": 0.019331,
     "end_time": "2020-08-30T10:32:36.790743",
     "exception": false,
     "start_time": "2020-08-30T10:32:36.771412",
     "status": "completed"
    },
    "tags": []
   },
   "source": [
    "# 4) Decision Tree"
   ]
  },
  {
   "cell_type": "code",
   "execution_count": 77,
   "metadata": {
    "execution": {
     "iopub.execute_input": "2020-08-30T10:32:36.836051Z",
     "iopub.status.busy": "2020-08-30T10:32:36.835460Z",
     "iopub.status.idle": "2020-08-30T10:32:36.852052Z",
     "shell.execute_reply": "2020-08-30T10:32:36.851570Z"
    },
    "papermill": {
     "duration": 0.041854,
     "end_time": "2020-08-30T10:32:36.852181",
     "exception": false,
     "start_time": "2020-08-30T10:32:36.810327",
     "status": "completed"
    },
    "tags": []
   },
   "outputs": [],
   "source": [
    "#Fitting the model\n",
    "\n",
    "dtree_en = DecisionTreeClassifier()\n",
    "clf = dtree_en.fit(x_train,y_train)"
   ]
  },
  {
   "cell_type": "code",
   "execution_count": null,
   "metadata": {
    "papermill": {
     "duration": 0.019533,
     "end_time": "2020-08-30T10:32:36.892055",
     "exception": false,
     "start_time": "2020-08-30T10:32:36.872522",
     "status": "completed"
    },
    "tags": []
   },
   "outputs": [],
   "source": []
  },
  {
   "cell_type": "code",
   "execution_count": 78,
   "metadata": {
    "execution": {
     "iopub.execute_input": "2020-08-30T10:32:36.935358Z",
     "iopub.status.busy": "2020-08-30T10:32:36.934751Z",
     "iopub.status.idle": "2020-08-30T10:32:36.940190Z",
     "shell.execute_reply": "2020-08-30T10:32:36.939554Z"
    },
    "papermill": {
     "duration": 0.028374,
     "end_time": "2020-08-30T10:32:36.940323",
     "exception": false,
     "start_time": "2020-08-30T10:32:36.911949",
     "status": "completed"
    },
    "tags": []
   },
   "outputs": [],
   "source": [
    "# Applying the model to the x_test\n",
    "\n",
    "pred_dt = clf.predict(x_test)"
   ]
  },
  {
   "cell_type": "code",
   "execution_count": 79,
   "metadata": {
    "execution": {
     "iopub.execute_input": "2020-08-30T10:32:36.985689Z",
     "iopub.status.busy": "2020-08-30T10:32:36.985152Z",
     "iopub.status.idle": "2020-08-30T10:32:36.990207Z",
     "shell.execute_reply": "2020-08-30T10:32:36.989730Z"
    },
    "papermill": {
     "duration": 0.028658,
     "end_time": "2020-08-30T10:32:36.990331",
     "exception": false,
     "start_time": "2020-08-30T10:32:36.961673",
     "status": "completed"
    },
    "tags": []
   },
   "outputs": [],
   "source": [
    "# Finding Accuracy\n",
    "\n",
    "DTREE = accuracy_score(y_test,pred_dt)*100"
   ]
  },
  {
   "cell_type": "code",
   "execution_count": 80,
   "metadata": {
    "execution": {
     "iopub.execute_input": "2020-08-30T10:32:37.047080Z",
     "iopub.status.busy": "2020-08-30T10:32:37.044416Z",
     "iopub.status.idle": "2020-08-30T10:32:37.061046Z",
     "shell.execute_reply": "2020-08-30T10:32:37.061505Z"
    },
    "papermill": {
     "duration": 0.049416,
     "end_time": "2020-08-30T10:32:37.061699",
     "exception": false,
     "start_time": "2020-08-30T10:32:37.012283",
     "status": "completed"
    },
    "tags": []
   },
   "outputs": [
    {
     "name": "stdout",
     "output_type": "stream",
     "text": [
      "[[131  20   0   0]\n",
      " [ 12 108  15   0]\n",
      " [  0  16 116  19]\n",
      " [  0   1  18 144]]\n",
      "              precision    recall  f1-score   support\n",
      "\n",
      "           0       0.92      0.87      0.89       151\n",
      "           1       0.74      0.80      0.77       135\n",
      "           2       0.78      0.77      0.77       151\n",
      "           3       0.88      0.88      0.88       163\n",
      "\n",
      "    accuracy                           0.83       600\n",
      "   macro avg       0.83      0.83      0.83       600\n",
      "weighted avg       0.83      0.83      0.83       600\n",
      "\n"
     ]
    }
   ],
   "source": [
    "# Confusion Matrix\n",
    "\n",
    "cm_dt=confusion_matrix(y_test,pred_dt)\n",
    "print(cm_dt)\n",
    "\n",
    "# Classification Report that computes various \n",
    "# metrics like Precision, Recall and F1 Score\n",
    "\n",
    "print(classification_report(y_test,pred_dt))"
   ]
  },
  {
   "cell_type": "markdown",
   "metadata": {
    "papermill": {
     "duration": 0.019835,
     "end_time": "2020-08-30T10:32:37.102246",
     "exception": false,
     "start_time": "2020-08-30T10:32:37.082411",
     "status": "completed"
    },
    "tags": []
   },
   "source": [
    "# 5) Gradient Boosting"
   ]
  },
  {
   "cell_type": "code",
   "execution_count": 81,
   "metadata": {
    "execution": {
     "iopub.execute_input": "2020-08-30T10:32:37.152379Z",
     "iopub.status.busy": "2020-08-30T10:32:37.151404Z",
     "iopub.status.idle": "2020-08-30T10:32:40.044467Z",
     "shell.execute_reply": "2020-08-30T10:32:40.043910Z"
    },
    "papermill": {
     "duration": 2.920865,
     "end_time": "2020-08-30T10:32:40.044583",
     "exception": false,
     "start_time": "2020-08-30T10:32:37.123718",
     "status": "completed"
    },
    "tags": []
   },
   "outputs": [
    {
     "data": {
      "text/plain": [
       "GradientBoostingClassifier(n_estimators=150)"
      ]
     },
     "execution_count": 81,
     "metadata": {},
     "output_type": "execute_result"
    }
   ],
   "source": [
    "#Fitting the model\n",
    "\n",
    "GBC=GradientBoostingClassifier(n_estimators=150)\n",
    "GBC.fit(x_train,y_train)"
   ]
  },
  {
   "cell_type": "code",
   "execution_count": 82,
   "metadata": {
    "execution": {
     "iopub.execute_input": "2020-08-30T10:32:40.097730Z",
     "iopub.status.busy": "2020-08-30T10:32:40.089707Z",
     "iopub.status.idle": "2020-08-30T10:32:40.102307Z",
     "shell.execute_reply": "2020-08-30T10:32:40.101666Z"
    },
    "papermill": {
     "duration": 0.037912,
     "end_time": "2020-08-30T10:32:40.102416",
     "exception": false,
     "start_time": "2020-08-30T10:32:40.064504",
     "status": "completed"
    },
    "tags": []
   },
   "outputs": [],
   "source": [
    "# Applying the model to the x_test\n",
    "\n",
    "Y_predict=GBC.predict(x_test)"
   ]
  },
  {
   "cell_type": "code",
   "execution_count": 83,
   "metadata": {
    "execution": {
     "iopub.execute_input": "2020-08-30T10:32:40.148455Z",
     "iopub.status.busy": "2020-08-30T10:32:40.147866Z",
     "iopub.status.idle": "2020-08-30T10:32:40.150844Z",
     "shell.execute_reply": "2020-08-30T10:32:40.150307Z"
    },
    "papermill": {
     "duration": 0.027732,
     "end_time": "2020-08-30T10:32:40.150964",
     "exception": false,
     "start_time": "2020-08-30T10:32:40.123232",
     "status": "completed"
    },
    "tags": []
   },
   "outputs": [],
   "source": [
    "# Finding Accuracy\n",
    "\n",
    "gbc = accuracy_score(y_test,Y_predict)*100"
   ]
  },
  {
   "cell_type": "code",
   "execution_count": 84,
   "metadata": {
    "execution": {
     "iopub.execute_input": "2020-08-30T10:32:40.200153Z",
     "iopub.status.busy": "2020-08-30T10:32:40.199194Z",
     "iopub.status.idle": "2020-08-30T10:32:40.208272Z",
     "shell.execute_reply": "2020-08-30T10:32:40.207440Z"
    },
    "papermill": {
     "duration": 0.036151,
     "end_time": "2020-08-30T10:32:40.208462",
     "exception": false,
     "start_time": "2020-08-30T10:32:40.172311",
     "status": "completed"
    },
    "tags": []
   },
   "outputs": [
    {
     "name": "stdout",
     "output_type": "stream",
     "text": [
      "[[145   6   0   0]\n",
      " [  5 118  12   0]\n",
      " [  0  10 131  10]\n",
      " [  0   0   8 155]]\n",
      "              precision    recall  f1-score   support\n",
      "\n",
      "           0       0.97      0.96      0.96       151\n",
      "           1       0.88      0.87      0.88       135\n",
      "           2       0.87      0.87      0.87       151\n",
      "           3       0.94      0.95      0.95       163\n",
      "\n",
      "    accuracy                           0.92       600\n",
      "   macro avg       0.91      0.91      0.91       600\n",
      "weighted avg       0.91      0.92      0.91       600\n",
      "\n"
     ]
    }
   ],
   "source": [
    "# Confusion Matrix\n",
    "\n",
    "cm_gbc=confusion_matrix(y_test,Y_predict)\n",
    "print(cm_gbc)\n",
    "\n",
    "# Classification Report that computes various \n",
    "# metrics like Precision, Recall and F1 Score\n",
    "\n",
    "print(classification_report(y_test,Y_predict))"
   ]
  },
  {
   "cell_type": "markdown",
   "metadata": {
    "papermill": {
     "duration": 0.021563,
     "end_time": "2020-08-30T10:32:40.253932",
     "exception": false,
     "start_time": "2020-08-30T10:32:40.232369",
     "status": "completed"
    },
    "tags": []
   },
   "source": [
    "# 6) Random Forest"
   ]
  },
  {
   "cell_type": "code",
   "execution_count": 85,
   "metadata": {
    "execution": {
     "iopub.execute_input": "2020-08-30T10:32:40.302893Z",
     "iopub.status.busy": "2020-08-30T10:32:40.302279Z",
     "iopub.status.idle": "2020-08-30T10:32:40.403405Z",
     "shell.execute_reply": "2020-08-30T10:32:40.402800Z"
    },
    "papermill": {
     "duration": 0.12804,
     "end_time": "2020-08-30T10:32:40.403535",
     "exception": false,
     "start_time": "2020-08-30T10:32:40.275495",
     "status": "completed"
    },
    "tags": []
   },
   "outputs": [
    {
     "data": {
      "text/plain": [
       "RandomForestClassifier(max_depth=10, n_estimators=30, random_state=1)"
      ]
     },
     "execution_count": 85,
     "metadata": {},
     "output_type": "execute_result"
    }
   ],
   "source": [
    "#Fitting the model\n",
    "\n",
    "rfc = RandomForestClassifier(n_estimators=30,criterion='gini',random_state=1,max_depth=10)\n",
    "rfc.fit(x_train, y_train)"
   ]
  },
  {
   "cell_type": "code",
   "execution_count": 86,
   "metadata": {
    "execution": {
     "iopub.execute_input": "2020-08-30T10:32:40.452492Z",
     "iopub.status.busy": "2020-08-30T10:32:40.451880Z",
     "iopub.status.idle": "2020-08-30T10:32:40.461900Z",
     "shell.execute_reply": "2020-08-30T10:32:40.461213Z"
    },
    "papermill": {
     "duration": 0.036824,
     "end_time": "2020-08-30T10:32:40.462046",
     "exception": false,
     "start_time": "2020-08-30T10:32:40.425222",
     "status": "completed"
    },
    "tags": []
   },
   "outputs": [],
   "source": [
    "# Applying the model to the x_test\n",
    "\n",
    "pred_rf= rfc.predict(x_test)"
   ]
  },
  {
   "cell_type": "code",
   "execution_count": 87,
   "metadata": {
    "execution": {
     "iopub.execute_input": "2020-08-30T10:32:40.510501Z",
     "iopub.status.busy": "2020-08-30T10:32:40.509747Z",
     "iopub.status.idle": "2020-08-30T10:32:40.513671Z",
     "shell.execute_reply": "2020-08-30T10:32:40.513157Z"
    },
    "papermill": {
     "duration": 0.030242,
     "end_time": "2020-08-30T10:32:40.513836",
     "exception": false,
     "start_time": "2020-08-30T10:32:40.483594",
     "status": "completed"
    },
    "tags": []
   },
   "outputs": [],
   "source": [
    "# Finding Accuracy\n",
    "\n",
    "RFC = accuracy_score(y_test,pred_rf)*100"
   ]
  },
  {
   "cell_type": "code",
   "execution_count": 88,
   "metadata": {
    "execution": {
     "iopub.execute_input": "2020-08-30T10:32:40.563491Z",
     "iopub.status.busy": "2020-08-30T10:32:40.562289Z",
     "iopub.status.idle": "2020-08-30T10:32:40.570138Z",
     "shell.execute_reply": "2020-08-30T10:32:40.569381Z"
    },
    "papermill": {
     "duration": 0.034737,
     "end_time": "2020-08-30T10:32:40.570307",
     "exception": false,
     "start_time": "2020-08-30T10:32:40.535570",
     "status": "completed"
    },
    "tags": []
   },
   "outputs": [
    {
     "name": "stdout",
     "output_type": "stream",
     "text": [
      "[[144   7   0   0]\n",
      " [  9 114  12   0]\n",
      " [  0  19 110  22]\n",
      " [  0   0  10 153]]\n"
     ]
    }
   ],
   "source": [
    "# Confusion Matrix\n",
    "\n",
    "cm_rf=confusion_matrix(y_test,pred_rf)\n",
    "print(cm_rf)"
   ]
  },
  {
   "cell_type": "code",
   "execution_count": 89,
   "metadata": {
    "execution": {
     "iopub.execute_input": "2020-08-30T10:32:40.618241Z",
     "iopub.status.busy": "2020-08-30T10:32:40.617642Z",
     "iopub.status.idle": "2020-08-30T10:32:40.628823Z",
     "shell.execute_reply": "2020-08-30T10:32:40.628354Z"
    },
    "papermill": {
     "duration": 0.03664,
     "end_time": "2020-08-30T10:32:40.628949",
     "exception": false,
     "start_time": "2020-08-30T10:32:40.592309",
     "status": "completed"
    },
    "tags": []
   },
   "outputs": [
    {
     "name": "stdout",
     "output_type": "stream",
     "text": [
      "              precision    recall  f1-score   support\n",
      "\n",
      "           0       0.94      0.95      0.95       151\n",
      "           1       0.81      0.84      0.83       135\n",
      "           2       0.83      0.73      0.78       151\n",
      "           3       0.87      0.94      0.91       163\n",
      "\n",
      "    accuracy                           0.87       600\n",
      "   macro avg       0.87      0.87      0.86       600\n",
      "weighted avg       0.87      0.87      0.87       600\n",
      "\n"
     ]
    }
   ],
   "source": [
    "# Classification Report that computes various \n",
    "# metrics like Precision, Recall and F1 Score\n",
    "\n",
    "print(classification_report(y_test,pred_rf))"
   ]
  },
  {
   "cell_type": "markdown",
   "metadata": {
    "papermill": {
     "duration": 0.02275,
     "end_time": "2020-08-30T10:32:40.673085",
     "exception": false,
     "start_time": "2020-08-30T10:32:40.650335",
     "status": "completed"
    },
    "tags": []
   },
   "source": [
    "# 7) AdaBoost (Entropy-Decision Tree)"
   ]
  },
  {
   "cell_type": "code",
   "execution_count": 90,
   "metadata": {
    "execution": {
     "iopub.execute_input": "2020-08-30T10:32:40.724456Z",
     "iopub.status.busy": "2020-08-30T10:32:40.722589Z",
     "iopub.status.idle": "2020-08-30T10:32:41.080963Z",
     "shell.execute_reply": "2020-08-30T10:32:41.080364Z"
    },
    "papermill": {
     "duration": 0.385611,
     "end_time": "2020-08-30T10:32:41.081093",
     "exception": false,
     "start_time": "2020-08-30T10:32:40.695482",
     "status": "completed"
    },
    "tags": []
   },
   "outputs": [
    {
     "data": {
      "text/plain": [
       "AdaBoostClassifier(base_estimator=DecisionTreeClassifier(criterion='entropy',\n",
       "                                                         max_depth=1,\n",
       "                                                         random_state=0),\n",
       "                   n_estimators=80, random_state=0)"
      ]
     },
     "execution_count": 90,
     "metadata": {},
     "output_type": "execute_result"
    }
   ],
   "source": [
    "#Fitting the model. Base model is chosen to be Decision Tree\n",
    "\n",
    "model = DecisionTreeClassifier(criterion='entropy',max_depth=1,random_state=0)\n",
    "adaboost = AdaBoostClassifier(n_estimators=80, base_estimator=model,random_state=0)\n",
    "adaboost.fit(x_train,y_train)"
   ]
  },
  {
   "cell_type": "code",
   "execution_count": 91,
   "metadata": {
    "execution": {
     "iopub.execute_input": "2020-08-30T10:32:41.131392Z",
     "iopub.status.busy": "2020-08-30T10:32:41.130827Z",
     "iopub.status.idle": "2020-08-30T10:32:41.156687Z",
     "shell.execute_reply": "2020-08-30T10:32:41.156118Z"
    },
    "papermill": {
     "duration": 0.052889,
     "end_time": "2020-08-30T10:32:41.156822",
     "exception": false,
     "start_time": "2020-08-30T10:32:41.103933",
     "status": "completed"
    },
    "tags": []
   },
   "outputs": [],
   "source": [
    "# Applying the model to the x_test\n",
    "\n",
    "pred = adaboost.predict(x_test)"
   ]
  },
  {
   "cell_type": "code",
   "execution_count": 92,
   "metadata": {
    "execution": {
     "iopub.execute_input": "2020-08-30T10:32:41.204654Z",
     "iopub.status.busy": "2020-08-30T10:32:41.203969Z",
     "iopub.status.idle": "2020-08-30T10:32:41.207790Z",
     "shell.execute_reply": "2020-08-30T10:32:41.207303Z"
    },
    "papermill": {
     "duration": 0.029545,
     "end_time": "2020-08-30T10:32:41.207896",
     "exception": false,
     "start_time": "2020-08-30T10:32:41.178351",
     "status": "completed"
    },
    "tags": []
   },
   "outputs": [],
   "source": [
    "# Finding Accuracy\n",
    "\n",
    "ada = accuracy_score(y_test,pred)*100"
   ]
  },
  {
   "cell_type": "code",
   "execution_count": 93,
   "metadata": {
    "execution": {
     "iopub.execute_input": "2020-08-30T10:32:41.254158Z",
     "iopub.status.busy": "2020-08-30T10:32:41.253237Z",
     "iopub.status.idle": "2020-08-30T10:32:41.265402Z",
     "shell.execute_reply": "2020-08-30T10:32:41.265789Z"
    },
    "papermill": {
     "duration": 0.037814,
     "end_time": "2020-08-30T10:32:41.265939",
     "exception": false,
     "start_time": "2020-08-30T10:32:41.228125",
     "status": "completed"
    },
    "tags": []
   },
   "outputs": [
    {
     "name": "stdout",
     "output_type": "stream",
     "text": [
      "[[ 80  71   0   0]\n",
      " [ 14  96  25   0]\n",
      " [  0  22 107  22]\n",
      " [  0   0  61 102]]\n",
      "              precision    recall  f1-score   support\n",
      "\n",
      "           0       0.85      0.53      0.65       151\n",
      "           1       0.51      0.71      0.59       135\n",
      "           2       0.55      0.71      0.62       151\n",
      "           3       0.82      0.63      0.71       163\n",
      "\n",
      "    accuracy                           0.64       600\n",
      "   macro avg       0.68      0.64      0.64       600\n",
      "weighted avg       0.69      0.64      0.65       600\n",
      "\n"
     ]
    }
   ],
   "source": [
    "# Confusion Matrix\n",
    "\n",
    "cm_ada=confusion_matrix(y_test,pred)\n",
    "print(cm_ada)\n",
    "\n",
    "# Classification Report that computes various \n",
    "# metrics like Precision, Recall and F1 Score\n",
    "\n",
    "print(classification_report(y_test,pred))"
   ]
  },
  {
   "cell_type": "markdown",
   "metadata": {
    "papermill": {
     "duration": 0.019871,
     "end_time": "2020-08-30T10:32:41.306017",
     "exception": false,
     "start_time": "2020-08-30T10:32:41.286146",
     "status": "completed"
    },
    "tags": []
   },
   "source": [
    "# 8) XGBoost "
   ]
  },
  {
   "cell_type": "code",
   "execution_count": 94,
   "metadata": {
    "execution": {
     "iopub.execute_input": "2020-08-30T10:32:41.352666Z",
     "iopub.status.busy": "2020-08-30T10:32:41.351633Z",
     "iopub.status.idle": "2020-08-30T10:32:46.964004Z",
     "shell.execute_reply": "2020-08-30T10:32:46.964709Z"
    },
    "papermill": {
     "duration": 5.638651,
     "end_time": "2020-08-30T10:32:46.964941",
     "exception": false,
     "start_time": "2020-08-30T10:32:41.326290",
     "status": "completed"
    },
    "tags": []
   },
   "outputs": [
    {
     "name": "stdout",
     "output_type": "stream",
     "text": [
      "[20:50:30] WARNING: C:/Users/Administrator/workspace/xgboost-win64_release_1.4.0/src/learner.cc:573: \n",
      "Parameters: { \"scale_pos_weight\" } might not be used.\n",
      "\n",
      "  This may not be accurate due to some parameters are only used in language bindings but\n",
      "  passed down to XGBoost core.  Or some parameters are not used but slip through this\n",
      "  verification. Please open an issue if you find above cases.\n",
      "\n",
      "\n",
      "[20:50:30] WARNING: C:/Users/Administrator/workspace/xgboost-win64_release_1.4.0/src/learner.cc:1095: Starting in XGBoost 1.3.0, the default evaluation metric used with the objective 'multi:softprob' was changed from 'merror' to 'mlogloss'. Explicitly set eval_metric if you'd like to restore the old behavior.\n"
     ]
    },
    {
     "name": "stderr",
     "output_type": "stream",
     "text": [
      "C:\\Users\\dines\\anaconda3\\lib\\site-packages\\xgboost\\sklearn.py:1146: UserWarning: The use of label encoder in XGBClassifier is deprecated and will be removed in a future release. To remove this warning, do the following: 1) Pass option use_label_encoder=False when constructing XGBClassifier object; and 2) Encode your labels (y) as integers starting with 0, i.e. 0, 1, 2, ..., [num_class - 1].\n",
      "  warnings.warn(label_encoder_deprecation_msg, UserWarning)\n"
     ]
    },
    {
     "data": {
      "text/plain": [
       "XGBClassifier(base_score=0.5, booster='gbtree', colsample_bylevel=1,\n",
       "              colsample_bynode=1, colsample_bytree=0.8, gamma=0, gpu_id=-1,\n",
       "              importance_type='gain', interaction_constraints='',\n",
       "              learning_rate=1e-06, max_delta_step=0, max_depth=5,\n",
       "              min_child_weight=1, missing=nan, monotone_constraints='()',\n",
       "              n_estimators=1000, n_jobs=4, nthread=4, num_parallel_tree=1,\n",
       "              objective='multi:softprob', random_state=27, reg_alpha=0,\n",
       "              reg_lambda=1, scale_pos_weight=1, seed=27, subsample=0.8,\n",
       "              tree_method='exact', validate_parameters=1, verbosity=None)"
      ]
     },
     "execution_count": 94,
     "metadata": {},
     "output_type": "execute_result"
    }
   ],
   "source": [
    "#Fitting the model\n",
    "\n",
    "xgb =  XGBClassifier(learning_rate =0.000001,n_estimators=1000,max_depth=5,min_child_weight=1,\n",
    "                     subsample=0.8,colsample_bytree=0.8,nthread=4,scale_pos_weight=1,seed=27)\n",
    "xgb.fit(x_train, y_train)"
   ]
  },
  {
   "cell_type": "code",
   "execution_count": 95,
   "metadata": {
    "execution": {
     "iopub.execute_input": "2020-08-30T10:32:47.044542Z",
     "iopub.status.busy": "2020-08-30T10:32:47.043560Z",
     "iopub.status.idle": "2020-08-30T10:32:47.110075Z",
     "shell.execute_reply": "2020-08-30T10:32:47.110727Z"
    },
    "papermill": {
     "duration": 0.111556,
     "end_time": "2020-08-30T10:32:47.110960",
     "exception": false,
     "start_time": "2020-08-30T10:32:46.999404",
     "status": "completed"
    },
    "tags": []
   },
   "outputs": [],
   "source": [
    "# Applying the model to the x_test\n",
    "\n",
    "\n",
    "predxg = xgb.predict(x_test)\n",
    "\n",
    "# Finding Accuracy\n",
    "xg = accuracy_score(y_test,predxg)*100\n"
   ]
  },
  {
   "cell_type": "code",
   "execution_count": 96,
   "metadata": {
    "execution": {
     "iopub.execute_input": "2020-08-30T10:32:47.191939Z",
     "iopub.status.busy": "2020-08-30T10:32:47.191103Z",
     "iopub.status.idle": "2020-08-30T10:32:47.205861Z",
     "shell.execute_reply": "2020-08-30T10:32:47.206571Z"
    },
    "papermill": {
     "duration": 0.059294,
     "end_time": "2020-08-30T10:32:47.206789",
     "exception": false,
     "start_time": "2020-08-30T10:32:47.147495",
     "status": "completed"
    },
    "tags": []
   },
   "outputs": [
    {
     "name": "stdout",
     "output_type": "stream",
     "text": [
      "[[138  13   0   0]\n",
      " [  9 110  16   0]\n",
      " [  0  20 114  17]\n",
      " [  0   0  16 147]]\n",
      "              precision    recall  f1-score   support\n",
      "\n",
      "           0       0.94      0.91      0.93       151\n",
      "           1       0.77      0.81      0.79       135\n",
      "           2       0.78      0.75      0.77       151\n",
      "           3       0.90      0.90      0.90       163\n",
      "\n",
      "    accuracy                           0.85       600\n",
      "   macro avg       0.85      0.85      0.85       600\n",
      "weighted avg       0.85      0.85      0.85       600\n",
      "\n"
     ]
    }
   ],
   "source": [
    "# Confusion Matrix\n",
    "\n",
    "cm_xg=confusion_matrix(y_test,predxg)\n",
    "print(cm_xg)\n",
    "\n",
    "# Classification Report that computes various \n",
    "# metrics like Precision, Recall and F1 Score\n",
    "\n",
    "print(classification_report(y_test,predxg))"
   ]
  },
  {
   "cell_type": "markdown",
   "metadata": {
    "papermill": {
     "duration": 0.035417,
     "end_time": "2020-08-30T10:32:47.279520",
     "exception": false,
     "start_time": "2020-08-30T10:32:47.244103",
     "status": "completed"
    },
    "tags": []
   },
   "source": [
    "# Accuracy Reports"
   ]
  },
  {
   "cell_type": "code",
   "execution_count": 97,
   "metadata": {
    "execution": {
     "iopub.execute_input": "2020-08-30T10:32:47.341341Z",
     "iopub.status.busy": "2020-08-30T10:32:47.340731Z",
     "iopub.status.idle": "2020-08-30T10:32:47.346917Z",
     "shell.execute_reply": "2020-08-30T10:32:47.347486Z"
    },
    "papermill": {
     "duration": 0.036693,
     "end_time": "2020-08-30T10:32:47.347734",
     "exception": false,
     "start_time": "2020-08-30T10:32:47.311041",
     "status": "completed"
    },
    "tags": []
   },
   "outputs": [
    {
     "name": "stdout",
     "output_type": "stream",
     "text": [
      "1)  KNN                    : 61.17\n",
      "2)  Naive-Bayes            : 82.67\n",
      "3)  SVM                    : 88.83\n",
      "4)  Decision Tree          : 83.17\n",
      "5)  Gradient Boosting      : 91.5\n",
      "6)  Random Forest          : 86.83\n",
      "7)  AdaBoost               : 64.17\n",
      "8)  XGBoost                : 84.83\n"
     ]
    }
   ],
   "source": [
    "# Accuracy values for all the models\n",
    "print(\"1)  KNN                    :\",round(KNN, 2))\n",
    "print(\"2)  Naive-Bayes            :\",round(GNB, 2))\n",
    "print(\"3)  SVM                    :\",round(SVC, 2))\n",
    "print(\"4)  Decision Tree          :\",round(DTREE, 2))\n",
    "print(\"5)  Gradient Boosting      :\",round(gbc, 2))\n",
    "print(\"6)  Random Forest          :\",round(RFC, 2))\n",
    "print(\"7)  AdaBoost               :\",round(ada, 2))\n",
    "print(\"8)  XGBoost                :\",round(xg, 2))"
   ]
  },
  {
   "cell_type": "markdown",
   "metadata": {
    "papermill": {
     "duration": 0.040457,
     "end_time": "2020-08-30T10:32:47.423685",
     "exception": false,
     "start_time": "2020-08-30T10:32:47.383228",
     "status": "completed"
    },
    "tags": []
   },
   "source": [
    "1)  Gradient Boosting      : 91.50 %\n",
    "\n",
    "2)  SVM                    : 88.83 %\n",
    "\n",
    "3)  Random Forest          : 86.83 %\n",
    "\n",
    "4)  XGBoost                : 84.83 %\n",
    "\n",
    "5)  Decision Tree          : 82.67 %\n",
    "\n",
    "6)  Naive-Bayes            : 82.67 %\n",
    "\n",
    "7)  AdaBoost               : 64.17 %\n",
    "\n",
    "8)  KNN                    : 61.17 %\n",
    "\n",
    "Here, <b>Gradient Boosting has the highest accuracy rate.\n",
    "\n",
    "Hence the best fit Model is Gradient Boosting</b> "
   ]
  },
  {
   "cell_type": "markdown",
   "metadata": {
    "papermill": {
     "duration": 0.03799,
     "end_time": "2020-08-30T10:32:47.497963",
     "exception": false,
     "start_time": "2020-08-30T10:32:47.459973",
     "status": "completed"
    },
    "tags": []
   },
   "source": [
    "# Step 8: Applying the Best fit model to the test.csv file"
   ]
  },
  {
   "cell_type": "code",
   "execution_count": 100,
   "metadata": {
    "execution": {
     "iopub.execute_input": "2020-08-30T10:32:47.567007Z",
     "iopub.status.busy": "2020-08-30T10:32:47.565635Z",
     "iopub.status.idle": "2020-08-30T10:32:47.594656Z",
     "shell.execute_reply": "2020-08-30T10:32:47.594136Z"
    },
    "papermill": {
     "duration": 0.059098,
     "end_time": "2020-08-30T10:32:47.594793",
     "exception": false,
     "start_time": "2020-08-30T10:32:47.535695",
     "status": "completed"
    },
    "tags": []
   },
   "outputs": [
    {
     "data": {
      "text/html": [
       "<div>\n",
       "<style scoped>\n",
       "    .dataframe tbody tr th:only-of-type {\n",
       "        vertical-align: middle;\n",
       "    }\n",
       "\n",
       "    .dataframe tbody tr th {\n",
       "        vertical-align: top;\n",
       "    }\n",
       "\n",
       "    .dataframe thead th {\n",
       "        text-align: right;\n",
       "    }\n",
       "</style>\n",
       "<table border=\"1\" class=\"dataframe\">\n",
       "  <thead>\n",
       "    <tr style=\"text-align: right;\">\n",
       "      <th></th>\n",
       "      <th>id</th>\n",
       "      <th>battery_power</th>\n",
       "      <th>blue</th>\n",
       "      <th>clock_speed</th>\n",
       "      <th>dual_sim</th>\n",
       "      <th>fc</th>\n",
       "      <th>four_g</th>\n",
       "      <th>int_memory</th>\n",
       "      <th>m_dep</th>\n",
       "      <th>mobile_wt</th>\n",
       "      <th>...</th>\n",
       "      <th>pc</th>\n",
       "      <th>px_height</th>\n",
       "      <th>px_width</th>\n",
       "      <th>ram</th>\n",
       "      <th>sc_h</th>\n",
       "      <th>sc_w</th>\n",
       "      <th>talk_time</th>\n",
       "      <th>three_g</th>\n",
       "      <th>touch_screen</th>\n",
       "      <th>wifi</th>\n",
       "    </tr>\n",
       "  </thead>\n",
       "  <tbody>\n",
       "    <tr>\n",
       "      <th>0</th>\n",
       "      <td>1</td>\n",
       "      <td>1043</td>\n",
       "      <td>1</td>\n",
       "      <td>1.8</td>\n",
       "      <td>1</td>\n",
       "      <td>14</td>\n",
       "      <td>0</td>\n",
       "      <td>5</td>\n",
       "      <td>0.1</td>\n",
       "      <td>193</td>\n",
       "      <td>...</td>\n",
       "      <td>16</td>\n",
       "      <td>226</td>\n",
       "      <td>1412</td>\n",
       "      <td>3476</td>\n",
       "      <td>12</td>\n",
       "      <td>7</td>\n",
       "      <td>2</td>\n",
       "      <td>0</td>\n",
       "      <td>1</td>\n",
       "      <td>0</td>\n",
       "    </tr>\n",
       "    <tr>\n",
       "      <th>1</th>\n",
       "      <td>2</td>\n",
       "      <td>841</td>\n",
       "      <td>1</td>\n",
       "      <td>0.5</td>\n",
       "      <td>1</td>\n",
       "      <td>4</td>\n",
       "      <td>1</td>\n",
       "      <td>61</td>\n",
       "      <td>0.8</td>\n",
       "      <td>191</td>\n",
       "      <td>...</td>\n",
       "      <td>12</td>\n",
       "      <td>746</td>\n",
       "      <td>857</td>\n",
       "      <td>3895</td>\n",
       "      <td>6</td>\n",
       "      <td>0</td>\n",
       "      <td>7</td>\n",
       "      <td>1</td>\n",
       "      <td>0</td>\n",
       "      <td>0</td>\n",
       "    </tr>\n",
       "    <tr>\n",
       "      <th>2</th>\n",
       "      <td>3</td>\n",
       "      <td>1807</td>\n",
       "      <td>1</td>\n",
       "      <td>2.8</td>\n",
       "      <td>0</td>\n",
       "      <td>1</td>\n",
       "      <td>0</td>\n",
       "      <td>27</td>\n",
       "      <td>0.9</td>\n",
       "      <td>186</td>\n",
       "      <td>...</td>\n",
       "      <td>4</td>\n",
       "      <td>1270</td>\n",
       "      <td>1366</td>\n",
       "      <td>2396</td>\n",
       "      <td>17</td>\n",
       "      <td>10</td>\n",
       "      <td>10</td>\n",
       "      <td>0</td>\n",
       "      <td>1</td>\n",
       "      <td>1</td>\n",
       "    </tr>\n",
       "    <tr>\n",
       "      <th>3</th>\n",
       "      <td>4</td>\n",
       "      <td>1546</td>\n",
       "      <td>0</td>\n",
       "      <td>0.5</td>\n",
       "      <td>1</td>\n",
       "      <td>18</td>\n",
       "      <td>1</td>\n",
       "      <td>25</td>\n",
       "      <td>0.5</td>\n",
       "      <td>96</td>\n",
       "      <td>...</td>\n",
       "      <td>20</td>\n",
       "      <td>295</td>\n",
       "      <td>1752</td>\n",
       "      <td>3893</td>\n",
       "      <td>10</td>\n",
       "      <td>0</td>\n",
       "      <td>7</td>\n",
       "      <td>1</td>\n",
       "      <td>1</td>\n",
       "      <td>0</td>\n",
       "    </tr>\n",
       "    <tr>\n",
       "      <th>4</th>\n",
       "      <td>5</td>\n",
       "      <td>1434</td>\n",
       "      <td>0</td>\n",
       "      <td>1.4</td>\n",
       "      <td>0</td>\n",
       "      <td>11</td>\n",
       "      <td>1</td>\n",
       "      <td>49</td>\n",
       "      <td>0.5</td>\n",
       "      <td>108</td>\n",
       "      <td>...</td>\n",
       "      <td>18</td>\n",
       "      <td>749</td>\n",
       "      <td>810</td>\n",
       "      <td>1773</td>\n",
       "      <td>15</td>\n",
       "      <td>8</td>\n",
       "      <td>7</td>\n",
       "      <td>1</td>\n",
       "      <td>0</td>\n",
       "      <td>1</td>\n",
       "    </tr>\n",
       "  </tbody>\n",
       "</table>\n",
       "<p>5 rows × 21 columns</p>\n",
       "</div>"
      ],
      "text/plain": [
       "   id  battery_power  blue  clock_speed  dual_sim  fc  four_g  int_memory  \\\n",
       "0   1           1043     1          1.8         1  14       0           5   \n",
       "1   2            841     1          0.5         1   4       1          61   \n",
       "2   3           1807     1          2.8         0   1       0          27   \n",
       "3   4           1546     0          0.5         1  18       1          25   \n",
       "4   5           1434     0          1.4         0  11       1          49   \n",
       "\n",
       "   m_dep  mobile_wt  ...  pc  px_height  px_width   ram  sc_h  sc_w  \\\n",
       "0    0.1        193  ...  16        226      1412  3476    12     7   \n",
       "1    0.8        191  ...  12        746       857  3895     6     0   \n",
       "2    0.9        186  ...   4       1270      1366  2396    17    10   \n",
       "3    0.5         96  ...  20        295      1752  3893    10     0   \n",
       "4    0.5        108  ...  18        749       810  1773    15     8   \n",
       "\n",
       "   talk_time  three_g  touch_screen  wifi  \n",
       "0          2        0             1     0  \n",
       "1          7        1             0     0  \n",
       "2         10        0             1     1  \n",
       "3          7        1             1     0  \n",
       "4          7        1             0     1  \n",
       "\n",
       "[5 rows x 21 columns]"
      ]
     },
     "execution_count": 100,
     "metadata": {},
     "output_type": "execute_result"
    }
   ],
   "source": [
    "test = pd.read_csv('test.csv')\n",
    "test.head()"
   ]
  },
  {
   "cell_type": "code",
   "execution_count": 101,
   "metadata": {
    "execution": {
     "iopub.execute_input": "2020-08-30T10:32:47.648495Z",
     "iopub.status.busy": "2020-08-30T10:32:47.647888Z",
     "iopub.status.idle": "2020-08-30T10:32:47.656172Z",
     "shell.execute_reply": "2020-08-30T10:32:47.655385Z"
    },
    "papermill": {
     "duration": 0.039354,
     "end_time": "2020-08-30T10:32:47.656302",
     "exception": false,
     "start_time": "2020-08-30T10:32:47.616948",
     "status": "completed"
    },
    "tags": []
   },
   "outputs": [],
   "source": [
    "test = test.drop('id',axis=1) \n",
    "scaler.fit(test)\n",
    "x = scaler.transform(test)"
   ]
  },
  {
   "cell_type": "code",
   "execution_count": 102,
   "metadata": {
    "execution": {
     "iopub.execute_input": "2020-08-30T10:32:47.720858Z",
     "iopub.status.busy": "2020-08-30T10:32:47.720001Z",
     "iopub.status.idle": "2020-08-30T10:32:47.724857Z",
     "shell.execute_reply": "2020-08-30T10:32:47.724186Z"
    },
    "papermill": {
     "duration": 0.046358,
     "end_time": "2020-08-30T10:32:47.724985",
     "exception": false,
     "start_time": "2020-08-30T10:32:47.678627",
     "status": "completed"
    },
    "tags": []
   },
   "outputs": [],
   "source": [
    "price = GBC.predict(x)"
   ]
  },
  {
   "cell_type": "code",
   "execution_count": 103,
   "metadata": {
    "execution": {
     "iopub.execute_input": "2020-08-30T10:32:47.777605Z",
     "iopub.status.busy": "2020-08-30T10:32:47.776716Z",
     "iopub.status.idle": "2020-08-30T10:32:47.781965Z",
     "shell.execute_reply": "2020-08-30T10:32:47.781337Z"
    },
    "papermill": {
     "duration": 0.034762,
     "end_time": "2020-08-30T10:32:47.782085",
     "exception": false,
     "start_time": "2020-08-30T10:32:47.747323",
     "status": "completed"
    },
    "tags": []
   },
   "outputs": [
    {
     "name": "stdout",
     "output_type": "stream",
     "text": [
      "[3 3 2 3 1 3 3 1 3 0 3 3 0 0 2 0 2 1 3 2 1 3 1 1 3 0 2 0 3 0 2 0 3 0 0 1 3\n",
      " 1 2 1 1 2 0 0 0 1 0 3 1 2 1 0 3 0 3 1 3 1 1 3 3 2 0 2 1 1 2 3 1 2 1 2 2 3\n",
      " 3 0 2 0 2 3 1 3 3 0 3 0 3 1 3 0 1 2 2 0 2 2 0 2 1 2 1 0 0 3 0 2 0 1 2 3 3\n",
      " 2 1 3 3 3 3 2 3 0 0 3 2 1 1 0 3 2 3 1 0 2 1 1 3 1 1 0 3 2 1 2 1 2 2 3 3 2\n",
      " 2 3 2 3 0 0 3 2 3 3 3 3 2 2 3 3 3 3 1 0 3 0 0 0 1 0 0 1 0 0 1 2 0 0 0 0 2\n",
      " 2 2 1 0 0 0 1 0 3 2 0 2 2 2 3 1 2 3 3 3 2 2 1 0 0 1 2 0 2 3 3 0 2 0 3 2 3\n",
      " 3 1 0 1 0 3 0 1 0 2 2 1 2 0 3 0 3 1 2 0 0 2 1 3 3 3 1 1 3 0 0 2 3 3 1 3 1\n",
      " 1 3 2 1 2 3 3 3 1 0 0 2 3 1 1 3 2 0 3 0 1 2 1 0 3 2 3 3 2 1 3 3 2 3 2 2 1\n",
      " 2 0 3 3 1 0 0 3 0 3 0 1 2 0 2 3 1 3 2 2 1 2 0 0 0 1 3 2 0 0 0 3 2 0 2 3 0\n",
      " 2 2 2 3 1 3 3 2 2 3 3 3 0 3 1 3 1 3 1 3 3 0 1 1 3 1 3 2 3 0 0 0 0 2 0 0 2\n",
      " 2 1 2 2 2 0 1 0 0 3 2 0 3 1 2 2 1 2 3 1 1 2 2 1 2 0 1 1 0 3 2 0 0 1 0 0 1\n",
      " 1 0 0 0 2 2 3 2 3 0 3 0 3 0 1 1 1 1 0 3 2 3 3 1 3 1 3 1 3 2 1 2 2 1 1 0 0\n",
      " 0 1 2 1 0 3 2 0 2 2 0 0 3 1 1 0 2 2 3 0 3 0 2 3 2 3 0 2 0 2 2 0 1 2 0 0 1\n",
      " 1 1 3 3 3 2 3 1 1 2 2 3 3 2 0 2 2 2 2 1 0 2 2 0 0 0 3 1 1 2 2 2 0 3 0 2 2\n",
      " 0 3 0 2 3 0 1 1 3 3 1 1 2 3 2 0 2 1 3 0 3 3 1 3 2 2 3 0 1 2 3 1 3 2 3 1 1\n",
      " 1 0 3 1 0 3 2 3 2 0 3 3 3 2 3 3 1 2 1 2 3 3 1 0 1 1 1 2 1 0 0 2 2 3 2 0 2\n",
      " 1 3 3 0 1 3 1 2 1 1 0 0 2 1 0 1 1 2 2 0 2 2 1 0 3 0 0 3 2 0 0 0 0 0 3 0 3\n",
      " 0 3 2 1 3 2 0 1 0 3 2 2 2 0 3 0 2 0 2 0 1 1 1 1 2 1 3 1 3 2 2 1 3 2 0 1 2\n",
      " 0 3 3 0 2 1 1 2 0 3 2 0 3 2 3 0 0 3 0 1 2 3 2 2 2 2 1 2 3 0 1 1 1 2 1 0 0\n",
      " 1 0 0 3 1 1 1 0 0 1 1 3 0 3 2 3 0 0 1 2 2 1 0 1 1 0 1 1 0 0 3 3 1 3 1 2 3\n",
      " 0 1 0 2 2 0 3 1 0 3 0 1 0 3 3 3 2 3 0 3 2 0 0 0 3 3 2 0 2 2 2 1 0 3 3 0 3\n",
      " 1 2 1 1 1 3 1 1 1 2 1 0 1 2 0 2 0 0 0 0 2 3 3 3 0 1 2 2 1 0 0 2 1 0 2 0 2\n",
      " 2 2 1 2 0 2 1 3 0 0 3 1 3 0 0 2 3 3 1 2 2 1 0 0 2 3 0 3 0 0 0 2 2 1 2 0 3\n",
      " 2 1 2 3 3 0 1 1 2 1 2 2 0 1 3 1 1 3 1 2 3 1 1 1 1 3 2 0 2 3 0 2 3 3 2 2 3\n",
      " 2 0 1 2 0 2 1 1 2 2 2 1 2 1 0 1 3 1 0 1 2 3 1 0 0 2 2 2 3 0 3 3 2 1 3 0 0\n",
      " 3 1 2 1 2 3 2 0 3 0 2 3 0 2 2 2 3 1 1 2 3 1 0 1 1 2 1 3 0 2 2 0 2 3 2 3 0\n",
      " 2 1 1 2 2 3 3 0 2 1 2 1 3 1 1 2 0 1 0 0 3 3 2 0 0 0 0 3 2 3 3 0 0 2 2 0 2\n",
      " 2]\n"
     ]
    }
   ],
   "source": [
    "print(price)"
   ]
  },
  {
   "cell_type": "code",
   "execution_count": 104,
   "metadata": {
    "execution": {
     "iopub.execute_input": "2020-08-30T10:32:47.834874Z",
     "iopub.status.busy": "2020-08-30T10:32:47.833978Z",
     "iopub.status.idle": "2020-08-30T10:32:47.837366Z",
     "shell.execute_reply": "2020-08-30T10:32:47.836761Z"
    },
    "papermill": {
     "duration": 0.032313,
     "end_time": "2020-08-30T10:32:47.837485",
     "exception": false,
     "start_time": "2020-08-30T10:32:47.805172",
     "status": "completed"
    },
    "tags": []
   },
   "outputs": [],
   "source": [
    "test[\"price_range\"]=price"
   ]
  },
  {
   "cell_type": "code",
   "execution_count": 105,
   "metadata": {
    "execution": {
     "iopub.execute_input": "2020-08-30T10:32:47.890715Z",
     "iopub.status.busy": "2020-08-30T10:32:47.888712Z",
     "iopub.status.idle": "2020-08-30T10:32:48.139313Z",
     "shell.execute_reply": "2020-08-30T10:32:48.138802Z"
    },
    "papermill": {
     "duration": 0.278987,
     "end_time": "2020-08-30T10:32:48.139434",
     "exception": false,
     "start_time": "2020-08-30T10:32:47.860447",
     "status": "completed"
    },
    "tags": []
   },
   "outputs": [],
   "source": [
    "test.to_csv('Submission_Price_Detection.csv')"
   ]
  },
  {
   "cell_type": "markdown",
   "metadata": {
    "papermill": {
     "duration": 0.020752,
     "end_time": "2020-08-30T10:32:48.181748",
     "exception": false,
     "start_time": "2020-08-30T10:32:48.160996",
     "status": "completed"
    },
    "tags": []
   },
   "source": [
    "# Step 9: View Predictions"
   ]
  },
  {
   "cell_type": "code",
   "execution_count": 106,
   "metadata": {
    "execution": {
     "iopub.execute_input": "2020-08-30T10:32:48.233172Z",
     "iopub.status.busy": "2020-08-30T10:32:48.232622Z",
     "iopub.status.idle": "2020-08-30T10:32:48.241545Z",
     "shell.execute_reply": "2020-08-30T10:32:48.241069Z"
    },
    "papermill": {
     "duration": 0.03863,
     "end_time": "2020-08-30T10:32:48.241650",
     "exception": false,
     "start_time": "2020-08-30T10:32:48.203020",
     "status": "completed"
    },
    "tags": []
   },
   "outputs": [],
   "source": [
    "submission = pd.read_csv('./Submission_Price_Detection.csv')"
   ]
  },
  {
   "cell_type": "code",
   "execution_count": 107,
   "metadata": {
    "execution": {
     "iopub.execute_input": "2020-08-30T10:32:48.304809Z",
     "iopub.status.busy": "2020-08-30T10:32:48.304092Z",
     "iopub.status.idle": "2020-08-30T10:32:48.308179Z",
     "shell.execute_reply": "2020-08-30T10:32:48.308967Z"
    },
    "papermill": {
     "duration": 0.046204,
     "end_time": "2020-08-30T10:32:48.309183",
     "exception": false,
     "start_time": "2020-08-30T10:32:48.262979",
     "status": "completed"
    },
    "tags": []
   },
   "outputs": [
    {
     "data": {
      "text/html": [
       "<div>\n",
       "<style scoped>\n",
       "    .dataframe tbody tr th:only-of-type {\n",
       "        vertical-align: middle;\n",
       "    }\n",
       "\n",
       "    .dataframe tbody tr th {\n",
       "        vertical-align: top;\n",
       "    }\n",
       "\n",
       "    .dataframe thead th {\n",
       "        text-align: right;\n",
       "    }\n",
       "</style>\n",
       "<table border=\"1\" class=\"dataframe\">\n",
       "  <thead>\n",
       "    <tr style=\"text-align: right;\">\n",
       "      <th></th>\n",
       "      <th>Unnamed: 0</th>\n",
       "      <th>battery_power</th>\n",
       "      <th>blue</th>\n",
       "      <th>clock_speed</th>\n",
       "      <th>dual_sim</th>\n",
       "      <th>fc</th>\n",
       "      <th>four_g</th>\n",
       "      <th>int_memory</th>\n",
       "      <th>m_dep</th>\n",
       "      <th>mobile_wt</th>\n",
       "      <th>...</th>\n",
       "      <th>px_height</th>\n",
       "      <th>px_width</th>\n",
       "      <th>ram</th>\n",
       "      <th>sc_h</th>\n",
       "      <th>sc_w</th>\n",
       "      <th>talk_time</th>\n",
       "      <th>three_g</th>\n",
       "      <th>touch_screen</th>\n",
       "      <th>wifi</th>\n",
       "      <th>price_range</th>\n",
       "    </tr>\n",
       "  </thead>\n",
       "  <tbody>\n",
       "    <tr>\n",
       "      <th>0</th>\n",
       "      <td>0</td>\n",
       "      <td>1043</td>\n",
       "      <td>1</td>\n",
       "      <td>1.8</td>\n",
       "      <td>1</td>\n",
       "      <td>14</td>\n",
       "      <td>0</td>\n",
       "      <td>5</td>\n",
       "      <td>0.1</td>\n",
       "      <td>193</td>\n",
       "      <td>...</td>\n",
       "      <td>226</td>\n",
       "      <td>1412</td>\n",
       "      <td>3476</td>\n",
       "      <td>12</td>\n",
       "      <td>7</td>\n",
       "      <td>2</td>\n",
       "      <td>0</td>\n",
       "      <td>1</td>\n",
       "      <td>0</td>\n",
       "      <td>3</td>\n",
       "    </tr>\n",
       "    <tr>\n",
       "      <th>1</th>\n",
       "      <td>1</td>\n",
       "      <td>841</td>\n",
       "      <td>1</td>\n",
       "      <td>0.5</td>\n",
       "      <td>1</td>\n",
       "      <td>4</td>\n",
       "      <td>1</td>\n",
       "      <td>61</td>\n",
       "      <td>0.8</td>\n",
       "      <td>191</td>\n",
       "      <td>...</td>\n",
       "      <td>746</td>\n",
       "      <td>857</td>\n",
       "      <td>3895</td>\n",
       "      <td>6</td>\n",
       "      <td>0</td>\n",
       "      <td>7</td>\n",
       "      <td>1</td>\n",
       "      <td>0</td>\n",
       "      <td>0</td>\n",
       "      <td>3</td>\n",
       "    </tr>\n",
       "    <tr>\n",
       "      <th>2</th>\n",
       "      <td>2</td>\n",
       "      <td>1807</td>\n",
       "      <td>1</td>\n",
       "      <td>2.8</td>\n",
       "      <td>0</td>\n",
       "      <td>1</td>\n",
       "      <td>0</td>\n",
       "      <td>27</td>\n",
       "      <td>0.9</td>\n",
       "      <td>186</td>\n",
       "      <td>...</td>\n",
       "      <td>1270</td>\n",
       "      <td>1366</td>\n",
       "      <td>2396</td>\n",
       "      <td>17</td>\n",
       "      <td>10</td>\n",
       "      <td>10</td>\n",
       "      <td>0</td>\n",
       "      <td>1</td>\n",
       "      <td>1</td>\n",
       "      <td>2</td>\n",
       "    </tr>\n",
       "    <tr>\n",
       "      <th>3</th>\n",
       "      <td>3</td>\n",
       "      <td>1546</td>\n",
       "      <td>0</td>\n",
       "      <td>0.5</td>\n",
       "      <td>1</td>\n",
       "      <td>18</td>\n",
       "      <td>1</td>\n",
       "      <td>25</td>\n",
       "      <td>0.5</td>\n",
       "      <td>96</td>\n",
       "      <td>...</td>\n",
       "      <td>295</td>\n",
       "      <td>1752</td>\n",
       "      <td>3893</td>\n",
       "      <td>10</td>\n",
       "      <td>0</td>\n",
       "      <td>7</td>\n",
       "      <td>1</td>\n",
       "      <td>1</td>\n",
       "      <td>0</td>\n",
       "      <td>3</td>\n",
       "    </tr>\n",
       "    <tr>\n",
       "      <th>4</th>\n",
       "      <td>4</td>\n",
       "      <td>1434</td>\n",
       "      <td>0</td>\n",
       "      <td>1.4</td>\n",
       "      <td>0</td>\n",
       "      <td>11</td>\n",
       "      <td>1</td>\n",
       "      <td>49</td>\n",
       "      <td>0.5</td>\n",
       "      <td>108</td>\n",
       "      <td>...</td>\n",
       "      <td>749</td>\n",
       "      <td>810</td>\n",
       "      <td>1773</td>\n",
       "      <td>15</td>\n",
       "      <td>8</td>\n",
       "      <td>7</td>\n",
       "      <td>1</td>\n",
       "      <td>0</td>\n",
       "      <td>1</td>\n",
       "      <td>1</td>\n",
       "    </tr>\n",
       "  </tbody>\n",
       "</table>\n",
       "<p>5 rows × 22 columns</p>\n",
       "</div>"
      ],
      "text/plain": [
       "   Unnamed: 0  battery_power  blue  clock_speed  dual_sim  fc  four_g  \\\n",
       "0           0           1043     1          1.8         1  14       0   \n",
       "1           1            841     1          0.5         1   4       1   \n",
       "2           2           1807     1          2.8         0   1       0   \n",
       "3           3           1546     0          0.5         1  18       1   \n",
       "4           4           1434     0          1.4         0  11       1   \n",
       "\n",
       "   int_memory  m_dep  mobile_wt  ...  px_height  px_width   ram  sc_h  sc_w  \\\n",
       "0           5    0.1        193  ...        226      1412  3476    12     7   \n",
       "1          61    0.8        191  ...        746       857  3895     6     0   \n",
       "2          27    0.9        186  ...       1270      1366  2396    17    10   \n",
       "3          25    0.5         96  ...        295      1752  3893    10     0   \n",
       "4          49    0.5        108  ...        749       810  1773    15     8   \n",
       "\n",
       "   talk_time  three_g  touch_screen  wifi  price_range  \n",
       "0          2        0             1     0            3  \n",
       "1          7        1             0     0            3  \n",
       "2         10        0             1     1            2  \n",
       "3          7        1             1     0            3  \n",
       "4          7        1             0     1            1  \n",
       "\n",
       "[5 rows x 22 columns]"
      ]
     },
     "execution_count": 107,
     "metadata": {},
     "output_type": "execute_result"
    }
   ],
   "source": [
    "submission.head()"
   ]
  }
 ],
 "metadata": {
  "kernelspec": {
   "display_name": "Python 3",
   "language": "python",
   "name": "python3"
  },
  "language_info": {
   "codemirror_mode": {
    "name": "ipython",
    "version": 3
   },
   "file_extension": ".py",
   "mimetype": "text/x-python",
   "name": "python",
   "nbconvert_exporter": "python",
   "pygments_lexer": "ipython3",
   "version": "3.8.8"
  },
  "papermill": {
   "duration": 54.353433,
   "end_time": "2020-08-30T10:32:48.486460",
   "environment_variables": {},
   "exception": null,
   "input_path": "__notebook__.ipynb",
   "output_path": "__notebook__.ipynb",
   "parameters": {},
   "start_time": "2020-08-30T10:31:54.133027",
   "version": "2.1.0"
  }
 },
 "nbformat": 4,
 "nbformat_minor": 4
}
