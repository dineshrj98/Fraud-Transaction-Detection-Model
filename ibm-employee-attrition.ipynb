{
 "cells": [
  {
   "cell_type": "markdown",
   "metadata": {
    "papermill": {
     "duration": 0.021535,
     "end_time": "2020-08-30T12:08:11.667701",
     "exception": false,
     "start_time": "2020-08-30T12:08:11.646166",
     "status": "completed"
    },
    "tags": []
   },
   "source": [
    "# Step 1: Importing Libraries"
   ]
  },
  {
   "cell_type": "code",
   "execution_count": 131,
   "metadata": {
    "execution": {
     "iopub.execute_input": "2020-08-30T12:08:11.722129Z",
     "iopub.status.busy": "2020-08-30T12:08:11.721337Z",
     "iopub.status.idle": "2020-08-30T12:08:14.243542Z",
     "shell.execute_reply": "2020-08-30T12:08:14.242507Z"
    },
    "papermill": {
     "duration": 2.556364,
     "end_time": "2020-08-30T12:08:14.243715",
     "exception": false,
     "start_time": "2020-08-30T12:08:11.687351",
     "status": "completed"
    },
    "tags": []
   },
   "outputs": [],
   "source": [
    "# Data analysis tools\n",
    "import pandas as pd\n",
    "import numpy as np\n",
    "\n",
    "# Data Visualization Tools\n",
    "import seaborn as sns\n",
    "import matplotlib.pyplot as plt\n",
    "\n",
    "# Data Pre-Processing Libraries\n",
    "from sklearn.preprocessing import StandardScaler, LabelEncoder\n",
    "#import category_encoders as ce\n",
    "\n",
    "# For Train-Test Split\n",
    "from sklearn.model_selection import train_test_split\n",
    "\n",
    "# Libraries for various Algorithms\n",
    "from sklearn.linear_model import LogisticRegression\n",
    "from sklearn.naive_bayes import GaussianNB\n",
    "from sklearn.neighbors import KNeighborsClassifier\n",
    "from sklearn.svm import SVC\n",
    "from sklearn.ensemble import RandomForestClassifier, GradientBoostingClassifier, AdaBoostClassifier\n",
    "from xgboost.sklearn import XGBClassifier\n",
    "from sklearn.tree import DecisionTreeClassifier\n",
    "\n",
    "# Metrics Tools\n",
    "from sklearn.metrics import classification_report, confusion_matrix\n",
    "from sklearn.metrics import accuracy_score, f1_score\n",
    "\n",
    "#For Receiver Operating Characteristic (ROC)\n",
    "from sklearn.metrics import roc_curve ,roc_auc_score, auc\n",
    "\n",
    "import os\n",
    "for dirname, _, filenames in os.walk('/kaggle/input'):\n",
    "    for filename in filenames:\n",
    "        print(os.path.join(dirname, filename))"
   ]
  },
  {
   "cell_type": "markdown",
   "metadata": {
    "papermill": {
     "duration": 0.019513,
     "end_time": "2020-08-30T12:08:14.283511",
     "exception": false,
     "start_time": "2020-08-30T12:08:14.263998",
     "status": "completed"
    },
    "tags": []
   },
   "source": [
    "# Step 2: Loading the Dataset"
   ]
  },
  {
   "cell_type": "code",
   "execution_count": 132,
   "metadata": {
    "execution": {
     "iopub.execute_input": "2020-08-30T12:08:14.335326Z",
     "iopub.status.busy": "2020-08-30T12:08:14.334265Z",
     "iopub.status.idle": "2020-08-30T12:08:14.413167Z",
     "shell.execute_reply": "2020-08-30T12:08:14.412550Z"
    },
    "papermill": {
     "duration": 0.110001,
     "end_time": "2020-08-30T12:08:14.413297",
     "exception": false,
     "start_time": "2020-08-30T12:08:14.303296",
     "status": "completed"
    },
    "tags": []
   },
   "outputs": [
    {
     "data": {
      "text/html": [
       "<div>\n",
       "<style scoped>\n",
       "    .dataframe tbody tr th:only-of-type {\n",
       "        vertical-align: middle;\n",
       "    }\n",
       "\n",
       "    .dataframe tbody tr th {\n",
       "        vertical-align: top;\n",
       "    }\n",
       "\n",
       "    .dataframe thead th {\n",
       "        text-align: right;\n",
       "    }\n",
       "</style>\n",
       "<table border=\"1\" class=\"dataframe\">\n",
       "  <thead>\n",
       "    <tr style=\"text-align: right;\">\n",
       "      <th></th>\n",
       "      <th>Age</th>\n",
       "      <th>Attrition</th>\n",
       "      <th>BusinessTravel</th>\n",
       "      <th>DailyRate</th>\n",
       "      <th>Department</th>\n",
       "      <th>DistanceFromHome</th>\n",
       "      <th>Education</th>\n",
       "      <th>EducationField</th>\n",
       "      <th>EmployeeCount</th>\n",
       "      <th>EmployeeNumber</th>\n",
       "      <th>...</th>\n",
       "      <th>RelationshipSatisfaction</th>\n",
       "      <th>StandardHours</th>\n",
       "      <th>StockOptionLevel</th>\n",
       "      <th>TotalWorkingYears</th>\n",
       "      <th>TrainingTimesLastYear</th>\n",
       "      <th>WorkLifeBalance</th>\n",
       "      <th>YearsAtCompany</th>\n",
       "      <th>YearsInCurrentRole</th>\n",
       "      <th>YearsSinceLastPromotion</th>\n",
       "      <th>YearsWithCurrManager</th>\n",
       "    </tr>\n",
       "  </thead>\n",
       "  <tbody>\n",
       "    <tr>\n",
       "      <th>0</th>\n",
       "      <td>41</td>\n",
       "      <td>Yes</td>\n",
       "      <td>Travel_Rarely</td>\n",
       "      <td>1102</td>\n",
       "      <td>Sales</td>\n",
       "      <td>1</td>\n",
       "      <td>2</td>\n",
       "      <td>Life Sciences</td>\n",
       "      <td>1</td>\n",
       "      <td>1</td>\n",
       "      <td>...</td>\n",
       "      <td>1</td>\n",
       "      <td>80</td>\n",
       "      <td>0</td>\n",
       "      <td>8</td>\n",
       "      <td>0</td>\n",
       "      <td>1</td>\n",
       "      <td>6</td>\n",
       "      <td>4</td>\n",
       "      <td>0</td>\n",
       "      <td>5</td>\n",
       "    </tr>\n",
       "    <tr>\n",
       "      <th>1</th>\n",
       "      <td>49</td>\n",
       "      <td>No</td>\n",
       "      <td>Travel_Frequently</td>\n",
       "      <td>279</td>\n",
       "      <td>Research &amp; Development</td>\n",
       "      <td>8</td>\n",
       "      <td>1</td>\n",
       "      <td>Life Sciences</td>\n",
       "      <td>1</td>\n",
       "      <td>2</td>\n",
       "      <td>...</td>\n",
       "      <td>4</td>\n",
       "      <td>80</td>\n",
       "      <td>1</td>\n",
       "      <td>10</td>\n",
       "      <td>3</td>\n",
       "      <td>3</td>\n",
       "      <td>10</td>\n",
       "      <td>7</td>\n",
       "      <td>1</td>\n",
       "      <td>7</td>\n",
       "    </tr>\n",
       "    <tr>\n",
       "      <th>2</th>\n",
       "      <td>37</td>\n",
       "      <td>Yes</td>\n",
       "      <td>Travel_Rarely</td>\n",
       "      <td>1373</td>\n",
       "      <td>Research &amp; Development</td>\n",
       "      <td>2</td>\n",
       "      <td>2</td>\n",
       "      <td>Other</td>\n",
       "      <td>1</td>\n",
       "      <td>4</td>\n",
       "      <td>...</td>\n",
       "      <td>2</td>\n",
       "      <td>80</td>\n",
       "      <td>0</td>\n",
       "      <td>7</td>\n",
       "      <td>3</td>\n",
       "      <td>3</td>\n",
       "      <td>0</td>\n",
       "      <td>0</td>\n",
       "      <td>0</td>\n",
       "      <td>0</td>\n",
       "    </tr>\n",
       "    <tr>\n",
       "      <th>3</th>\n",
       "      <td>33</td>\n",
       "      <td>No</td>\n",
       "      <td>Travel_Frequently</td>\n",
       "      <td>1392</td>\n",
       "      <td>Research &amp; Development</td>\n",
       "      <td>3</td>\n",
       "      <td>4</td>\n",
       "      <td>Life Sciences</td>\n",
       "      <td>1</td>\n",
       "      <td>5</td>\n",
       "      <td>...</td>\n",
       "      <td>3</td>\n",
       "      <td>80</td>\n",
       "      <td>0</td>\n",
       "      <td>8</td>\n",
       "      <td>3</td>\n",
       "      <td>3</td>\n",
       "      <td>8</td>\n",
       "      <td>7</td>\n",
       "      <td>3</td>\n",
       "      <td>0</td>\n",
       "    </tr>\n",
       "    <tr>\n",
       "      <th>4</th>\n",
       "      <td>27</td>\n",
       "      <td>No</td>\n",
       "      <td>Travel_Rarely</td>\n",
       "      <td>591</td>\n",
       "      <td>Research &amp; Development</td>\n",
       "      <td>2</td>\n",
       "      <td>1</td>\n",
       "      <td>Medical</td>\n",
       "      <td>1</td>\n",
       "      <td>7</td>\n",
       "      <td>...</td>\n",
       "      <td>4</td>\n",
       "      <td>80</td>\n",
       "      <td>1</td>\n",
       "      <td>6</td>\n",
       "      <td>3</td>\n",
       "      <td>3</td>\n",
       "      <td>2</td>\n",
       "      <td>2</td>\n",
       "      <td>2</td>\n",
       "      <td>2</td>\n",
       "    </tr>\n",
       "  </tbody>\n",
       "</table>\n",
       "<p>5 rows × 35 columns</p>\n",
       "</div>"
      ],
      "text/plain": [
       "   Age Attrition     BusinessTravel  DailyRate              Department  \\\n",
       "0   41       Yes      Travel_Rarely       1102                   Sales   \n",
       "1   49        No  Travel_Frequently        279  Research & Development   \n",
       "2   37       Yes      Travel_Rarely       1373  Research & Development   \n",
       "3   33        No  Travel_Frequently       1392  Research & Development   \n",
       "4   27        No      Travel_Rarely        591  Research & Development   \n",
       "\n",
       "   DistanceFromHome  Education EducationField  EmployeeCount  EmployeeNumber  \\\n",
       "0                 1          2  Life Sciences              1               1   \n",
       "1                 8          1  Life Sciences              1               2   \n",
       "2                 2          2          Other              1               4   \n",
       "3                 3          4  Life Sciences              1               5   \n",
       "4                 2          1        Medical              1               7   \n",
       "\n",
       "   ...  RelationshipSatisfaction StandardHours  StockOptionLevel  \\\n",
       "0  ...                         1            80                 0   \n",
       "1  ...                         4            80                 1   \n",
       "2  ...                         2            80                 0   \n",
       "3  ...                         3            80                 0   \n",
       "4  ...                         4            80                 1   \n",
       "\n",
       "   TotalWorkingYears  TrainingTimesLastYear WorkLifeBalance  YearsAtCompany  \\\n",
       "0                  8                      0               1               6   \n",
       "1                 10                      3               3              10   \n",
       "2                  7                      3               3               0   \n",
       "3                  8                      3               3               8   \n",
       "4                  6                      3               3               2   \n",
       "\n",
       "  YearsInCurrentRole  YearsSinceLastPromotion  YearsWithCurrManager  \n",
       "0                  4                        0                     5  \n",
       "1                  7                        1                     7  \n",
       "2                  0                        0                     0  \n",
       "3                  7                        3                     0  \n",
       "4                  2                        2                     2  \n",
       "\n",
       "[5 rows x 35 columns]"
      ]
     },
     "execution_count": 132,
     "metadata": {},
     "output_type": "execute_result"
    }
   ],
   "source": [
    "df = pd.read_csv('WA_Fn-UseC_-HR-Employee-Attrition.csv')\n",
    "df.head()"
   ]
  },
  {
   "cell_type": "markdown",
   "metadata": {
    "papermill": {
     "duration": 0.020169,
     "end_time": "2020-08-30T12:08:14.458162",
     "exception": false,
     "start_time": "2020-08-30T12:08:14.437993",
     "status": "completed"
    },
    "tags": []
   },
   "source": [
    "# Step 3: Understanding the Structure of the Dataset"
   ]
  },
  {
   "cell_type": "code",
   "execution_count": 133,
   "metadata": {
    "execution": {
     "iopub.execute_input": "2020-08-30T12:08:14.521203Z",
     "iopub.status.busy": "2020-08-30T12:08:14.506678Z",
     "iopub.status.idle": "2020-08-30T12:08:14.533617Z",
     "shell.execute_reply": "2020-08-30T12:08:14.532785Z"
    },
    "papermill": {
     "duration": 0.055147,
     "end_time": "2020-08-30T12:08:14.533827",
     "exception": false,
     "start_time": "2020-08-30T12:08:14.478680",
     "status": "completed"
    },
    "tags": []
   },
   "outputs": [
    {
     "name": "stdout",
     "output_type": "stream",
     "text": [
      "<class 'pandas.core.frame.DataFrame'>\n",
      "RangeIndex: 1470 entries, 0 to 1469\n",
      "Data columns (total 35 columns):\n",
      " #   Column                    Non-Null Count  Dtype \n",
      "---  ------                    --------------  ----- \n",
      " 0   Age                       1470 non-null   int64 \n",
      " 1   Attrition                 1470 non-null   object\n",
      " 2   BusinessTravel            1470 non-null   object\n",
      " 3   DailyRate                 1470 non-null   int64 \n",
      " 4   Department                1470 non-null   object\n",
      " 5   DistanceFromHome          1470 non-null   int64 \n",
      " 6   Education                 1470 non-null   int64 \n",
      " 7   EducationField            1470 non-null   object\n",
      " 8   EmployeeCount             1470 non-null   int64 \n",
      " 9   EmployeeNumber            1470 non-null   int64 \n",
      " 10  EnvironmentSatisfaction   1470 non-null   int64 \n",
      " 11  Gender                    1470 non-null   object\n",
      " 12  HourlyRate                1470 non-null   int64 \n",
      " 13  JobInvolvement            1470 non-null   int64 \n",
      " 14  JobLevel                  1470 non-null   int64 \n",
      " 15  JobRole                   1470 non-null   object\n",
      " 16  JobSatisfaction           1470 non-null   int64 \n",
      " 17  MaritalStatus             1470 non-null   object\n",
      " 18  MonthlyIncome             1470 non-null   int64 \n",
      " 19  MonthlyRate               1470 non-null   int64 \n",
      " 20  NumCompaniesWorked        1470 non-null   int64 \n",
      " 21  Over18                    1470 non-null   object\n",
      " 22  OverTime                  1470 non-null   object\n",
      " 23  PercentSalaryHike         1470 non-null   int64 \n",
      " 24  PerformanceRating         1470 non-null   int64 \n",
      " 25  RelationshipSatisfaction  1470 non-null   int64 \n",
      " 26  StandardHours             1470 non-null   int64 \n",
      " 27  StockOptionLevel          1470 non-null   int64 \n",
      " 28  TotalWorkingYears         1470 non-null   int64 \n",
      " 29  TrainingTimesLastYear     1470 non-null   int64 \n",
      " 30  WorkLifeBalance           1470 non-null   int64 \n",
      " 31  YearsAtCompany            1470 non-null   int64 \n",
      " 32  YearsInCurrentRole        1470 non-null   int64 \n",
      " 33  YearsSinceLastPromotion   1470 non-null   int64 \n",
      " 34  YearsWithCurrManager      1470 non-null   int64 \n",
      "dtypes: int64(26), object(9)\n",
      "memory usage: 402.1+ KB\n"
     ]
    }
   ],
   "source": [
    "df.info()"
   ]
  },
  {
   "cell_type": "markdown",
   "metadata": {
    "papermill": {
     "duration": 0.020318,
     "end_time": "2020-08-30T12:08:14.578248",
     "exception": false,
     "start_time": "2020-08-30T12:08:14.557930",
     "status": "completed"
    },
    "tags": []
   },
   "source": [
    "# Step 4: Data Pre-Processing\n",
    "\n",
    "   # a) Treating Missing Values"
   ]
  },
  {
   "cell_type": "code",
   "execution_count": 134,
   "metadata": {
    "execution": {
     "iopub.execute_input": "2020-08-30T12:08:14.629467Z",
     "iopub.status.busy": "2020-08-30T12:08:14.626244Z",
     "iopub.status.idle": "2020-08-30T12:08:14.633949Z",
     "shell.execute_reply": "2020-08-30T12:08:14.633320Z"
    },
    "papermill": {
     "duration": 0.035164,
     "end_time": "2020-08-30T12:08:14.634071",
     "exception": false,
     "start_time": "2020-08-30T12:08:14.598907",
     "status": "completed"
    },
    "tags": []
   },
   "outputs": [
    {
     "data": {
      "text/plain": [
       "Age                         0\n",
       "Attrition                   0\n",
       "BusinessTravel              0\n",
       "DailyRate                   0\n",
       "Department                  0\n",
       "DistanceFromHome            0\n",
       "Education                   0\n",
       "EducationField              0\n",
       "EmployeeCount               0\n",
       "EmployeeNumber              0\n",
       "EnvironmentSatisfaction     0\n",
       "Gender                      0\n",
       "HourlyRate                  0\n",
       "JobInvolvement              0\n",
       "JobLevel                    0\n",
       "JobRole                     0\n",
       "JobSatisfaction             0\n",
       "MaritalStatus               0\n",
       "MonthlyIncome               0\n",
       "MonthlyRate                 0\n",
       "NumCompaniesWorked          0\n",
       "Over18                      0\n",
       "OverTime                    0\n",
       "PercentSalaryHike           0\n",
       "PerformanceRating           0\n",
       "RelationshipSatisfaction    0\n",
       "StandardHours               0\n",
       "StockOptionLevel            0\n",
       "TotalWorkingYears           0\n",
       "TrainingTimesLastYear       0\n",
       "WorkLifeBalance             0\n",
       "YearsAtCompany              0\n",
       "YearsInCurrentRole          0\n",
       "YearsSinceLastPromotion     0\n",
       "YearsWithCurrManager        0\n",
       "dtype: int64"
      ]
     },
     "execution_count": 134,
     "metadata": {},
     "output_type": "execute_result"
    }
   ],
   "source": [
    "df.isnull().sum()"
   ]
  },
  {
   "cell_type": "markdown",
   "metadata": {
    "papermill": {
     "duration": 0.020589,
     "end_time": "2020-08-30T12:08:14.675450",
     "exception": false,
     "start_time": "2020-08-30T12:08:14.654861",
     "status": "completed"
    },
    "tags": []
   },
   "source": [
    "<b> No Missing Values in the dataset. Hence no treatment for missing values required</b>\n",
    "\n",
    "\n",
    "# b) Finding and removing all the duplicated values"
   ]
  },
  {
   "cell_type": "code",
   "execution_count": 135,
   "metadata": {
    "execution": {
     "iopub.execute_input": "2020-08-30T12:08:14.723807Z",
     "iopub.status.busy": "2020-08-30T12:08:14.722998Z",
     "iopub.status.idle": "2020-08-30T12:08:14.736661Z",
     "shell.execute_reply": "2020-08-30T12:08:14.735951Z"
    },
    "papermill": {
     "duration": 0.040212,
     "end_time": "2020-08-30T12:08:14.736801",
     "exception": false,
     "start_time": "2020-08-30T12:08:14.696589",
     "status": "completed"
    },
    "tags": []
   },
   "outputs": [
    {
     "data": {
      "text/plain": [
       "0"
      ]
     },
     "execution_count": 135,
     "metadata": {},
     "output_type": "execute_result"
    }
   ],
   "source": [
    "len(df[df.duplicated()])"
   ]
  },
  {
   "cell_type": "markdown",
   "metadata": {
    "papermill": {
     "duration": 0.020724,
     "end_time": "2020-08-30T12:08:14.778558",
     "exception": false,
     "start_time": "2020-08-30T12:08:14.757834",
     "status": "completed"
    },
    "tags": []
   },
   "source": [
    "<b> The dataset does not have any duplicate values.</b>"
   ]
  },
  {
   "cell_type": "markdown",
   "metadata": {
    "papermill": {
     "duration": 0.020658,
     "end_time": "2020-08-30T12:08:14.820230",
     "exception": false,
     "start_time": "2020-08-30T12:08:14.799572",
     "status": "completed"
    },
    "tags": []
   },
   "source": [
    "# c) Checking for Imbalance\n",
    "\n",
    "<b>From the graph, it is clear that the class distribution is Imbalanced. The dataset has 80% samples of class 0 (employee is not leaving the job) and 20% samples of class 1(employee has decided to leave the job).</b>"
   ]
  },
  {
   "cell_type": "code",
   "execution_count": 136,
   "metadata": {
    "execution": {
     "iopub.execute_input": "2020-08-30T12:08:14.870744Z",
     "iopub.status.busy": "2020-08-30T12:08:14.869162Z",
     "iopub.status.idle": "2020-08-30T12:08:15.046954Z",
     "shell.execute_reply": "2020-08-30T12:08:15.046307Z"
    },
    "papermill": {
     "duration": 0.205894,
     "end_time": "2020-08-30T12:08:15.047087",
     "exception": false,
     "start_time": "2020-08-30T12:08:14.841193",
     "status": "completed"
    },
    "tags": []
   },
   "outputs": [
    {
     "name": "stderr",
     "output_type": "stream",
     "text": [
      "C:\\Users\\dines\\anaconda3\\lib\\site-packages\\seaborn\\_decorators.py:36: FutureWarning: Pass the following variable as a keyword arg: x. From version 0.12, the only valid positional argument will be `data`, and passing other arguments without an explicit keyword will result in an error or misinterpretation.\n",
      "  warnings.warn(\n"
     ]
    },
    {
     "data": {
      "text/plain": [
       "Text(0.5, 1.0, 'Checking imbalance')"
      ]
     },
     "execution_count": 136,
     "metadata": {},
     "output_type": "execute_result"
    },
    {
     "data": {
      "image/png": "[encoded data removed]",
      "text/plain": [
       "<Figure size 432x288 with 1 Axes>"
      ]
     },
     "metadata": {
      "needs_background": "light"
     },
     "output_type": "display_data"
    }
   ],
   "source": [
    "sns.countplot(df[\"Attrition\"])\n",
    "plt.xlabel(\"Class\")\n",
    "plt.ylabel(\"frequency\")\n",
    "plt.title(\"Checking imbalance\")"
   ]
  },
  {
   "cell_type": "markdown",
   "metadata": {
    "papermill": {
     "duration": 0.021428,
     "end_time": "2020-08-30T12:08:15.090804",
     "exception": false,
     "start_time": "2020-08-30T12:08:15.069376",
     "status": "completed"
    },
    "tags": []
   },
   "source": [
    "# Step 6: Defining the Tatget and Predictor Variables and Standard Scaling\n",
    "\n",
    "<b> If a feature’s variance is more than the variance of other features, that particular feature might dominate other features in the dataset. This could affect the accuracy of predictions. Hence, we need to scale all the features to a standard centred scale. For this purpose, we use StandardScaler() method.</b>"
   ]
  },
  {
   "cell_type": "code",
   "execution_count": 137,
   "metadata": {
    "execution": {
     "iopub.execute_input": "2020-08-30T12:08:15.140370Z",
     "iopub.status.busy": "2020-08-30T12:08:15.139629Z",
     "iopub.status.idle": "2020-08-30T12:08:15.142951Z",
     "shell.execute_reply": "2020-08-30T12:08:15.142308Z"
    },
    "papermill": {
     "duration": 0.030817,
     "end_time": "2020-08-30T12:08:15.143075",
     "exception": false,
     "start_time": "2020-08-30T12:08:15.112258",
     "status": "completed"
    },
    "tags": []
   },
   "outputs": [],
   "source": [
    "X=df.drop('Attrition',axis=1)"
   ]
  },
  {
   "cell_type": "code",
   "execution_count": 138,
   "metadata": {
    "execution": {
     "iopub.execute_input": "2020-08-30T12:08:15.197398Z",
     "iopub.status.busy": "2020-08-30T12:08:15.196323Z",
     "iopub.status.idle": "2020-08-30T12:08:15.208738Z",
     "shell.execute_reply": "2020-08-30T12:08:15.208037Z"
    },
    "papermill": {
     "duration": 0.043753,
     "end_time": "2020-08-30T12:08:15.208890",
     "exception": false,
     "start_time": "2020-08-30T12:08:15.165137",
     "status": "completed"
    },
    "tags": []
   },
   "outputs": [],
   "source": [
    "em = pd.get_dummies(X)"
   ]
  },
  {
   "cell_type": "code",
   "execution_count": 139,
   "metadata": {
    "execution": {
     "iopub.execute_input": "2020-08-30T12:08:15.274352Z",
     "iopub.status.busy": "2020-08-30T12:08:15.273335Z",
     "iopub.status.idle": "2020-08-30T12:08:15.278454Z",
     "shell.execute_reply": "2020-08-30T12:08:15.277730Z"
    },
    "papermill": {
     "duration": 0.048061,
     "end_time": "2020-08-30T12:08:15.278572",
     "exception": false,
     "start_time": "2020-08-30T12:08:15.230511",
     "status": "completed"
    },
    "tags": []
   },
   "outputs": [
    {
     "data": {
      "text/html": [
       "<div>\n",
       "<style scoped>\n",
       "    .dataframe tbody tr th:only-of-type {\n",
       "        vertical-align: middle;\n",
       "    }\n",
       "\n",
       "    .dataframe tbody tr th {\n",
       "        vertical-align: top;\n",
       "    }\n",
       "\n",
       "    .dataframe thead th {\n",
       "        text-align: right;\n",
       "    }\n",
       "</style>\n",
       "<table border=\"1\" class=\"dataframe\">\n",
       "  <thead>\n",
       "    <tr style=\"text-align: right;\">\n",
       "      <th></th>\n",
       "      <th>Age</th>\n",
       "      <th>DailyRate</th>\n",
       "      <th>DistanceFromHome</th>\n",
       "      <th>Education</th>\n",
       "      <th>EmployeeCount</th>\n",
       "      <th>EmployeeNumber</th>\n",
       "      <th>EnvironmentSatisfaction</th>\n",
       "      <th>HourlyRate</th>\n",
       "      <th>JobInvolvement</th>\n",
       "      <th>JobLevel</th>\n",
       "      <th>...</th>\n",
       "      <th>JobRole_Research Director</th>\n",
       "      <th>JobRole_Research Scientist</th>\n",
       "      <th>JobRole_Sales Executive</th>\n",
       "      <th>JobRole_Sales Representative</th>\n",
       "      <th>MaritalStatus_Divorced</th>\n",
       "      <th>MaritalStatus_Married</th>\n",
       "      <th>MaritalStatus_Single</th>\n",
       "      <th>Over18_Y</th>\n",
       "      <th>OverTime_No</th>\n",
       "      <th>OverTime_Yes</th>\n",
       "    </tr>\n",
       "  </thead>\n",
       "  <tbody>\n",
       "    <tr>\n",
       "      <th>0</th>\n",
       "      <td>41</td>\n",
       "      <td>1102</td>\n",
       "      <td>1</td>\n",
       "      <td>2</td>\n",
       "      <td>1</td>\n",
       "      <td>1</td>\n",
       "      <td>2</td>\n",
       "      <td>94</td>\n",
       "      <td>3</td>\n",
       "      <td>2</td>\n",
       "      <td>...</td>\n",
       "      <td>0</td>\n",
       "      <td>0</td>\n",
       "      <td>1</td>\n",
       "      <td>0</td>\n",
       "      <td>0</td>\n",
       "      <td>0</td>\n",
       "      <td>1</td>\n",
       "      <td>1</td>\n",
       "      <td>0</td>\n",
       "      <td>1</td>\n",
       "    </tr>\n",
       "    <tr>\n",
       "      <th>1</th>\n",
       "      <td>49</td>\n",
       "      <td>279</td>\n",
       "      <td>8</td>\n",
       "      <td>1</td>\n",
       "      <td>1</td>\n",
       "      <td>2</td>\n",
       "      <td>3</td>\n",
       "      <td>61</td>\n",
       "      <td>2</td>\n",
       "      <td>2</td>\n",
       "      <td>...</td>\n",
       "      <td>0</td>\n",
       "      <td>1</td>\n",
       "      <td>0</td>\n",
       "      <td>0</td>\n",
       "      <td>0</td>\n",
       "      <td>1</td>\n",
       "      <td>0</td>\n",
       "      <td>1</td>\n",
       "      <td>1</td>\n",
       "      <td>0</td>\n",
       "    </tr>\n",
       "    <tr>\n",
       "      <th>2</th>\n",
       "      <td>37</td>\n",
       "      <td>1373</td>\n",
       "      <td>2</td>\n",
       "      <td>2</td>\n",
       "      <td>1</td>\n",
       "      <td>4</td>\n",
       "      <td>4</td>\n",
       "      <td>92</td>\n",
       "      <td>2</td>\n",
       "      <td>1</td>\n",
       "      <td>...</td>\n",
       "      <td>0</td>\n",
       "      <td>0</td>\n",
       "      <td>0</td>\n",
       "      <td>0</td>\n",
       "      <td>0</td>\n",
       "      <td>0</td>\n",
       "      <td>1</td>\n",
       "      <td>1</td>\n",
       "      <td>0</td>\n",
       "      <td>1</td>\n",
       "    </tr>\n",
       "    <tr>\n",
       "      <th>3</th>\n",
       "      <td>33</td>\n",
       "      <td>1392</td>\n",
       "      <td>3</td>\n",
       "      <td>4</td>\n",
       "      <td>1</td>\n",
       "      <td>5</td>\n",
       "      <td>4</td>\n",
       "      <td>56</td>\n",
       "      <td>3</td>\n",
       "      <td>1</td>\n",
       "      <td>...</td>\n",
       "      <td>0</td>\n",
       "      <td>1</td>\n",
       "      <td>0</td>\n",
       "      <td>0</td>\n",
       "      <td>0</td>\n",
       "      <td>1</td>\n",
       "      <td>0</td>\n",
       "      <td>1</td>\n",
       "      <td>0</td>\n",
       "      <td>1</td>\n",
       "    </tr>\n",
       "    <tr>\n",
       "      <th>4</th>\n",
       "      <td>27</td>\n",
       "      <td>591</td>\n",
       "      <td>2</td>\n",
       "      <td>1</td>\n",
       "      <td>1</td>\n",
       "      <td>7</td>\n",
       "      <td>1</td>\n",
       "      <td>40</td>\n",
       "      <td>3</td>\n",
       "      <td>1</td>\n",
       "      <td>...</td>\n",
       "      <td>0</td>\n",
       "      <td>0</td>\n",
       "      <td>0</td>\n",
       "      <td>0</td>\n",
       "      <td>0</td>\n",
       "      <td>1</td>\n",
       "      <td>0</td>\n",
       "      <td>1</td>\n",
       "      <td>1</td>\n",
       "      <td>0</td>\n",
       "    </tr>\n",
       "  </tbody>\n",
       "</table>\n",
       "<p>5 rows × 55 columns</p>\n",
       "</div>"
      ],
      "text/plain": [
       "   Age  DailyRate  DistanceFromHome  Education  EmployeeCount  EmployeeNumber  \\\n",
       "0   41       1102                 1          2              1               1   \n",
       "1   49        279                 8          1              1               2   \n",
       "2   37       1373                 2          2              1               4   \n",
       "3   33       1392                 3          4              1               5   \n",
       "4   27        591                 2          1              1               7   \n",
       "\n",
       "   EnvironmentSatisfaction  HourlyRate  JobInvolvement  JobLevel  ...  \\\n",
       "0                        2          94               3         2  ...   \n",
       "1                        3          61               2         2  ...   \n",
       "2                        4          92               2         1  ...   \n",
       "3                        4          56               3         1  ...   \n",
       "4                        1          40               3         1  ...   \n",
       "\n",
       "   JobRole_Research Director  JobRole_Research Scientist  \\\n",
       "0                          0                           0   \n",
       "1                          0                           1   \n",
       "2                          0                           0   \n",
       "3                          0                           1   \n",
       "4                          0                           0   \n",
       "\n",
       "   JobRole_Sales Executive  JobRole_Sales Representative  \\\n",
       "0                        1                             0   \n",
       "1                        0                             0   \n",
       "2                        0                             0   \n",
       "3                        0                             0   \n",
       "4                        0                             0   \n",
       "\n",
       "   MaritalStatus_Divorced  MaritalStatus_Married  MaritalStatus_Single  \\\n",
       "0                       0                      0                     1   \n",
       "1                       0                      1                     0   \n",
       "2                       0                      0                     1   \n",
       "3                       0                      1                     0   \n",
       "4                       0                      1                     0   \n",
       "\n",
       "   Over18_Y  OverTime_No  OverTime_Yes  \n",
       "0         1            0             1  \n",
       "1         1            1             0  \n",
       "2         1            0             1  \n",
       "3         1            0             1  \n",
       "4         1            1             0  \n",
       "\n",
       "[5 rows x 55 columns]"
      ]
     },
     "execution_count": 139,
     "metadata": {},
     "output_type": "execute_result"
    }
   ],
   "source": [
    "em.head()"
   ]
  },
  {
   "cell_type": "code",
   "execution_count": 140,
   "metadata": {
    "execution": {
     "iopub.execute_input": "2020-08-30T12:08:15.330283Z",
     "iopub.status.busy": "2020-08-30T12:08:15.329423Z",
     "iopub.status.idle": "2020-08-30T12:08:15.332697Z",
     "shell.execute_reply": "2020-08-30T12:08:15.333284Z"
    },
    "papermill": {
     "duration": 0.03194,
     "end_time": "2020-08-30T12:08:15.333442",
     "exception": false,
     "start_time": "2020-08-30T12:08:15.301502",
     "status": "completed"
    },
    "tags": []
   },
   "outputs": [],
   "source": [
    "df['Attrition']=LabelEncoder().fit_transform(df['Attrition'])\n",
    "y=df['Attrition']"
   ]
  },
  {
   "cell_type": "code",
   "execution_count": 141,
   "metadata": {
    "execution": {
     "iopub.execute_input": "2020-08-30T12:08:15.386242Z",
     "iopub.status.busy": "2020-08-30T12:08:15.385013Z",
     "iopub.status.idle": "2020-08-30T12:08:15.390083Z",
     "shell.execute_reply": "2020-08-30T12:08:15.390616Z"
    },
    "papermill": {
     "duration": 0.034951,
     "end_time": "2020-08-30T12:08:15.390831",
     "exception": false,
     "start_time": "2020-08-30T12:08:15.355880",
     "status": "completed"
    },
    "tags": []
   },
   "outputs": [],
   "source": [
    "x_train, x_test, y_train, y_test = train_test_split(em,y, test_size=0.30, random_state=0)"
   ]
  },
  {
   "cell_type": "markdown",
   "metadata": {
    "papermill": {
     "duration": 0.026412,
     "end_time": "2020-08-30T12:08:15.444354",
     "exception": false,
     "start_time": "2020-08-30T12:08:15.417942",
     "status": "completed"
    },
    "tags": []
   },
   "source": [
    "# Step 7: Fitting the dataset to various models\n",
    "\n",
    "<b>We will fit the dataset to various models and find out the best fit model among these.\n",
    "\n",
    "Various models used in this notebook are:\n",
    "    \n",
    "\n",
    "1)  Logistic Regression\n",
    "\n",
    "2)  KNN                \n",
    "\n",
    "3)  Naive-Bayes       \n",
    "\n",
    "4)  SVM                   \n",
    "\n",
    "5)  Decision Tree         \n",
    "\n",
    "6)  Gradient Boosting     \n",
    "\n",
    "7)  Random Forest         \n",
    "\n",
    "8)  AdaBoost             \n",
    "\n",
    "9)  XGBoost    </b>           \n",
    "\n",
    "# 1) Logistic Regression"
   ]
  },
  {
   "cell_type": "code",
   "execution_count": 142,
   "metadata": {
    "execution": {
     "iopub.execute_input": "2020-08-30T12:08:15.514681Z",
     "iopub.status.busy": "2020-08-30T12:08:15.511348Z",
     "iopub.status.idle": "2020-08-30T12:08:18.323341Z",
     "shell.execute_reply": "2020-08-30T12:08:18.323983Z"
    },
    "papermill": {
     "duration": 2.854706,
     "end_time": "2020-08-30T12:08:18.324141",
     "exception": false,
     "start_time": "2020-08-30T12:08:15.469435",
     "status": "completed"
    },
    "tags": []
   },
   "outputs": [
    {
     "name": "stderr",
     "output_type": "stream",
     "text": [
      "C:\\Users\\dines\\anaconda3\\lib\\site-packages\\sklearn\\linear_model\\_sag.py:328: ConvergenceWarning: The max_iter was reached which means the coef_ did not converge\n",
      "  warnings.warn(\"The max_iter was reached which means \"\n"
     ]
    },
    {
     "data": {
      "text/plain": [
       "LogisticRegression(class_weight='balanced', max_iter=3000, random_state=0,\n",
       "                   solver='saga')"
      ]
     },
     "execution_count": 142,
     "metadata": {},
     "output_type": "execute_result"
    }
   ],
   "source": [
    "#Fitting the model\n",
    "\n",
    "logistic_Regression = LogisticRegression(max_iter=3000,random_state=0,class_weight=\"balanced\",solver = \"saga\")\n",
    "logistic_Regression.fit(x_train,y_train)"
   ]
  },
  {
   "cell_type": "code",
   "execution_count": 143,
   "metadata": {
    "execution": {
     "iopub.execute_input": "2020-08-30T12:08:18.378331Z",
     "iopub.status.busy": "2020-08-30T12:08:18.376033Z",
     "iopub.status.idle": "2020-08-30T12:08:18.382239Z",
     "shell.execute_reply": "2020-08-30T12:08:18.381374Z"
    },
    "papermill": {
     "duration": 0.035693,
     "end_time": "2020-08-30T12:08:18.382378",
     "exception": false,
     "start_time": "2020-08-30T12:08:18.346685",
     "status": "completed"
    },
    "tags": []
   },
   "outputs": [],
   "source": [
    "# Applying the model to the x_test\n",
    "\n",
    "y_pred = logistic_Regression.predict(x_test)"
   ]
  },
  {
   "cell_type": "code",
   "execution_count": 144,
   "metadata": {
    "execution": {
     "iopub.execute_input": "2020-08-30T12:08:18.444682Z",
     "iopub.status.busy": "2020-08-30T12:08:18.443646Z",
     "iopub.status.idle": "2020-08-30T12:08:18.447064Z",
     "shell.execute_reply": "2020-08-30T12:08:18.446463Z"
    },
    "papermill": {
     "duration": 0.039578,
     "end_time": "2020-08-30T12:08:18.447194",
     "exception": false,
     "start_time": "2020-08-30T12:08:18.407616",
     "status": "completed"
    },
    "tags": []
   },
   "outputs": [],
   "source": [
    "# Finding Accuracy\n",
    "\n",
    "log = accuracy_score(y_test, y_pred)*100"
   ]
  },
  {
   "cell_type": "code",
   "execution_count": 145,
   "metadata": {
    "execution": {
     "iopub.execute_input": "2020-08-30T12:08:18.498068Z",
     "iopub.status.busy": "2020-08-30T12:08:18.497210Z",
     "iopub.status.idle": "2020-08-30T12:08:18.503376Z",
     "shell.execute_reply": "2020-08-30T12:08:18.504006Z"
    },
    "papermill": {
     "duration": 0.034397,
     "end_time": "2020-08-30T12:08:18.504182",
     "exception": false,
     "start_time": "2020-08-30T12:08:18.469785",
     "status": "completed"
    },
    "tags": []
   },
   "outputs": [
    {
     "ename": "TypeError",
     "evalue": "confusion_matrix() missing 1 required positional argument: 'y_pred'",
     "output_type": "error",
     "traceback": [
      "\u001b[1;31m---------------------------------------------------------------------------\u001b[0m",
      "\u001b[1;31mTypeError\u001b[0m                                 Traceback (most recent call last)",
      "\u001b[1;32m<ipython-input-145-d280d7575572>\u001b[0m in \u001b[0;36m<module>\u001b[1;34m\u001b[0m\n\u001b[0;32m      1\u001b[0m \u001b[1;31m# Confusion Matrix\u001b[0m\u001b[1;33m\u001b[0m\u001b[1;33m\u001b[0m\u001b[1;33m\u001b[0m\u001b[0m\n\u001b[0;32m      2\u001b[0m \u001b[1;33m\u001b[0m\u001b[0m\n\u001b[1;32m----> 3\u001b[1;33m \u001b[0mcmlr\u001b[0m\u001b[1;33m=\u001b[0m\u001b[0mconfusion_matrix\u001b[0m\u001b[1;33m(\u001b[0m\u001b[0my_test\u001b[0m\u001b[1;33m)\u001b[0m\u001b[1;33m\u001b[0m\u001b[1;33m\u001b[0m\u001b[0m\n\u001b[0m\u001b[0;32m      4\u001b[0m \u001b[0mprint\u001b[0m\u001b[1;33m(\u001b[0m\u001b[0mcmlr\u001b[0m\u001b[1;33m)\u001b[0m\u001b[1;33m\u001b[0m\u001b[1;33m\u001b[0m\u001b[0m\n",
      "\u001b[1;32m~\\anaconda3\\lib\\site-packages\\sklearn\\utils\\validation.py\u001b[0m in \u001b[0;36minner_f\u001b[1;34m(*args, **kwargs)\u001b[0m\n\u001b[0;32m     61\u001b[0m             \u001b[0mextra_args\u001b[0m \u001b[1;33m=\u001b[0m \u001b[0mlen\u001b[0m\u001b[1;33m(\u001b[0m\u001b[0margs\u001b[0m\u001b[1;33m)\u001b[0m \u001b[1;33m-\u001b[0m \u001b[0mlen\u001b[0m\u001b[1;33m(\u001b[0m\u001b[0mall_args\u001b[0m\u001b[1;33m)\u001b[0m\u001b[1;33m\u001b[0m\u001b[1;33m\u001b[0m\u001b[0m\n\u001b[0;32m     62\u001b[0m             \u001b[1;32mif\u001b[0m \u001b[0mextra_args\u001b[0m \u001b[1;33m<=\u001b[0m \u001b[1;36m0\u001b[0m\u001b[1;33m:\u001b[0m\u001b[1;33m\u001b[0m\u001b[1;33m\u001b[0m\u001b[0m\n\u001b[1;32m---> 63\u001b[1;33m                 \u001b[1;32mreturn\u001b[0m \u001b[0mf\u001b[0m\u001b[1;33m(\u001b[0m\u001b[1;33m*\u001b[0m\u001b[0margs\u001b[0m\u001b[1;33m,\u001b[0m \u001b[1;33m**\u001b[0m\u001b[0mkwargs\u001b[0m\u001b[1;33m)\u001b[0m\u001b[1;33m\u001b[0m\u001b[1;33m\u001b[0m\u001b[0m\n\u001b[0m\u001b[0;32m     64\u001b[0m \u001b[1;33m\u001b[0m\u001b[0m\n\u001b[0;32m     65\u001b[0m             \u001b[1;31m# extra_args > 0\u001b[0m\u001b[1;33m\u001b[0m\u001b[1;33m\u001b[0m\u001b[1;33m\u001b[0m\u001b[0m\n",
      "\u001b[1;31mTypeError\u001b[0m: confusion_matrix() missing 1 required positional argument: 'y_pred'"
     ]
    }
   ],
   "source": [
    "# Confusion Matrix\n",
    "\n",
    "cmlr=confusion_matrix(y_test)\n",
    "print(cmlr)"
   ]
  },
  {
   "cell_type": "code",
   "execution_count": null,
   "metadata": {
    "execution": {
     "iopub.execute_input": "2020-08-30T12:08:18.558354Z",
     "iopub.status.busy": "2020-08-30T12:08:18.557593Z",
     "iopub.status.idle": "2020-08-30T12:08:18.569263Z",
     "shell.execute_reply": "2020-08-30T12:08:18.568507Z"
    },
    "papermill": {
     "duration": 0.039932,
     "end_time": "2020-08-30T12:08:18.569394",
     "exception": false,
     "start_time": "2020-08-30T12:08:18.529462",
     "status": "completed"
    },
    "tags": []
   },
   "outputs": [],
   "source": [
    "# Classification Report that computes various\n",
    "# metrics like Precision, Recall and F1 Score\n",
    "\n",
    "print(classification_report(y_pred,y_test))"
   ]
  },
  {
   "cell_type": "code",
   "execution_count": null,
   "metadata": {
    "execution": {
     "iopub.execute_input": "2020-08-30T12:08:18.627601Z",
     "iopub.status.busy": "2020-08-30T12:08:18.626562Z",
     "iopub.status.idle": "2020-08-30T12:08:18.808780Z",
     "shell.execute_reply": "2020-08-30T12:08:18.808144Z"
    },
    "papermill": {
     "duration": 0.216592,
     "end_time": "2020-08-30T12:08:18.808903",
     "exception": false,
     "start_time": "2020-08-30T12:08:18.592311",
     "status": "completed"
    },
    "tags": []
   },
   "outputs": [],
   "source": [
    "# Plotting the ROC Curve\n",
    "\n",
    "\n",
    "prob_lr=logistic_Regression.predict_proba(x_test)\n",
    "auc_lr = roc_auc_score(y_test,prob_lr[:,1])\n",
    "fprlr,tprlr,_ = roc_curve(y_test,prob_lr[:,1])\n",
    "roc_auc=auc(fprlr,tprlr)\n",
    "plt.plot(fprlr,tprlr,label = \"AUC = %.2f\" % auc_lr)\n",
    "plt.xlabel(\"False Positive Rate\")\n",
    "plt.ylabel(\"True Positive Rate\")\n",
    "plt.title(\"ROC Curve for Logistic Regression\")\n",
    "plt.plot([0,1],[0,1],\"--\")\n",
    "plt.legend()\n",
    "plt.show()"
   ]
  },
  {
   "cell_type": "markdown",
   "metadata": {
    "papermill": {
     "duration": 0.022921,
     "end_time": "2020-08-30T12:08:18.855006",
     "exception": false,
     "start_time": "2020-08-30T12:08:18.832085",
     "status": "completed"
    },
    "tags": []
   },
   "source": [
    "# 2) KNN"
   ]
  },
  {
   "cell_type": "code",
   "execution_count": null,
   "metadata": {
    "execution": {
     "iopub.execute_input": "2020-08-30T12:08:18.909668Z",
     "iopub.status.busy": "2020-08-30T12:08:18.908945Z",
     "iopub.status.idle": "2020-08-30T12:08:18.921780Z",
     "shell.execute_reply": "2020-08-30T12:08:18.921003Z"
    },
    "papermill": {
     "duration": 0.043591,
     "end_time": "2020-08-30T12:08:18.921908",
     "exception": false,
     "start_time": "2020-08-30T12:08:18.878317",
     "status": "completed"
    },
    "tags": []
   },
   "outputs": [],
   "source": [
    "#Fitting the model\n",
    "\n",
    "knn = KNeighborsClassifier(n_neighbors=35)\n",
    "knn.fit(x_train,y_train)"
   ]
  },
  {
   "cell_type": "code",
   "execution_count": null,
   "metadata": {
    "execution": {
     "iopub.execute_input": "2020-08-30T12:08:18.975943Z",
     "iopub.status.busy": "2020-08-30T12:08:18.975158Z",
     "iopub.status.idle": "2020-08-30T12:08:19.011573Z",
     "shell.execute_reply": "2020-08-30T12:08:19.010931Z"
    },
    "papermill": {
     "duration": 0.066372,
     "end_time": "2020-08-30T12:08:19.011696",
     "exception": false,
     "start_time": "2020-08-30T12:08:18.945324",
     "status": "completed"
    },
    "tags": []
   },
   "outputs": [],
   "source": [
    "# Applying the model to the x_test\n",
    "\n",
    "pred_knn = knn.predict(x_test)"
   ]
  },
  {
   "cell_type": "code",
   "execution_count": null,
   "metadata": {
    "execution": {
     "iopub.execute_input": "2020-08-30T12:08:19.065905Z",
     "iopub.status.busy": "2020-08-30T12:08:19.065185Z",
     "iopub.status.idle": "2020-08-30T12:08:19.068525Z",
     "shell.execute_reply": "2020-08-30T12:08:19.069081Z"
    },
    "papermill": {
     "duration": 0.033747,
     "end_time": "2020-08-30T12:08:19.069243",
     "exception": false,
     "start_time": "2020-08-30T12:08:19.035496",
     "status": "completed"
    },
    "tags": []
   },
   "outputs": [],
   "source": [
    "# Finding Accuracy\n",
    "\n",
    "KNN = accuracy_score(y_test, pred_knn)*100"
   ]
  },
  {
   "cell_type": "code",
   "execution_count": null,
   "metadata": {
    "execution": {
     "iopub.execute_input": "2020-08-30T12:08:19.121466Z",
     "iopub.status.busy": "2020-08-30T12:08:19.120688Z",
     "iopub.status.idle": "2020-08-30T12:08:19.127075Z",
     "shell.execute_reply": "2020-08-30T12:08:19.126385Z"
    },
    "papermill": {
     "duration": 0.034684,
     "end_time": "2020-08-30T12:08:19.127253",
     "exception": false,
     "start_time": "2020-08-30T12:08:19.092569",
     "status": "completed"
    },
    "tags": []
   },
   "outputs": [],
   "source": [
    "# Confusion Matrix\n",
    "\n",
    "cm_knn=confusion_matrix(y_test, pred_knn)\n",
    "print(cm_knn)"
   ]
  },
  {
   "cell_type": "code",
   "execution_count": null,
   "metadata": {
    "execution": {
     "iopub.execute_input": "2020-08-30T12:08:19.182354Z",
     "iopub.status.busy": "2020-08-30T12:08:19.180616Z",
     "iopub.status.idle": "2020-08-30T12:08:19.194428Z",
     "shell.execute_reply": "2020-08-30T12:08:19.193492Z"
    },
    "papermill": {
     "duration": 0.044023,
     "end_time": "2020-08-30T12:08:19.194555",
     "exception": false,
     "start_time": "2020-08-30T12:08:19.150532",
     "status": "completed"
    },
    "tags": []
   },
   "outputs": [],
   "source": [
    "# Classification Report that computes various\n",
    "# metrics like Precision, Recall and F1 Score\n",
    "\n",
    "print(classification_report(y_test, pred_knn))"
   ]
  },
  {
   "cell_type": "code",
   "execution_count": null,
   "metadata": {
    "execution": {
     "iopub.execute_input": "2020-08-30T12:08:19.253872Z",
     "iopub.status.busy": "2020-08-30T12:08:19.253119Z",
     "iopub.status.idle": "2020-08-30T12:08:19.446886Z",
     "shell.execute_reply": "2020-08-30T12:08:19.446149Z"
    },
    "papermill": {
     "duration": 0.229025,
     "end_time": "2020-08-30T12:08:19.447008",
     "exception": false,
     "start_time": "2020-08-30T12:08:19.217983",
     "status": "completed"
    },
    "tags": []
   },
   "outputs": [],
   "source": [
    "# Plotting the ROC Curve\n",
    "\n",
    "prob_knn= knn.predict_proba(x_test)\n",
    "auc_knn = roc_auc_score(y_test,prob_knn[:,1])\n",
    "fprknn,tprknn,_= roc_curve(y_test,prob_knn[:,1])\n",
    "roc_auc_knn=auc(fprknn,tprknn)\n",
    "plt.plot(fprknn,tprknn,label = \"AUC = %.2f\" % auc_knn)\n",
    "plt.xlabel(\"False Positive Rate\")\n",
    "plt.ylabel(\"True Positive Rate\")\n",
    "plt.title(\"ROC Curve for KNN\")\n",
    "plt.plot([0,1],[0,1],\"--\")\n",
    "plt.legend()\n",
    "plt.show()"
   ]
  },
  {
   "cell_type": "markdown",
   "metadata": {
    "papermill": {
     "duration": 0.024104,
     "end_time": "2020-08-30T12:08:19.495523",
     "exception": false,
     "start_time": "2020-08-30T12:08:19.471419",
     "status": "completed"
    },
    "tags": []
   },
   "source": [
    "# 3) Naive-Bayes"
   ]
  },
  {
   "cell_type": "code",
   "execution_count": null,
   "metadata": {
    "execution": {
     "iopub.execute_input": "2020-08-30T12:08:19.552504Z",
     "iopub.status.busy": "2020-08-30T12:08:19.551286Z",
     "iopub.status.idle": "2020-08-30T12:08:19.559448Z",
     "shell.execute_reply": "2020-08-30T12:08:19.558713Z"
    },
    "papermill": {
     "duration": 0.040022,
     "end_time": "2020-08-30T12:08:19.559567",
     "exception": false,
     "start_time": "2020-08-30T12:08:19.519545",
     "status": "completed"
    },
    "tags": []
   },
   "outputs": [],
   "source": [
    "#Fitting the model\n",
    "\n",
    "gnb=GaussianNB()\n",
    "gnb.fit(x_train,y_train)"
   ]
  },
  {
   "cell_type": "code",
   "execution_count": null,
   "metadata": {
    "execution": {
     "iopub.execute_input": "2020-08-30T12:08:19.615391Z",
     "iopub.status.busy": "2020-08-30T12:08:19.614664Z",
     "iopub.status.idle": "2020-08-30T12:08:19.618838Z",
     "shell.execute_reply": "2020-08-30T12:08:19.618119Z"
    },
    "papermill": {
     "duration": 0.035031,
     "end_time": "2020-08-30T12:08:19.618960",
     "exception": false,
     "start_time": "2020-08-30T12:08:19.583929",
     "status": "completed"
    },
    "tags": []
   },
   "outputs": [],
   "source": [
    "# Applying the model to the x_test\n",
    "\n",
    "pred_gnb = gnb.predict(x_test)"
   ]
  },
  {
   "cell_type": "code",
   "execution_count": null,
   "metadata": {
    "execution": {
     "iopub.execute_input": "2020-08-30T12:08:19.715410Z",
     "iopub.status.busy": "2020-08-30T12:08:19.714476Z",
     "iopub.status.idle": "2020-08-30T12:08:19.717712Z",
     "shell.execute_reply": "2020-08-30T12:08:19.718290Z"
    },
    "papermill": {
     "duration": 0.033132,
     "end_time": "2020-08-30T12:08:19.718449",
     "exception": false,
     "start_time": "2020-08-30T12:08:19.685317",
     "status": "completed"
    },
    "tags": []
   },
   "outputs": [],
   "source": [
    "# Finding Accuracy\n",
    "\n",
    "GNB = accuracy_score(y_test, pred_gnb)*100"
   ]
  },
  {
   "cell_type": "code",
   "execution_count": null,
   "metadata": {
    "execution": {
     "iopub.execute_input": "2020-08-30T12:08:19.774218Z",
     "iopub.status.busy": "2020-08-30T12:08:19.772810Z",
     "iopub.status.idle": "2020-08-30T12:08:19.779137Z",
     "shell.execute_reply": "2020-08-30T12:08:19.778407Z"
    },
    "papermill": {
     "duration": 0.035952,
     "end_time": "2020-08-30T12:08:19.779258",
     "exception": false,
     "start_time": "2020-08-30T12:08:19.743306",
     "status": "completed"
    },
    "tags": []
   },
   "outputs": [],
   "source": [
    "# Confusion Matrix\n",
    "\n",
    "cm_gnb=confusion_matrix(y_test, pred_gnb)\n",
    "print(cm_gnb)"
   ]
  },
  {
   "cell_type": "code",
   "execution_count": null,
   "metadata": {
    "execution": {
     "iopub.execute_input": "2020-08-30T12:08:19.833973Z",
     "iopub.status.busy": "2020-08-30T12:08:19.832879Z",
     "iopub.status.idle": "2020-08-30T12:08:19.842242Z",
     "shell.execute_reply": "2020-08-30T12:08:19.843080Z"
    },
    "papermill": {
     "duration": 0.039546,
     "end_time": "2020-08-30T12:08:19.843241",
     "exception": false,
     "start_time": "2020-08-30T12:08:19.803695",
     "status": "completed"
    },
    "tags": []
   },
   "outputs": [],
   "source": [
    "# Classification Report that computes various \n",
    "# metrics like Precision, Recall and F1 Score\n",
    "\n",
    "print(classification_report(y_test, pred_gnb))"
   ]
  },
  {
   "cell_type": "code",
   "execution_count": null,
   "metadata": {
    "execution": {
     "iopub.execute_input": "2020-08-30T12:08:19.904415Z",
     "iopub.status.busy": "2020-08-30T12:08:19.903617Z",
     "iopub.status.idle": "2020-08-30T12:08:20.081928Z",
     "shell.execute_reply": "2020-08-30T12:08:20.081303Z"
    },
    "papermill": {
     "duration": 0.214264,
     "end_time": "2020-08-30T12:08:20.082058",
     "exception": false,
     "start_time": "2020-08-30T12:08:19.867794",
     "status": "completed"
    },
    "tags": []
   },
   "outputs": [],
   "source": [
    "# Plotting the ROC Curve\n",
    "\n",
    "prob_gnb= gnb.predict_proba(x_test)\n",
    "auc_gnb = roc_auc_score(y_test,prob_gnb[:,1])\n",
    "fprgnb,tprgnb,_= roc_curve(y_test,prob_gnb[:,1])\n",
    "roc_auc_gnb=auc(fprgnb,tprgnb)\n",
    "plt.plot(fprgnb,tprgnb,label = \"AUC = %.2f\" % auc_gnb)\n",
    "plt.xlabel(\"False Positive Rate\")\n",
    "plt.ylabel(\"True Positive Rate\")\n",
    "plt.title(\"ROC Curve for Naive-Bayes\")\n",
    "plt.plot([0,1],[0,1],\"--\")\n",
    "plt.legend()\n",
    "plt.show()"
   ]
  },
  {
   "cell_type": "markdown",
   "metadata": {
    "papermill": {
     "duration": 0.024617,
     "end_time": "2020-08-30T12:08:20.131495",
     "exception": false,
     "start_time": "2020-08-30T12:08:20.106878",
     "status": "completed"
    },
    "tags": []
   },
   "source": [
    "# 4) SVM"
   ]
  },
  {
   "cell_type": "code",
   "execution_count": null,
   "metadata": {
    "execution": {
     "iopub.execute_input": "2020-08-30T12:08:20.190467Z",
     "iopub.status.busy": "2020-08-30T12:08:20.189699Z",
     "iopub.status.idle": "2020-08-30T12:08:20.527093Z",
     "shell.execute_reply": "2020-08-30T12:08:20.526307Z"
    },
    "papermill": {
     "duration": 0.370811,
     "end_time": "2020-08-30T12:08:20.527263",
     "exception": false,
     "start_time": "2020-08-30T12:08:20.156452",
     "status": "completed"
    },
    "tags": []
   },
   "outputs": [],
   "source": [
    "#Fitting the model\n",
    "\n",
    "svc = SVC(probability=True)\n",
    "svc.fit(x_train,y_train)\n",
    "\n",
    "# Applying the model to the x_test\n",
    "pred_svc = svc.predict(x_test)"
   ]
  },
  {
   "cell_type": "code",
   "execution_count": null,
   "metadata": {
    "execution": {
     "iopub.execute_input": "2020-08-30T12:08:20.583954Z",
     "iopub.status.busy": "2020-08-30T12:08:20.583106Z",
     "iopub.status.idle": "2020-08-30T12:08:20.586935Z",
     "shell.execute_reply": "2020-08-30T12:08:20.586177Z"
    },
    "papermill": {
     "duration": 0.03416,
     "end_time": "2020-08-30T12:08:20.587058",
     "exception": false,
     "start_time": "2020-08-30T12:08:20.552898",
     "status": "completed"
    },
    "tags": []
   },
   "outputs": [],
   "source": [
    "# Finding Accuracy\n",
    "\n",
    "SVC = accuracy_score(y_test, pred_svc)*100"
   ]
  },
  {
   "cell_type": "code",
   "execution_count": null,
   "metadata": {
    "execution": {
     "iopub.execute_input": "2020-08-30T12:08:20.642876Z",
     "iopub.status.busy": "2020-08-30T12:08:20.642137Z",
     "iopub.status.idle": "2020-08-30T12:08:20.649162Z",
     "shell.execute_reply": "2020-08-30T12:08:20.648526Z"
    },
    "papermill": {
     "duration": 0.037038,
     "end_time": "2020-08-30T12:08:20.649283",
     "exception": false,
     "start_time": "2020-08-30T12:08:20.612245",
     "status": "completed"
    },
    "tags": []
   },
   "outputs": [],
   "source": [
    "# Confusion Matrix\n",
    "\n",
    "cm_svc=confusion_matrix(y_test, pred_svc)\n",
    "print(cm_svc)"
   ]
  },
  {
   "cell_type": "code",
   "execution_count": null,
   "metadata": {
    "execution": {
     "iopub.execute_input": "2020-08-30T12:08:20.706048Z",
     "iopub.status.busy": "2020-08-30T12:08:20.705229Z",
     "iopub.status.idle": "2020-08-30T12:08:20.716562Z",
     "shell.execute_reply": "2020-08-30T12:08:20.715552Z"
    },
    "papermill": {
     "duration": 0.042067,
     "end_time": "2020-08-30T12:08:20.716741",
     "exception": false,
     "start_time": "2020-08-30T12:08:20.674674",
     "status": "completed"
    },
    "tags": []
   },
   "outputs": [],
   "source": [
    "# Classification Report that computes various \n",
    "#metrics like Precision, Recall and F1 Score\n",
    "\n",
    "print(classification_report(y_test, pred_svc))"
   ]
  },
  {
   "cell_type": "code",
   "execution_count": null,
   "metadata": {
    "execution": {
     "iopub.execute_input": "2020-08-30T12:08:20.782122Z",
     "iopub.status.busy": "2020-08-30T12:08:20.781283Z",
     "iopub.status.idle": "2020-08-30T12:08:20.987602Z",
     "shell.execute_reply": "2020-08-30T12:08:20.987000Z"
    },
    "papermill": {
     "duration": 0.243854,
     "end_time": "2020-08-30T12:08:20.987737",
     "exception": false,
     "start_time": "2020-08-30T12:08:20.743883",
     "status": "completed"
    },
    "tags": []
   },
   "outputs": [],
   "source": [
    "# Plotting the ROC Curve\n",
    "\n",
    "prob_svc= svc.predict_proba(x_test)\n",
    "auc_svc = roc_auc_score(y_test,prob_svc[:,1])\n",
    "fprsvc,tprsvc,_= roc_curve(y_test,prob_svc[:,1])\n",
    "roc_auc_svc=auc(fprsvc,tprsvc)\n",
    "plt.plot(fprsvc,tprsvc,label = \"AUC = %.2f\" % auc_svc)\n",
    "plt.xlabel(\"False Positive Rate\")\n",
    "plt.ylabel(\"True Positive Rate\")\n",
    "plt.title(\"ROC Curve for SVM\")\n",
    "plt.plot([0,1],[0,1],\"--\")\n",
    "plt.legend()\n",
    "plt.show()"
   ]
  },
  {
   "cell_type": "markdown",
   "metadata": {
    "papermill": {
     "duration": 0.025723,
     "end_time": "2020-08-30T12:08:21.039933",
     "exception": false,
     "start_time": "2020-08-30T12:08:21.014210",
     "status": "completed"
    },
    "tags": []
   },
   "source": [
    "# 5) Decision Tree"
   ]
  },
  {
   "cell_type": "code",
   "execution_count": null,
   "metadata": {
    "execution": {
     "iopub.execute_input": "2020-08-30T12:08:21.099547Z",
     "iopub.status.busy": "2020-08-30T12:08:21.098804Z",
     "iopub.status.idle": "2020-08-30T12:08:21.117210Z",
     "shell.execute_reply": "2020-08-30T12:08:21.116549Z"
    },
    "papermill": {
     "duration": 0.051722,
     "end_time": "2020-08-30T12:08:21.117336",
     "exception": false,
     "start_time": "2020-08-30T12:08:21.065614",
     "status": "completed"
    },
    "tags": []
   },
   "outputs": [],
   "source": [
    "#Fitting the model\n",
    "\n",
    "dtree_en = DecisionTreeClassifier()\n",
    "clf = dtree_en.fit(x_train,y_train)"
   ]
  },
  {
   "cell_type": "code",
   "execution_count": null,
   "metadata": {
    "papermill": {
     "duration": 0.026099,
     "end_time": "2020-08-30T12:08:21.169380",
     "exception": false,
     "start_time": "2020-08-30T12:08:21.143281",
     "status": "completed"
    },
    "tags": []
   },
   "outputs": [],
   "source": []
  },
  {
   "cell_type": "code",
   "execution_count": null,
   "metadata": {
    "execution": {
     "iopub.execute_input": "2020-08-30T12:08:21.229445Z",
     "iopub.status.busy": "2020-08-30T12:08:21.228590Z",
     "iopub.status.idle": "2020-08-30T12:08:21.231744Z",
     "shell.execute_reply": "2020-08-30T12:08:21.232369Z"
    },
    "papermill": {
     "duration": 0.037331,
     "end_time": "2020-08-30T12:08:21.232514",
     "exception": false,
     "start_time": "2020-08-30T12:08:21.195183",
     "status": "completed"
    },
    "tags": []
   },
   "outputs": [],
   "source": [
    "# Applying the model to the x_test\n",
    "\n",
    "pred_dt = clf.predict(x_test)"
   ]
  },
  {
   "cell_type": "code",
   "execution_count": null,
   "metadata": {
    "execution": {
     "iopub.execute_input": "2020-08-30T12:08:21.291066Z",
     "iopub.status.busy": "2020-08-30T12:08:21.290154Z",
     "iopub.status.idle": "2020-08-30T12:08:21.294056Z",
     "shell.execute_reply": "2020-08-30T12:08:21.293286Z"
    },
    "papermill": {
     "duration": 0.035138,
     "end_time": "2020-08-30T12:08:21.294182",
     "exception": false,
     "start_time": "2020-08-30T12:08:21.259044",
     "status": "completed"
    },
    "tags": []
   },
   "outputs": [],
   "source": [
    "# Finding Accuracy\n",
    "\n",
    "DTREE = accuracy_score(y_test, pred_dt)*100"
   ]
  },
  {
   "cell_type": "code",
   "execution_count": null,
   "metadata": {
    "execution": {
     "iopub.execute_input": "2020-08-30T12:08:21.353346Z",
     "iopub.status.busy": "2020-08-30T12:08:21.352556Z",
     "iopub.status.idle": "2020-08-30T12:08:21.365029Z",
     "shell.execute_reply": "2020-08-30T12:08:21.365611Z"
    },
    "papermill": {
     "duration": 0.045314,
     "end_time": "2020-08-30T12:08:21.365832",
     "exception": false,
     "start_time": "2020-08-30T12:08:21.320518",
     "status": "completed"
    },
    "tags": []
   },
   "outputs": [],
   "source": [
    "# Confusion Matrix\n",
    "\n",
    "cm_dt=confusion_matrix(pred_dt, y_test)\n",
    "print(cm_dt)\n",
    "\n",
    "# Classification Report that computes various \n",
    "# metrics like Precision, Recall and F1 Score\n",
    "\n",
    "print(classification_report(y_test,pred_dt))"
   ]
  },
  {
   "cell_type": "code",
   "execution_count": null,
   "metadata": {
    "execution": {
     "iopub.execute_input": "2020-08-30T12:08:21.432044Z",
     "iopub.status.busy": "2020-08-30T12:08:21.430977Z",
     "iopub.status.idle": "2020-08-30T12:08:21.616204Z",
     "shell.execute_reply": "2020-08-30T12:08:21.615553Z"
    },
    "papermill": {
     "duration": 0.223623,
     "end_time": "2020-08-30T12:08:21.616337",
     "exception": false,
     "start_time": "2020-08-30T12:08:21.392714",
     "status": "completed"
    },
    "tags": []
   },
   "outputs": [],
   "source": [
    "# Plotting the ROC Curve\n",
    "\n",
    "prob_dt= dtree_en.predict_proba(x_test)\n",
    "auc_dt = roc_auc_score(y_test,prob_dt[:,1])\n",
    "fprdt,tprdt,_= roc_curve(y_test,prob_dt[:,1])\n",
    "roc_auc_dt=auc(fprdt,tprdt)\n",
    "plt.plot(fprdt,tprdt,label = \"AUC = %.2f\" % auc_dt)\n",
    "plt.xlabel(\"False Positive Rate\")\n",
    "plt.ylabel(\"True Positive Rate\")\n",
    "plt.title(\"ROC Curve for Decision Tree\")\n",
    "plt.plot([0,1],[0,1],\"--\")\n",
    "plt.legend()\n",
    "plt.show()"
   ]
  },
  {
   "cell_type": "markdown",
   "metadata": {
    "papermill": {
     "duration": 0.026599,
     "end_time": "2020-08-30T12:08:21.669970",
     "exception": false,
     "start_time": "2020-08-30T12:08:21.643371",
     "status": "completed"
    },
    "tags": []
   },
   "source": [
    "# 6) Gradient Boosting"
   ]
  },
  {
   "cell_type": "code",
   "execution_count": null,
   "metadata": {
    "execution": {
     "iopub.execute_input": "2020-08-30T12:08:21.731332Z",
     "iopub.status.busy": "2020-08-30T12:08:21.730546Z",
     "iopub.status.idle": "2020-08-30T12:08:22.417594Z",
     "shell.execute_reply": "2020-08-30T12:08:22.416874Z"
    },
    "papermill": {
     "duration": 0.721363,
     "end_time": "2020-08-30T12:08:22.417716",
     "exception": false,
     "start_time": "2020-08-30T12:08:21.696353",
     "status": "completed"
    },
    "tags": []
   },
   "outputs": [],
   "source": [
    "#Fitting the model\n",
    "\n",
    "GBC=GradientBoostingClassifier(n_estimators=150)\n",
    "GBC.fit(x_train,y_train)"
   ]
  },
  {
   "cell_type": "code",
   "execution_count": 146,
   "metadata": {
    "execution": {
     "iopub.execute_input": "2020-08-30T12:08:22.482618Z",
     "iopub.status.busy": "2020-08-30T12:08:22.480246Z",
     "iopub.status.idle": "2020-08-30T12:08:22.486261Z",
     "shell.execute_reply": "2020-08-30T12:08:22.485450Z"
    },
    "papermill": {
     "duration": 0.04091,
     "end_time": "2020-08-30T12:08:22.486390",
     "exception": false,
     "start_time": "2020-08-30T12:08:22.445480",
     "status": "completed"
    },
    "tags": []
   },
   "outputs": [],
   "source": [
    "# Applying the model to the x_test\n",
    "\n",
    "Y_predict=GBC.predict(x_test)"
   ]
  },
  {
   "cell_type": "code",
   "execution_count": 147,
   "metadata": {
    "execution": {
     "iopub.execute_input": "2020-08-30T12:08:22.547994Z",
     "iopub.status.busy": "2020-08-30T12:08:22.546918Z",
     "iopub.status.idle": "2020-08-30T12:08:22.550458Z",
     "shell.execute_reply": "2020-08-30T12:08:22.549705Z"
    },
    "papermill": {
     "duration": 0.036754,
     "end_time": "2020-08-30T12:08:22.550593",
     "exception": false,
     "start_time": "2020-08-30T12:08:22.513839",
     "status": "completed"
    },
    "tags": []
   },
   "outputs": [],
   "source": [
    "# Finding Accuracy\n",
    "\n",
    "gbc = accuracy_score(y_test,Y_predict)*100"
   ]
  },
  {
   "cell_type": "code",
   "execution_count": 148,
   "metadata": {
    "execution": {
     "iopub.execute_input": "2020-08-30T12:08:22.612070Z",
     "iopub.status.busy": "2020-08-30T12:08:22.611281Z",
     "iopub.status.idle": "2020-08-30T12:08:22.624011Z",
     "shell.execute_reply": "2020-08-30T12:08:22.622941Z"
    },
    "papermill": {
     "duration": 0.045788,
     "end_time": "2020-08-30T12:08:22.624200",
     "exception": false,
     "start_time": "2020-08-30T12:08:22.578412",
     "status": "completed"
    },
    "tags": []
   },
   "outputs": [
    {
     "name": "stdout",
     "output_type": "stream",
     "text": [
      "[[362   9]\n",
      " [ 47  23]]\n",
      "              precision    recall  f1-score   support\n",
      "\n",
      "           0       0.89      0.98      0.93       371\n",
      "           1       0.72      0.33      0.45        70\n",
      "\n",
      "    accuracy                           0.87       441\n",
      "   macro avg       0.80      0.65      0.69       441\n",
      "weighted avg       0.86      0.87      0.85       441\n",
      "\n"
     ]
    }
   ],
   "source": [
    "# Confusion Matrix\n",
    "\n",
    "cm_gbc=confusion_matrix(y_test,Y_predict)\n",
    "print(cm_gbc)\n",
    "\n",
    "# Classification Report that computes various \n",
    "# metrics like Precision, Recall and F1 Score\n",
    "\n",
    "print(classification_report(y_test,Y_predict))"
   ]
  },
  {
   "cell_type": "code",
   "execution_count": 149,
   "metadata": {
    "execution": {
     "iopub.execute_input": "2020-08-30T12:08:22.691277Z",
     "iopub.status.busy": "2020-08-30T12:08:22.690500Z",
     "iopub.status.idle": "2020-08-30T12:08:22.884296Z",
     "shell.execute_reply": "2020-08-30T12:08:22.883589Z"
    },
    "papermill": {
     "duration": 0.2328,
     "end_time": "2020-08-30T12:08:22.884428",
     "exception": false,
     "start_time": "2020-08-30T12:08:22.651628",
     "status": "completed"
    },
    "tags": []
   },
   "outputs": [
    {
     "data": {
      "image/png": "[encoded data removed]",
      "text/plain": [
       "<Figure size 432x288 with 1 Axes>"
      ]
     },
     "metadata": {
      "needs_background": "light"
     },
     "output_type": "display_data"
    }
   ],
   "source": [
    "# Plotting the ROC Curve\n",
    "\n",
    "prob_GBC= GBC.predict_proba(x_test)\n",
    "auc_GBC = roc_auc_score(y_test,prob_GBC[:,1])\n",
    "fprGBC,tprGBC,_= roc_curve(y_test,prob_GBC[:,1])\n",
    "roc_auc_GBC=auc(fprGBC,tprGBC)\n",
    "plt.plot(fprGBC,tprGBC,label = \"AUC = %.2f\" % auc_GBC)\n",
    "plt.xlabel(\"False Positive Rate\")\n",
    "plt.ylabel(\"True Positive Rate\")\n",
    "plt.title(\"ROC Curve for Gradient Boosting\")\n",
    "plt.plot([0,1],[0,1],\"--\")\n",
    "plt.legend()\n",
    "plt.show()"
   ]
  },
  {
   "cell_type": "markdown",
   "metadata": {
    "papermill": {
     "duration": 0.027881,
     "end_time": "2020-08-30T12:08:22.940531",
     "exception": false,
     "start_time": "2020-08-30T12:08:22.912650",
     "status": "completed"
    },
    "tags": []
   },
   "source": [
    "# 7) Random Forest"
   ]
  },
  {
   "cell_type": "code",
   "execution_count": 150,
   "metadata": {
    "execution": {
     "iopub.execute_input": "2020-08-30T12:08:23.005956Z",
     "iopub.status.busy": "2020-08-30T12:08:23.005137Z",
     "iopub.status.idle": "2020-08-30T12:08:23.118193Z",
     "shell.execute_reply": "2020-08-30T12:08:23.117476Z"
    },
    "papermill": {
     "duration": 0.149805,
     "end_time": "2020-08-30T12:08:23.118326",
     "exception": false,
     "start_time": "2020-08-30T12:08:22.968521",
     "status": "completed"
    },
    "tags": []
   },
   "outputs": [
    {
     "data": {
      "text/plain": [
       "RandomForestClassifier(max_depth=10, n_estimators=30, random_state=1)"
      ]
     },
     "execution_count": 150,
     "metadata": {},
     "output_type": "execute_result"
    }
   ],
   "source": [
    "#Fitting the model\n",
    "\n",
    "rfc = RandomForestClassifier(n_estimators=30,criterion='gini',random_state=1,max_depth=10)\n",
    "rfc.fit(x_train, y_train)"
   ]
  },
  {
   "cell_type": "code",
   "execution_count": 151,
   "metadata": {
    "execution": {
     "iopub.execute_input": "2020-08-30T12:08:23.183743Z",
     "iopub.status.busy": "2020-08-30T12:08:23.182657Z",
     "iopub.status.idle": "2020-08-30T12:08:23.194240Z",
     "shell.execute_reply": "2020-08-30T12:08:23.193511Z"
    },
    "papermill": {
     "duration": 0.04765,
     "end_time": "2020-08-30T12:08:23.194377",
     "exception": false,
     "start_time": "2020-08-30T12:08:23.146727",
     "status": "completed"
    },
    "tags": []
   },
   "outputs": [],
   "source": [
    "# Applying the model to the x_test\n",
    "\n",
    "pred_rf= rfc.predict(x_test)"
   ]
  },
  {
   "cell_type": "code",
   "execution_count": 152,
   "metadata": {
    "execution": {
     "iopub.execute_input": "2020-08-30T12:08:23.257141Z",
     "iopub.status.busy": "2020-08-30T12:08:23.256099Z",
     "iopub.status.idle": "2020-08-30T12:08:23.259472Z",
     "shell.execute_reply": "2020-08-30T12:08:23.258745Z"
    },
    "papermill": {
     "duration": 0.037057,
     "end_time": "2020-08-30T12:08:23.259602",
     "exception": false,
     "start_time": "2020-08-30T12:08:23.222545",
     "status": "completed"
    },
    "tags": []
   },
   "outputs": [],
   "source": [
    "# Finding Accuracy\n",
    "\n",
    "RFC = accuracy_score(y_test,pred_rf)*100"
   ]
  },
  {
   "cell_type": "code",
   "execution_count": 153,
   "metadata": {
    "execution": {
     "iopub.execute_input": "2020-08-30T12:08:23.322183Z",
     "iopub.status.busy": "2020-08-30T12:08:23.321065Z",
     "iopub.status.idle": "2020-08-30T12:08:23.327100Z",
     "shell.execute_reply": "2020-08-30T12:08:23.327999Z"
    },
    "papermill": {
     "duration": 0.040258,
     "end_time": "2020-08-30T12:08:23.328165",
     "exception": false,
     "start_time": "2020-08-30T12:08:23.287907",
     "status": "completed"
    },
    "tags": []
   },
   "outputs": [
    {
     "name": "stdout",
     "output_type": "stream",
     "text": [
      "[[369   2]\n",
      " [ 56  14]]\n"
     ]
    }
   ],
   "source": [
    "# Confusion Matrix\n",
    "\n",
    "cm_rf=confusion_matrix(y_test, pred_rf)\n",
    "print(cm_rf)"
   ]
  },
  {
   "cell_type": "code",
   "execution_count": 154,
   "metadata": {
    "execution": {
     "iopub.execute_input": "2020-08-30T12:08:23.391688Z",
     "iopub.status.busy": "2020-08-30T12:08:23.390596Z",
     "iopub.status.idle": "2020-08-30T12:08:23.401775Z",
     "shell.execute_reply": "2020-08-30T12:08:23.400913Z"
    },
    "papermill": {
     "duration": 0.045301,
     "end_time": "2020-08-30T12:08:23.401936",
     "exception": false,
     "start_time": "2020-08-30T12:08:23.356635",
     "status": "completed"
    },
    "tags": []
   },
   "outputs": [
    {
     "name": "stdout",
     "output_type": "stream",
     "text": [
      "              precision    recall  f1-score   support\n",
      "\n",
      "           0       0.87      0.99      0.93       371\n",
      "           1       0.88      0.20      0.33        70\n",
      "\n",
      "    accuracy                           0.87       441\n",
      "   macro avg       0.87      0.60      0.63       441\n",
      "weighted avg       0.87      0.87      0.83       441\n",
      "\n"
     ]
    }
   ],
   "source": [
    "# Classification Report that computes various \n",
    "# metrics like Precision, Recall and F1 Score\n",
    "\n",
    "print(classification_report(y_test, pred_rf))"
   ]
  },
  {
   "cell_type": "code",
   "execution_count": 155,
   "metadata": {
    "execution": {
     "iopub.execute_input": "2020-08-30T12:08:23.472191Z",
     "iopub.status.busy": "2020-08-30T12:08:23.471088Z",
     "iopub.status.idle": "2020-08-30T12:08:23.662911Z",
     "shell.execute_reply": "2020-08-30T12:08:23.662228Z"
    },
    "papermill": {
     "duration": 0.23202,
     "end_time": "2020-08-30T12:08:23.663042",
     "exception": false,
     "start_time": "2020-08-30T12:08:23.431022",
     "status": "completed"
    },
    "tags": []
   },
   "outputs": [
    {
     "data": {
      "image/png": "[encoded data removed]",
      "text/plain": [
       "<Figure size 432x288 with 1 Axes>"
      ]
     },
     "metadata": {
      "needs_background": "light"
     },
     "output_type": "display_data"
    }
   ],
   "source": [
    "# Plotting the ROC Curve\n",
    "\n",
    "prob_rfc= rfc.predict_proba(x_test)\n",
    "auc_rfc = roc_auc_score(y_test,prob_rfc[:,1])\n",
    "fprrfc,tprrfc,_= roc_curve(y_test,prob_rfc[:,1])\n",
    "roc_auc_rfc=auc(fprrfc,tprrfc)\n",
    "plt.plot(fprrfc,tprrfc,label = \"AUC = %.2f\" % auc_rfc)\n",
    "plt.xlabel(\"False Positive Rate\")\n",
    "plt.ylabel(\"True Positive Rate\")\n",
    "plt.title(\"ROC Curve for Random Forest\")\n",
    "plt.plot([0,1],[0,1],\"--\")\n",
    "plt.legend()\n",
    "plt.show()"
   ]
  },
  {
   "cell_type": "markdown",
   "metadata": {
    "papermill": {
     "duration": 0.028465,
     "end_time": "2020-08-30T12:08:23.720715",
     "exception": false,
     "start_time": "2020-08-30T12:08:23.692250",
     "status": "completed"
    },
    "tags": []
   },
   "source": [
    "# 8) AdaBoost (Entropy-Decision Tree)"
   ]
  },
  {
   "cell_type": "code",
   "execution_count": 156,
   "metadata": {
    "execution": {
     "iopub.execute_input": "2020-08-30T12:08:23.788639Z",
     "iopub.status.busy": "2020-08-30T12:08:23.787879Z",
     "iopub.status.idle": "2020-08-30T12:08:24.139262Z",
     "shell.execute_reply": "2020-08-30T12:08:24.140057Z"
    },
    "papermill": {
     "duration": 0.390209,
     "end_time": "2020-08-30T12:08:24.140223",
     "exception": false,
     "start_time": "2020-08-30T12:08:23.750014",
     "status": "completed"
    },
    "tags": []
   },
   "outputs": [
    {
     "data": {
      "text/plain": [
       "AdaBoostClassifier(base_estimator=DecisionTreeClassifier(criterion='entropy',\n",
       "                                                         max_depth=1,\n",
       "                                                         random_state=0),\n",
       "                   n_estimators=80, random_state=0)"
      ]
     },
     "execution_count": 156,
     "metadata": {},
     "output_type": "execute_result"
    }
   ],
   "source": [
    "#Fitting the model. Base model is chosen to be Decision Tree\n",
    "\n",
    "model = DecisionTreeClassifier(criterion='entropy',max_depth=1,random_state=0)\n",
    "adaboost = AdaBoostClassifier(n_estimators=80, base_estimator=model,random_state=0)\n",
    "adaboost.fit(x_train,y_train)"
   ]
  },
  {
   "cell_type": "code",
   "execution_count": 157,
   "metadata": {
    "execution": {
     "iopub.execute_input": "2020-08-30T12:08:24.207872Z",
     "iopub.status.busy": "2020-08-30T12:08:24.206602Z",
     "iopub.status.idle": "2020-08-30T12:08:24.234480Z",
     "shell.execute_reply": "2020-08-30T12:08:24.233827Z"
    },
    "papermill": {
     "duration": 0.064425,
     "end_time": "2020-08-30T12:08:24.234604",
     "exception": false,
     "start_time": "2020-08-30T12:08:24.170179",
     "status": "completed"
    },
    "tags": []
   },
   "outputs": [],
   "source": [
    "# Applying the model to the x_test\n",
    "\n",
    "pred = adaboost.predict(x_test)"
   ]
  },
  {
   "cell_type": "code",
   "execution_count": 158,
   "metadata": {
    "execution": {
     "iopub.execute_input": "2020-08-30T12:08:24.298551Z",
     "iopub.status.busy": "2020-08-30T12:08:24.297575Z",
     "iopub.status.idle": "2020-08-30T12:08:24.301426Z",
     "shell.execute_reply": "2020-08-30T12:08:24.300667Z"
    },
    "papermill": {
     "duration": 0.037811,
     "end_time": "2020-08-30T12:08:24.301564",
     "exception": false,
     "start_time": "2020-08-30T12:08:24.263753",
     "status": "completed"
    },
    "tags": []
   },
   "outputs": [],
   "source": [
    "# Finding Accuracy\n",
    "\n",
    "ada = accuracy_score(y_test,pred)*100"
   ]
  },
  {
   "cell_type": "code",
   "execution_count": 159,
   "metadata": {
    "execution": {
     "iopub.execute_input": "2020-08-30T12:08:24.366318Z",
     "iopub.status.busy": "2020-08-30T12:08:24.365274Z",
     "iopub.status.idle": "2020-08-30T12:08:24.377744Z",
     "shell.execute_reply": "2020-08-30T12:08:24.378580Z"
    },
    "papermill": {
     "duration": 0.047984,
     "end_time": "2020-08-30T12:08:24.378822",
     "exception": false,
     "start_time": "2020-08-30T12:08:24.330838",
     "status": "completed"
    },
    "tags": []
   },
   "outputs": [
    {
     "name": "stdout",
     "output_type": "stream",
     "text": [
      "[[356  15]\n",
      " [ 44  26]]\n",
      "              precision    recall  f1-score   support\n",
      "\n",
      "           0       0.89      0.96      0.92       371\n",
      "           1       0.63      0.37      0.47        70\n",
      "\n",
      "    accuracy                           0.87       441\n",
      "   macro avg       0.76      0.67      0.70       441\n",
      "weighted avg       0.85      0.87      0.85       441\n",
      "\n"
     ]
    }
   ],
   "source": [
    "# Confusion Matrix\n",
    "\n",
    "cm_ada=confusion_matrix(y_test,pred)\n",
    "print(cm_ada)\n",
    "\n",
    "# Classification Report that computes various \n",
    "# metrics like Precision, Recall and F1 Score\n",
    "\n",
    "print(classification_report(y_test,pred))"
   ]
  },
  {
   "cell_type": "code",
   "execution_count": 160,
   "metadata": {
    "execution": {
     "iopub.execute_input": "2020-08-30T12:08:24.449235Z",
     "iopub.status.busy": "2020-08-30T12:08:24.446321Z",
     "iopub.status.idle": "2020-08-30T12:08:24.661385Z",
     "shell.execute_reply": "2020-08-30T12:08:24.660695Z"
    },
    "papermill": {
     "duration": 0.252941,
     "end_time": "2020-08-30T12:08:24.661509",
     "exception": false,
     "start_time": "2020-08-30T12:08:24.408568",
     "status": "completed"
    },
    "tags": []
   },
   "outputs": [
    {
     "data": {
      "image/png": "[encoded data removed]",
      "text/plain": [
       "<Figure size 432x288 with 1 Axes>"
      ]
     },
     "metadata": {
      "needs_background": "light"
     },
     "output_type": "display_data"
    }
   ],
   "source": [
    "# Plotting the ROC Curve\n",
    "\n",
    "prob_adaboost= adaboost.predict_proba(x_test)\n",
    "auc_adaboost = roc_auc_score(y_test,prob_adaboost[:,1])\n",
    "fpradaboost,tpradaboost,_= roc_curve(y_test,prob_adaboost[:,1])\n",
    "roc_auc_adaboost=auc(fpradaboost,tpradaboost)\n",
    "plt.plot(fpradaboost,tpradaboost,label = \"AUC = %.2f\" % auc_adaboost)\n",
    "plt.xlabel(\"False Positive Rate\")\n",
    "plt.ylabel(\"True Positive Rate\")\n",
    "plt.title(\"ROC Curve for AdaBoost (Entropy-Decision Tree)\")\n",
    "plt.plot([0,1],[0,1],\"--\")\n",
    "plt.legend()\n",
    "plt.show()"
   ]
  },
  {
   "cell_type": "markdown",
   "metadata": {
    "papermill": {
     "duration": 0.046075,
     "end_time": "2020-08-30T12:08:24.737938",
     "exception": false,
     "start_time": "2020-08-30T12:08:24.691863",
     "status": "completed"
    },
    "tags": []
   },
   "source": [
    "# 9) XGBoost "
   ]
  },
  {
   "cell_type": "code",
   "execution_count": 161,
   "metadata": {
    "execution": {
     "iopub.execute_input": "2020-08-30T12:08:24.806062Z",
     "iopub.status.busy": "2020-08-30T12:08:24.805222Z",
     "iopub.status.idle": "2020-08-30T12:08:26.263937Z",
     "shell.execute_reply": "2020-08-30T12:08:26.264667Z"
    },
    "papermill": {
     "duration": 1.495779,
     "end_time": "2020-08-30T12:08:26.264860",
     "exception": false,
     "start_time": "2020-08-30T12:08:24.769081",
     "status": "completed"
    },
    "tags": []
   },
   "outputs": [
    {
     "name": "stderr",
     "output_type": "stream",
     "text": [
      "C:\\Users\\dines\\anaconda3\\lib\\site-packages\\xgboost\\sklearn.py:1146: UserWarning: The use of label encoder in XGBClassifier is deprecated and will be removed in a future release. To remove this warning, do the following: 1) Pass option use_label_encoder=False when constructing XGBClassifier object; and 2) Encode your labels (y) as integers starting with 0, i.e. 0, 1, 2, ..., [num_class - 1].\n",
      "  warnings.warn(label_encoder_deprecation_msg, UserWarning)\n"
     ]
    },
    {
     "name": "stdout",
     "output_type": "stream",
     "text": [
      "[21:04:10] WARNING: C:/Users/Administrator/workspace/xgboost-win64_release_1.4.0/src/learner.cc:1095: Starting in XGBoost 1.3.0, the default evaluation metric used with the objective 'binary:logistic' was changed from 'error' to 'logloss'. Explicitly set eval_metric if you'd like to restore the old behavior.\n"
     ]
    },
    {
     "data": {
      "text/plain": [
       "XGBClassifier(base_score=0.5, booster='gbtree', colsample_bylevel=1,\n",
       "              colsample_bynode=1, colsample_bytree=0.8, gamma=0, gpu_id=-1,\n",
       "              importance_type='gain', interaction_constraints='',\n",
       "              learning_rate=1e-06, max_delta_step=0, max_depth=5,\n",
       "              min_child_weight=1, missing=nan, monotone_constraints='()',\n",
       "              n_estimators=1000, n_jobs=4, nthread=4, num_parallel_tree=1,\n",
       "              random_state=27, reg_alpha=0, reg_lambda=1, scale_pos_weight=1,\n",
       "              seed=27, subsample=0.8, tree_method='exact',\n",
       "              validate_parameters=1, verbosity=None)"
      ]
     },
     "execution_count": 161,
     "metadata": {},
     "output_type": "execute_result"
    }
   ],
   "source": [
    "#Fitting the model\n",
    "\n",
    "xgb =  XGBClassifier(learning_rate =0.000001,n_estimators=1000,max_depth=5,min_child_weight=1,\n",
    "                     subsample=0.8,colsample_bytree=0.8,nthread=4,scale_pos_weight=1,seed=27)\n",
    "xgb.fit(x_train, y_train)"
   ]
  },
  {
   "cell_type": "code",
   "execution_count": 162,
   "metadata": {
    "execution": {
     "iopub.execute_input": "2020-08-30T12:08:26.344988Z",
     "iopub.status.busy": "2020-08-30T12:08:26.343875Z",
     "iopub.status.idle": "2020-08-30T12:08:26.358063Z",
     "shell.execute_reply": "2020-08-30T12:08:26.358869Z"
    },
    "papermill": {
     "duration": 0.058595,
     "end_time": "2020-08-30T12:08:26.359045",
     "exception": false,
     "start_time": "2020-08-30T12:08:26.300450",
     "status": "completed"
    },
    "tags": []
   },
   "outputs": [],
   "source": [
    "# Applying the model to the x_test\n",
    "\n",
    "\n",
    "predxg = xgb.predict(x_test)\n",
    "\n",
    "# Finding Accuracy\n",
    "xg = accuracy_score(y_test,predxg)*100\n"
   ]
  },
  {
   "cell_type": "code",
   "execution_count": 163,
   "metadata": {
    "execution": {
     "iopub.execute_input": "2020-08-30T12:08:26.441578Z",
     "iopub.status.busy": "2020-08-30T12:08:26.440345Z",
     "iopub.status.idle": "2020-08-30T12:08:26.451701Z",
     "shell.execute_reply": "2020-08-30T12:08:26.452675Z"
    },
    "papermill": {
     "duration": 0.057971,
     "end_time": "2020-08-30T12:08:26.452908",
     "exception": false,
     "start_time": "2020-08-30T12:08:26.394937",
     "status": "completed"
    },
    "tags": []
   },
   "outputs": [
    {
     "name": "stdout",
     "output_type": "stream",
     "text": [
      "[[365   6]\n",
      " [ 54  16]]\n",
      "              precision    recall  f1-score   support\n",
      "\n",
      "           0       0.87      0.98      0.92       371\n",
      "           1       0.73      0.23      0.35        70\n",
      "\n",
      "    accuracy                           0.86       441\n",
      "   macro avg       0.80      0.61      0.64       441\n",
      "weighted avg       0.85      0.86      0.83       441\n",
      "\n"
     ]
    }
   ],
   "source": [
    "# Confusion Matrix\n",
    "\n",
    "cm_xg=confusion_matrix(y_test, predxg)\n",
    "print(cm_xg)\n",
    "\n",
    "# Classification Report that computes various \n",
    "# metrics like Precision, Recall and F1 Score\n",
    "\n",
    "print(classification_report(y_test, predxg))"
   ]
  },
  {
   "cell_type": "code",
   "execution_count": 164,
   "metadata": {
    "execution": {
     "iopub.execute_input": "2020-08-30T12:08:26.682162Z",
     "iopub.status.busy": "2020-08-30T12:08:26.680973Z",
     "iopub.status.idle": "2020-08-30T12:08:26.901285Z",
     "shell.execute_reply": "2020-08-30T12:08:26.900674Z"
    },
    "papermill": {
     "duration": 0.404685,
     "end_time": "2020-08-30T12:08:26.901413",
     "exception": false,
     "start_time": "2020-08-30T12:08:26.496728",
     "status": "completed"
    },
    "tags": []
   },
   "outputs": [
    {
     "data": {
      "image/png": "[encoded data removed]",
      "text/plain": [
       "<Figure size 432x288 with 1 Axes>"
      ]
     },
     "metadata": {
      "needs_background": "light"
     },
     "output_type": "display_data"
    }
   ],
   "source": [
    "# Plotting the ROC Curve\n",
    "\n",
    "prob_xgb= xgb.predict_proba(x_test)\n",
    "auc_xgb = roc_auc_score(y_test,prob_xgb[:,1])\n",
    "fprxgb,tprxgb,_= roc_curve(y_test,prob_xgb[:,1])\n",
    "roc_auc_xgb=auc(fprxgb,tprxgb)\n",
    "plt.plot(fprxgb,tprxgb,label = \"AUC = %.2f\" % auc_xgb)\n",
    "plt.xlabel(\"False Positive Rate\")\n",
    "plt.ylabel(\"True Positive Rate\")\n",
    "plt.title(\"ROC Curve for XGBoost\")\n",
    "plt.plot([0,1],[0,1],\"--\")\n",
    "plt.legend()\n",
    "plt.show()"
   ]
  },
  {
   "cell_type": "markdown",
   "metadata": {
    "papermill": {
     "duration": 0.029599,
     "end_time": "2020-08-30T12:08:26.961149",
     "exception": false,
     "start_time": "2020-08-30T12:08:26.931550",
     "status": "completed"
    },
    "tags": []
   },
   "source": [
    "# Step 8: Choosing the Best model\n",
    "\n",
    "There are various ways to evaluate a classification model. Some of them are:\n",
    " \n",
    "1) Accuracy\n",
    "    \n",
    "2) AUC\n",
    "    \n",
    "3) ROC\n",
    "    \n",
    "4) f1 Score\n",
    "\n",
    "\n",
    "I am evaluating with all these metrics in order to find the best fit model\n",
    "\n",
    "# Confusion Matrix\n",
    "\n",
    "A confusion matrix is an N X N matrix, where N is the number of classes being predicted. Confusion Matrix gives us a matrix as output and describes the complete performance of the model.\n",
    "\n",
    "The correct predictions falls on the diagonal line of the matrix.\n",
    "\n",
    "4 important terms in Confusion Matrix:\n",
    "\n",
    "<b>True Positives</b>  : We predict YES and the actual output is also YES.\n",
    "\n",
    "<b>True Negatives</b>  : We predict NO and the actual output is NO.\n",
    "\n",
    "<b>False Positives(Type I Error)</b> : We predict YES but the actual output is NO.\n",
    "\n",
    "<b>False Negatives(Type II error)</b> : We predict NO but the actual output is YES.\n",
    "\n",
    "<b>The Confusion matrix in itself is not a performance measure, but almost all of the performance metrics are based on Confusion Matrix.\n"
   ]
  },
  {
   "cell_type": "markdown",
   "metadata": {
    "papermill": {
     "duration": 0.029613,
     "end_time": "2020-08-30T12:08:27.020592",
     "exception": false,
     "start_time": "2020-08-30T12:08:26.990979",
     "status": "completed"
    },
    "tags": []
   },
   "source": [
    "# 1) Accuracy"
   ]
  },
  {
   "cell_type": "code",
   "execution_count": 165,
   "metadata": {
    "execution": {
     "iopub.execute_input": "2020-08-30T12:08:27.091162Z",
     "iopub.status.busy": "2020-08-30T12:08:27.090234Z",
     "iopub.status.idle": "2020-08-30T12:08:27.094085Z",
     "shell.execute_reply": "2020-08-30T12:08:27.095101Z"
    },
    "papermill": {
     "duration": 0.044382,
     "end_time": "2020-08-30T12:08:27.095256",
     "exception": false,
     "start_time": "2020-08-30T12:08:27.050874",
     "status": "completed"
    },
    "tags": []
   },
   "outputs": [
    {
     "name": "stdout",
     "output_type": "stream",
     "text": [
      "1)  Logistic Regression    : 54.65\n",
      "2)  KNN                    : 84.13\n",
      "3)  Naive-Bayes            : 76.87\n"
     ]
    },
    {
     "ename": "TypeError",
     "evalue": "type ABCMeta doesn't define __round__ method",
     "output_type": "error",
     "traceback": [
      "\u001b[1;31m---------------------------------------------------------------------------\u001b[0m",
      "\u001b[1;31mTypeError\u001b[0m                                 Traceback (most recent call last)",
      "\u001b[1;32m<ipython-input-165-002e35665a66>\u001b[0m in \u001b[0;36m<module>\u001b[1;34m\u001b[0m\n\u001b[0;32m      3\u001b[0m \u001b[0mprint\u001b[0m\u001b[1;33m(\u001b[0m\u001b[1;34m\"2)  KNN                    :\"\u001b[0m\u001b[1;33m,\u001b[0m\u001b[0mround\u001b[0m\u001b[1;33m(\u001b[0m\u001b[0mKNN\u001b[0m\u001b[1;33m,\u001b[0m \u001b[1;36m2\u001b[0m\u001b[1;33m)\u001b[0m\u001b[1;33m)\u001b[0m\u001b[1;33m\u001b[0m\u001b[1;33m\u001b[0m\u001b[0m\n\u001b[0;32m      4\u001b[0m \u001b[0mprint\u001b[0m\u001b[1;33m(\u001b[0m\u001b[1;34m\"3)  Naive-Bayes            :\"\u001b[0m\u001b[1;33m,\u001b[0m\u001b[0mround\u001b[0m\u001b[1;33m(\u001b[0m\u001b[0mGNB\u001b[0m\u001b[1;33m,\u001b[0m \u001b[1;36m2\u001b[0m\u001b[1;33m)\u001b[0m\u001b[1;33m)\u001b[0m\u001b[1;33m\u001b[0m\u001b[1;33m\u001b[0m\u001b[0m\n\u001b[1;32m----> 5\u001b[1;33m \u001b[0mprint\u001b[0m\u001b[1;33m(\u001b[0m\u001b[1;34m\"4)  SVM                    :\"\u001b[0m\u001b[1;33m,\u001b[0m\u001b[0mround\u001b[0m\u001b[1;33m(\u001b[0m\u001b[0mSVC\u001b[0m\u001b[1;33m,\u001b[0m \u001b[1;36m2\u001b[0m\u001b[1;33m)\u001b[0m\u001b[1;33m)\u001b[0m\u001b[1;33m\u001b[0m\u001b[1;33m\u001b[0m\u001b[0m\n\u001b[0m\u001b[0;32m      6\u001b[0m \u001b[0mprint\u001b[0m\u001b[1;33m(\u001b[0m\u001b[1;34m\"5)  Decision Tree          :\"\u001b[0m\u001b[1;33m,\u001b[0m\u001b[0mround\u001b[0m\u001b[1;33m(\u001b[0m\u001b[0mDTREE\u001b[0m\u001b[1;33m,\u001b[0m \u001b[1;36m2\u001b[0m\u001b[1;33m)\u001b[0m\u001b[1;33m)\u001b[0m\u001b[1;33m\u001b[0m\u001b[1;33m\u001b[0m\u001b[0m\n\u001b[0;32m      7\u001b[0m \u001b[0mprint\u001b[0m\u001b[1;33m(\u001b[0m\u001b[1;34m\"6)  Gradient Boosting      :\"\u001b[0m\u001b[1;33m,\u001b[0m\u001b[0mround\u001b[0m\u001b[1;33m(\u001b[0m\u001b[0mgbc\u001b[0m\u001b[1;33m,\u001b[0m \u001b[1;36m2\u001b[0m\u001b[1;33m)\u001b[0m\u001b[1;33m)\u001b[0m\u001b[1;33m\u001b[0m\u001b[1;33m\u001b[0m\u001b[0m\n",
      "\u001b[1;31mTypeError\u001b[0m: type ABCMeta doesn't define __round__ method"
     ]
    }
   ],
   "source": [
    "# Accuracy values for all the models\n",
    "print(\"1)  Logistic Regression    :\",round(log, 2))\n",
    "print(\"2)  KNN                    :\",round(KNN, 2))\n",
    "print(\"3)  Naive-Bayes            :\",round(GNB, 2))\n",
    "print(\"4)  SVM                    :\",round(SVC, 2))\n",
    "print(\"5)  Decision Tree          :\",round(DTREE, 2))\n",
    "print(\"6)  Gradient Boosting      :\",round(gbc, 2))\n",
    "print(\"7)  Random Forest          :\",round(RFC, 2))\n",
    "print(\"8)  AdaBoost               :\",round(ada, 2))\n",
    "print(\"9)  XGBoost                :\",round(xg, 2))"
   ]
  },
  {
   "cell_type": "markdown",
   "metadata": {
    "papermill": {
     "duration": 0.029803,
     "end_time": "2020-08-30T12:08:27.155146",
     "exception": false,
     "start_time": "2020-08-30T12:08:27.125343",
     "status": "completed"
    },
    "tags": []
   },
   "source": [
    "\n",
    "Here, <b>Gradient Boosting has the highest accuracy rate.</b> But during Data visualization step, we observed that the <b>class distribution is Imbalanced</b>. The dataset has 80% samples of class 0 (the employee is not leaving their job) and 20% samples of class 1(The employee has decided to leave their job). This is the reason why most of the models are getting accuracy above 90% by simply predicting every training sample belonging to class 0. But, when we apply this model to a new test-set, then the <b>test accuracy would drop to less than 60%.</b>\n",
    "\n",
    "<b>In this case, Accuracy metric proves to be a poor indicator of model performance. Therefore, we need to consider other metrics before deciding the best model.</b>"
   ]
  },
  {
   "cell_type": "markdown",
   "metadata": {
    "papermill": {
     "duration": 0.029639,
     "end_time": "2020-08-30T12:08:27.222301",
     "exception": false,
     "start_time": "2020-08-30T12:08:27.192662",
     "status": "completed"
    },
    "tags": []
   },
   "source": [
    "# 2) Area Under Curve (AUC)"
   ]
  },
  {
   "cell_type": "code",
   "execution_count": null,
   "metadata": {
    "execution": {
     "iopub.execute_input": "2020-08-30T12:08:27.292722Z",
     "iopub.status.busy": "2020-08-30T12:08:27.291810Z",
     "iopub.status.idle": "2020-08-30T12:08:27.296291Z",
     "shell.execute_reply": "2020-08-30T12:08:27.295380Z"
    },
    "papermill": {
     "duration": 0.044308,
     "end_time": "2020-08-30T12:08:27.296463",
     "exception": false,
     "start_time": "2020-08-30T12:08:27.252155",
     "status": "completed"
    },
    "tags": []
   },
   "outputs": [],
   "source": [
    "# Area Under the Curve(AUC) of all the models\n",
    "print('Area under the curve for Logistic Regression :',round(roc_auc, 2))\n",
    "print('Area under the curve for KNN                 :',round(roc_auc_knn, 2))\n",
    "print('Area under the curve for Naive-Bayes         :',round(roc_auc_gnb, 2))\n",
    "print('Area under the curve for SVM                 :',round(roc_auc_svc, 2))\n",
    "print('Area under the curve for Decision Tree       :',round(roc_auc_dt, 2))\n",
    "print('Area under the curve for Gradient Boosting   :',round(roc_auc_GBC, 2))\n",
    "print('Area under the curve for Random Forest       :',round(roc_auc_rfc, 2))\n",
    "print('Area under the curve for AdaBoost            :',round(roc_auc_adaboost, 2))\n",
    "print('Area under the curve for XGBoost             :',round(roc_auc_xgb, 2))"
   ]
  },
  {
   "cell_type": "markdown",
   "metadata": {
    "papermill": {
     "duration": 0.030015,
     "end_time": "2020-08-30T12:08:27.357150",
     "exception": false,
     "start_time": "2020-08-30T12:08:27.327135",
     "status": "completed"
    },
    "tags": []
   },
   "source": [
    "The area under the curve (AUC), is an aggregated measure of performance of a binary classifier on all possible threshold values. AUC calculates the area under the ROC curve, and therefore it is between 0 and 1.<b> For any classifier, the higher the AUC of a model the better it is.\n",
    "\n",
    "\n",
    "Here, <b>Gradient Boosting </b> have the highest AUC value. Hence, based on the AUC values, Gradient Boosting is the best fit model."
   ]
  },
  {
   "cell_type": "markdown",
   "metadata": {
    "papermill": {
     "duration": 0.030211,
     "end_time": "2020-08-30T12:08:27.418146",
     "exception": false,
     "start_time": "2020-08-30T12:08:27.387935",
     "status": "completed"
    },
    "tags": []
   },
   "source": [
    "# 3) ROC Curve"
   ]
  },
  {
   "cell_type": "code",
   "execution_count": 166,
   "metadata": {
    "execution": {
     "iopub.execute_input": "2020-08-30T12:08:27.498715Z",
     "iopub.status.busy": "2020-08-30T12:08:27.492504Z",
     "iopub.status.idle": "2020-08-30T12:08:27.773321Z",
     "shell.execute_reply": "2020-08-30T12:08:27.772564Z"
    },
    "papermill": {
     "duration": 0.324379,
     "end_time": "2020-08-30T12:08:27.773448",
     "exception": false,
     "start_time": "2020-08-30T12:08:27.449069",
     "status": "completed"
    },
    "tags": []
   },
   "outputs": [
    {
     "data": {
      "image/png": "[encoded data removed]",
      "text/plain": [
       "<Figure size 1440x720 with 1 Axes>"
      ]
     },
     "metadata": {
      "needs_background": "light"
     },
     "output_type": "display_data"
    }
   ],
   "source": [
    "#ROC Curve for all models\n",
    "plt.figure(figsize = (20,10))\n",
    "plt.plot(fprlr,tprlr,label = \"Logistic Regression\")\n",
    "plt.plot(fprknn,tprknn,label = \"KNN\")\n",
    "plt.plot(fprgnb,tprgnb,label = \"Naive-Bayes\")\n",
    "plt.plot(fprsvc,tprsvc,label = \"SVM\")\n",
    "plt.plot(fprdt,tprdt,label = \"Decision Tree\")\n",
    "plt.plot(fprGBC,tprGBC,label = \"Gradient Boosting\",color='black')\n",
    "plt.plot(fprrfc,tprrfc,label = \"Random Forest\",color='yellow')\n",
    "plt.plot(fpradaboost,tpradaboost,label = \" AdaBoost\")\n",
    "plt.plot(fprxgb,tprxgb,label = \"XGBoost\")\n",
    "plt.xlim([0.0, 1.0])\n",
    "plt.ylim([0.0, 1.0])\n",
    "plt.rcParams['font.size'] = 12\n",
    "plt.title('ROC curve')\n",
    "plt.xlabel('False Positive Rate (1 - Specificity)')\n",
    "plt.ylabel('True Positive Rate (Sensitivity)')\n",
    "plt.legend(loc=\"lower right\", fontsize=10)\n",
    "plt.grid(True)"
   ]
  },
  {
   "cell_type": "markdown",
   "metadata": {
    "papermill": {
     "duration": 0.031071,
     "end_time": "2020-08-30T12:08:27.836265",
     "exception": false,
     "start_time": "2020-08-30T12:08:27.805194",
     "status": "completed"
    },
    "tags": []
   },
   "source": [
    "The <b>Receiver Operating Characteristic (ROC)</b> curve is plot which shows the performance of a binary classifier as function of its cut-off threshold. ROC curve is one of the most effective evaluation metrics because it visualizes the accuracy of predictions for a whole range of cutoff values. It essentially shows the true positive rate (TPR) against the false positive rate (FPR) for all possible threshold values. <b>A model is said to be the best model when the ROC is close to the upper left corner.</b>\n",
    "\n",
    "Looking at the ROC curve plot above, the <b>Naive-Bayes, has the curve that is closest to the upper left corner. Hence, based on the ROC plot, Naive-Bayes is the best fit model.</b>"
   ]
  },
  {
   "cell_type": "markdown",
   "metadata": {
    "papermill": {
     "duration": 0.03102,
     "end_time": "2020-08-30T12:08:27.898655",
     "exception": false,
     "start_time": "2020-08-30T12:08:27.867635",
     "status": "completed"
    },
    "tags": []
   },
   "source": [
    "# 4) F1-Score"
   ]
  },
  {
   "cell_type": "code",
   "execution_count": 167,
   "metadata": {
    "execution": {
     "iopub.execute_input": "2020-08-30T12:08:27.972654Z",
     "iopub.status.busy": "2020-08-30T12:08:27.971908Z",
     "iopub.status.idle": "2020-08-30T12:08:27.996550Z",
     "shell.execute_reply": "2020-08-30T12:08:27.995969Z"
    },
    "papermill": {
     "duration": 0.066399,
     "end_time": "2020-08-30T12:08:27.996683",
     "exception": false,
     "start_time": "2020-08-30T12:08:27.930284",
     "status": "completed"
    },
    "tags": []
   },
   "outputs": [
    {
     "name": "stdout",
     "output_type": "stream",
     "text": [
      "1)  Logistic Regression    : 0.32\n",
      "2)  KNN                    : 0.0\n",
      "3)  Naive-Bayes            : 0.49\n",
      "4)  SVM                    : 0.0\n",
      "5)  Decision Tree          : 0.36\n",
      "6)  Gradient Boosting      : 0.45\n",
      "7)  Random Forest          : 0.33\n",
      "8)  AdaBoost               : 0.47\n",
      "9)  XGBoost                : 0.35\n"
     ]
    }
   ],
   "source": [
    "# f1_score of all models\n",
    "print(\"1)  Logistic Regression    :\",round(f1_score(y_pred,y_test), 2))\n",
    "print(\"2)  KNN                    :\",round(f1_score(pred_knn,y_test), 2))\n",
    "print(\"3)  Naive-Bayes            :\",round(f1_score(pred_gnb,y_test), 2))\n",
    "print(\"4)  SVM                    :\",round(f1_score(pred_svc,y_test), 2))\n",
    "print(\"5)  Decision Tree          :\",round(f1_score(pred_dt,y_test), 2))\n",
    "print(\"6)  Gradient Boosting      :\",round(f1_score(Y_predict,y_test), 2))\n",
    "print(\"7)  Random Forest          :\",round(f1_score(pred_rf,y_test), 2))\n",
    "print(\"8)  AdaBoost               :\",round(f1_score(pred,y_test), 2))\n",
    "print(\"9)  XGBoost                :\",round(f1_score(predxg,y_test), 2))"
   ]
  },
  {
   "cell_type": "markdown",
   "metadata": {
    "papermill": {
     "duration": 0.031227,
     "end_time": "2020-08-30T12:08:28.059512",
     "exception": false,
     "start_time": "2020-08-30T12:08:28.028285",
     "status": "completed"
    },
    "tags": []
   },
   "source": [
    "<b>Precision</b>           - It is the number of True Positive divided by the number of positive results predicted by the classifier.\n",
    "\n",
    "<b>Recall/ Sensitivity</b> - It is the number of True Positives divided by the number of all relevant samples\n",
    "\n",
    "<b>F1 Score</b>            - F1 Score is the Harmonic Mean between precision and recall.\n",
    "\n",
    "F1 Score tells how precise the classifier is (how many values it classifies correctly).\n",
    "\n",
    "<b>The greater the F1 Score, the better is the performance of our model.</b>\n",
    "\n",
    "\n",
    "Here, <b>Naive-Bayes</b> has the highest f1_score. Hence, based on the f1_score, Naive-Bayes is the best fit model."
   ]
  },
  {
   "cell_type": "markdown",
   "metadata": {
    "papermill": {
     "duration": 0.031086,
     "end_time": "2020-08-30T12:08:28.122016",
     "exception": false,
     "start_time": "2020-08-30T12:08:28.090930",
     "status": "completed"
    },
    "tags": []
   },
   "source": [
    "# 5)Type I Error"
   ]
  },
  {
   "cell_type": "code",
   "execution_count": 168,
   "metadata": {
    "execution": {
     "iopub.execute_input": "2020-08-30T12:08:28.195513Z",
     "iopub.status.busy": "2020-08-30T12:08:28.194596Z",
     "iopub.status.idle": "2020-08-30T12:08:28.198113Z",
     "shell.execute_reply": "2020-08-30T12:08:28.198973Z"
    },
    "papermill": {
     "duration": 0.045758,
     "end_time": "2020-08-30T12:08:28.199195",
     "exception": false,
     "start_time": "2020-08-30T12:08:28.153437",
     "status": "completed"
    },
    "tags": []
   },
   "outputs": [
    {
     "name": "stdout",
     "output_type": "stream",
     "text": [
      "1)  Logistic Regression    : 23\n",
      "2)  KNN                    : 70\n",
      "3)  Naive-Bayes            : 21\n",
      "4)  SVM                    : 70\n",
      "5)  Decision Tree          : 49\n",
      "6)  Gradient Boosting      : 9\n",
      "7)  Random Forest          : 2\n",
      "8)  AdaBoost               : 15\n",
      "9)  XGBoost                : 6\n"
     ]
    }
   ],
   "source": [
    "#Accessing the False Positives of all models from their confusion Matrix\n",
    "print(\"1)  Logistic Regression    :\",cmlr[0][1])\n",
    "print(\"2)  KNN                    :\",cm_knn[0][1])\n",
    "print(\"3)  Naive-Bayes            :\",cm_gnb[0][1])\n",
    "print(\"4)  SVM                    :\",cm_svc[0][1])\n",
    "print(\"5)  Decision Tree          :\",cm_dt[0][1])\n",
    "print(\"6)  Gradient Boosting      :\",cm_gbc[0][1])\n",
    "print(\"7)  Random Forest          :\",cm_rf[0][1])\n",
    "print(\"8)  AdaBoost               :\",cm_ada[0][1])\n",
    "print(\"9)  XGBoost                :\",cm_xg[0][1])"
   ]
  },
  {
   "cell_type": "markdown",
   "metadata": {
    "papermill": {
     "duration": 0.031058,
     "end_time": "2020-08-30T12:08:28.262543",
     "exception": false,
     "start_time": "2020-08-30T12:08:28.231485",
     "status": "completed"
    },
    "tags": []
   },
   "source": [
    "False Positives(Type I Error) occurs when we incorrectly reject a true hypothesis.<b>Lower the value of False Positives, better is the model</b>. This is because, while predicting, <b>if we predict that an employee is not going to leave the job, but later he/she actually leaves the job, then this kind of wrong prediction could further increase Attrition Rate to an alarming range.</b>\n",
    "\n",
    "The False Positives(Type I Error) for all the models can be accessed from the confusion matrix.\n",
    "\n",
    "\n",
    "<b>Gradient Boosting algorithm has the least number of False Positives(Type I Error). Hence, based on the False Positives(Type I Error), Gradient Boosting is the best fit model.</b>"
   ]
  },
  {
   "cell_type": "markdown",
   "metadata": {
    "papermill": {
     "duration": 0.031103,
     "end_time": "2020-08-30T12:08:28.324837",
     "exception": false,
     "start_time": "2020-08-30T12:08:28.293734",
     "status": "completed"
    },
    "tags": []
   },
   "source": [
    "# Step 9: Finalizing the Best Model\n",
    "\n",
    "After all the comparison using 5 different metrics:\n",
    "\n",
    "when considering the metrics AUC, ROC and Type I error, Gradient Boosting is found to be the best model.\n",
    "\n",
    "when considering the metrics Accuracy and F1 Score, Random Forest is found to be the best model.\n",
    "\n",
    "# Finally, <u><b>Gradient Boosting</b></u> algorithm proves to be the best model for the Employee Attrition.\n"
   ]
  }
 ],
 "metadata": {
  "kernelspec": {
   "display_name": "Python 3",
   "language": "python",
   "name": "python3"
  },
  "language_info": {
   "codemirror_mode": {
    "name": "ipython",
    "version": 3
   },
   "file_extension": ".py",
   "mimetype": "text/x-python",
   "name": "python",
   "nbconvert_exporter": "python",
   "pygments_lexer": "ipython3",
   "version": "3.8.5"
  },
  "papermill": {
   "duration": 21.68462,
   "end_time": "2020-08-30T12:08:28.527844",
   "environment_variables": {},
   "exception": null,
   "input_path": "__notebook__.ipynb",
   "output_path": "__notebook__.ipynb",
   "parameters": {},
   "start_time": "2020-08-30T12:08:06.843224",
   "version": "2.1.0"
  }
 },
 "nbformat": 4,
 "nbformat_minor": 4
}
